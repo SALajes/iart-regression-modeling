{
 "cells": [
  {
   "cell_type": "markdown",
   "metadata": {},
   "source": [
    "# Imports"
   ]
  },
  {
   "cell_type": "code",
   "execution_count": 30,
   "metadata": {},
   "outputs": [],
   "source": [
    "import pandas as pd\n",
    "from datetime import datetime\n",
    "from datetime import timedelta\n",
    "%matplotlib inline\n",
    "%reload_ext watermark\n",
    "import matplotlib.pyplot as plt\n",
    "import matplotlib.dates as mdates\n",
    "import numpy as np\n",
    "import seaborn as sb\n",
    "from IPython.display import display\n",
    "from sklearn.neighbors import KNeighborsRegressor\n",
    "import sklearn as sk\n",
    "import sklearn.neural_network as sknn\n",
    "from sklearn.model_selection import train_test_split\n",
    "\n"
   ]
  },
  {
   "cell_type": "markdown",
   "metadata": {},
   "source": [
    "# Data\n",
    "\n",
    "In this section we load both datasets we use, COVID-19 dataset and countries population dataset , clean the data and add some new columns.  \n",
    "\n",
    "The datasets we use are:\n",
    "\n",
    "* https://www.kaggle.com/imdevskp/corona-virus-report for the COVID-19 dataset\n",
    "\n",
    "* https://www.kaggle.com/tanuprabhu/population-by-country-2020 for population information per country\n"
   ]
  },
  {
   "cell_type": "markdown",
   "metadata": {},
   "source": [
    "## COVID-19 Dataset"
   ]
  },
  {
   "cell_type": "code",
   "execution_count": 31,
   "metadata": {},
   "outputs": [
    {
     "output_type": "execute_result",
     "data": {
      "text/plain": "      Province/State Country/Region      Lat      Long       Date  Confirmed  \\\n1557                       Dominica  15.4150  -61.3710 2020-01-27          0   \n29303                      Malaysia   2.5000  112.5000 2020-05-11       6726   \n1817                      Venezuela   6.4238  -66.5897 2020-01-28          0   \n5849                        Bahrain  26.0275   50.5500 2020-02-13          0   \n13323       Shandong          China  36.3427  118.1498 2020-03-12        760   \n18763                        Turkey  38.9637   35.2433 2020-04-01      15679   \n\n       Deaths  Recovered  Active  \n1557        0          0       0  \n29303     109       5113    1504  \n1817        0          0       0  \n5849        0          0       0  \n13323       6        734      20  \n18763     277        333   15069  ",
      "text/html": "<div>\n<style scoped>\n    .dataframe tbody tr th:only-of-type {\n        vertical-align: middle;\n    }\n\n    .dataframe tbody tr th {\n        vertical-align: top;\n    }\n\n    .dataframe thead th {\n        text-align: right;\n    }\n</style>\n<table border=\"1\" class=\"dataframe\">\n  <thead>\n    <tr style=\"text-align: right;\">\n      <th></th>\n      <th>Province/State</th>\n      <th>Country/Region</th>\n      <th>Lat</th>\n      <th>Long</th>\n      <th>Date</th>\n      <th>Confirmed</th>\n      <th>Deaths</th>\n      <th>Recovered</th>\n      <th>Active</th>\n    </tr>\n  </thead>\n  <tbody>\n    <tr>\n      <th>1557</th>\n      <td></td>\n      <td>Dominica</td>\n      <td>15.4150</td>\n      <td>-61.3710</td>\n      <td>2020-01-27</td>\n      <td>0</td>\n      <td>0</td>\n      <td>0</td>\n      <td>0</td>\n    </tr>\n    <tr>\n      <th>29303</th>\n      <td></td>\n      <td>Malaysia</td>\n      <td>2.5000</td>\n      <td>112.5000</td>\n      <td>2020-05-11</td>\n      <td>6726</td>\n      <td>109</td>\n      <td>5113</td>\n      <td>1504</td>\n    </tr>\n    <tr>\n      <th>1817</th>\n      <td></td>\n      <td>Venezuela</td>\n      <td>6.4238</td>\n      <td>-66.5897</td>\n      <td>2020-01-28</td>\n      <td>0</td>\n      <td>0</td>\n      <td>0</td>\n      <td>0</td>\n    </tr>\n    <tr>\n      <th>5849</th>\n      <td></td>\n      <td>Bahrain</td>\n      <td>26.0275</td>\n      <td>50.5500</td>\n      <td>2020-02-13</td>\n      <td>0</td>\n      <td>0</td>\n      <td>0</td>\n      <td>0</td>\n    </tr>\n    <tr>\n      <th>13323</th>\n      <td>Shandong</td>\n      <td>China</td>\n      <td>36.3427</td>\n      <td>118.1498</td>\n      <td>2020-03-12</td>\n      <td>760</td>\n      <td>6</td>\n      <td>734</td>\n      <td>20</td>\n    </tr>\n    <tr>\n      <th>18763</th>\n      <td></td>\n      <td>Turkey</td>\n      <td>38.9637</td>\n      <td>35.2433</td>\n      <td>2020-04-01</td>\n      <td>15679</td>\n      <td>277</td>\n      <td>333</td>\n      <td>15069</td>\n    </tr>\n  </tbody>\n</table>\n</div>"
     },
     "metadata": {},
     "execution_count": 31
    }
   ],
   "source": [
    "# Loading datasets\n",
    "\n",
    "full_table = pd.read_csv('datasets/covid_19_clean_complete.csv', \n",
    "                          na_values=['NaN'],\n",
    "                          parse_dates=['Date'])\n",
    "\n",
    "# Adding Active cases column\n",
    "full_table['Active'] = (full_table['Confirmed'] - full_table['Deaths'] - full_table['Recovered']).apply(lambda x: x if x >= 0 else 0)\n",
    "\n",
    "# filling missing values\n",
    "full_table[['Province/State']] = full_table[['Province/State']].fillna('')\n",
    "full_table[['Confirmed','Deaths','Recovered','Active']] = full_table[['Confirmed','Deaths','Recovered','Active']].fillna(0)\n",
    "\n",
    "full_table.sample(6)\n"
   ]
  },
  {
   "cell_type": "markdown",
   "metadata": {},
   "source": [
    "## Population Dataset\n"
   ]
  },
  {
   "cell_type": "code",
   "execution_count": 32,
   "metadata": {},
   "outputs": [],
   "source": [
    "pop_table = pd.read_csv('datasets/population_by_country_2020.csv',\n",
    "                        na_values=['N.A.'])\n",
    "\n",
    "\n",
    "# Selecting only the Country and Population columns\n",
    "pop_table = pop_table.iloc[:,[0,1,4,9]]\n",
    "\n",
    "\n",
    "\n",
    "# Renaming columns\n",
    "pop_table.columns = ['Country/Region', 'Population', 'Population Density (P/Km²)','Urban Population %']\n",
    "\n",
    "# Most of the entries with urban population as NaN in the population dataset that we are going to use have 100% as of 2020\n",
    "pop_table[['Urban Population %']] = pop_table[['Urban Population %']].fillna('100 %')\n",
    "pop_table['Urban Population %'] = pop_table['Urban Population %'].map(lambda x: int(x.split(' ')[0]))\n"
   ]
  },
  {
   "cell_type": "code",
   "execution_count": 33,
   "metadata": {},
   "outputs": [
    {
     "output_type": "stream",
     "name": "stdout",
     "text": "<class 'pandas.core.frame.DataFrame'>\nRangeIndex: 235 entries, 0 to 234\nData columns (total 4 columns):\n #   Column                      Non-Null Count  Dtype \n---  ------                      --------------  ----- \n 0   Country/Region              235 non-null    object\n 1   Population                  235 non-null    int64 \n 2   Population Density (P/Km²)  235 non-null    int64 \n 3   Urban Population %          235 non-null    int64 \ndtypes: int64(3), object(1)\nmemory usage: 7.5+ KB\n"
    },
    {
     "output_type": "execute_result",
     "data": {
      "text/plain": "Country/Region                0\nPopulation                    0\nPopulation Density (P/Km²)    0\nUrban Population %            0\ndtype: int64"
     },
     "metadata": {},
     "execution_count": 33
    }
   ],
   "source": [
    "pop_table.info()\n",
    "pop_table.isna().sum()"
   ]
  },
  {
   "cell_type": "markdown",
   "metadata": {},
   "source": [
    "## Removing ship data\n",
    "\n",
    "The dataset also includes data from the various ships that had COVID19 outbreaks. Since we only need the information per country we removed it from the dataset."
   ]
  },
  {
   "cell_type": "code",
   "execution_count": 34,
   "metadata": {},
   "outputs": [
    {
     "output_type": "execute_result",
     "data": {
      "text/plain": "         Province/State    Country/Region  Lat  Long       Date  Confirmed  \\\n2738                     Diamond Princess  0.0   0.0 2020-02-01          0   \n8711   Diamond Princess            Canada  0.0   0.0 2020-02-23          0   \n30441  Diamond Princess            Canada  0.0   0.0 2020-05-15          1   \n13868                    Diamond Princess  0.0   0.0 2020-03-14        706   \n31786                          MS Zaandam  0.0   0.0 2020-05-20          9   \n24896                          MS Zaandam  0.0   0.0 2020-04-24          9   \n\n       Deaths  Recovered  Active  \n2738        0          0       0  \n8711        0          0       0  \n30441       1          0       0  \n13868       7        325     374  \n31786       2          0       7  \n24896       2          0       7  ",
      "text/html": "<div>\n<style scoped>\n    .dataframe tbody tr th:only-of-type {\n        vertical-align: middle;\n    }\n\n    .dataframe tbody tr th {\n        vertical-align: top;\n    }\n\n    .dataframe thead th {\n        text-align: right;\n    }\n</style>\n<table border=\"1\" class=\"dataframe\">\n  <thead>\n    <tr style=\"text-align: right;\">\n      <th></th>\n      <th>Province/State</th>\n      <th>Country/Region</th>\n      <th>Lat</th>\n      <th>Long</th>\n      <th>Date</th>\n      <th>Confirmed</th>\n      <th>Deaths</th>\n      <th>Recovered</th>\n      <th>Active</th>\n    </tr>\n  </thead>\n  <tbody>\n    <tr>\n      <th>2738</th>\n      <td></td>\n      <td>Diamond Princess</td>\n      <td>0.0</td>\n      <td>0.0</td>\n      <td>2020-02-01</td>\n      <td>0</td>\n      <td>0</td>\n      <td>0</td>\n      <td>0</td>\n    </tr>\n    <tr>\n      <th>8711</th>\n      <td>Diamond Princess</td>\n      <td>Canada</td>\n      <td>0.0</td>\n      <td>0.0</td>\n      <td>2020-02-23</td>\n      <td>0</td>\n      <td>0</td>\n      <td>0</td>\n      <td>0</td>\n    </tr>\n    <tr>\n      <th>30441</th>\n      <td>Diamond Princess</td>\n      <td>Canada</td>\n      <td>0.0</td>\n      <td>0.0</td>\n      <td>2020-05-15</td>\n      <td>1</td>\n      <td>1</td>\n      <td>0</td>\n      <td>0</td>\n    </tr>\n    <tr>\n      <th>13868</th>\n      <td></td>\n      <td>Diamond Princess</td>\n      <td>0.0</td>\n      <td>0.0</td>\n      <td>2020-03-14</td>\n      <td>706</td>\n      <td>7</td>\n      <td>325</td>\n      <td>374</td>\n    </tr>\n    <tr>\n      <th>31786</th>\n      <td></td>\n      <td>MS Zaandam</td>\n      <td>0.0</td>\n      <td>0.0</td>\n      <td>2020-05-20</td>\n      <td>9</td>\n      <td>2</td>\n      <td>0</td>\n      <td>7</td>\n    </tr>\n    <tr>\n      <th>24896</th>\n      <td></td>\n      <td>MS Zaandam</td>\n      <td>0.0</td>\n      <td>0.0</td>\n      <td>2020-04-24</td>\n      <td>9</td>\n      <td>2</td>\n      <td>0</td>\n      <td>7</td>\n    </tr>\n  </tbody>\n</table>\n</div>"
     },
     "metadata": {},
     "execution_count": 34
    }
   ],
   "source": [
    "# ship rows\n",
    "ship_rows = full_table['Province/State'].str.contains('Grand Princess') | full_table['Province/State'].str.contains('Diamond Princess') | full_table['Country/Region'].str.contains('Diamond Princess') | full_table['Country/Region'].str.contains('MS Zaandam')\n",
    "\n",
    "# ship\n",
    "ship = full_table[ship_rows]\n",
    "\n",
    "# dropping ship rows \n",
    "full_table = full_table[~(ship_rows)]\n",
    "\n",
    "ship.sample(6)\n"
   ]
  },
  {
   "cell_type": "markdown",
   "metadata": {},
   "source": [
    "## Fixing country names\n",
    "\n",
    "\n",
    "### Fixing mismatched names between datasets\n",
    "\n",
    "Here we manually set the names so that the join between datasets works.\n"
   ]
  },
  {
   "cell_type": "code",
   "execution_count": 35,
   "metadata": {},
   "outputs": [],
   "source": [
    "fix_name_only = {\n",
    "    'Sao Tome & Principe': 'Sao Tome and Principe',\n",
    "    \"Côte d'Ivoire\": \"Cote d'Ivoire\",\n",
    "    \"United States\": \"US\",\n",
    "    \"Czech Republic (Czechia)\": 'Czechia',\n",
    "    'Myanmar': 'Burma',\n",
    "    'Taiwan': 'Taiwan*',\n",
    "    'Saint Kitts & Nevis': 'Saint Kitts and Nevis',\n",
    "    'Macao' : 'Macau'\n",
    "}\n",
    "\n",
    "for original,new in fix_name_only.items():\n",
    "    full_table.loc[full_table['Country/Region'] == new, 'Country/Region'] = original\n",
    "    full_table.loc[full_table['Province/State'] == new, 'Province/State'] = original\n",
    "\n",
    "missing_countries = set(full_table['Country/Region']).difference(set(pop_table['Country/Region']))\n",
    "\n",
    "# # print(sorted(pop_table['Country/Region'].unique()))\n",
    "# if len(missing_countries) != 0:\n",
    "#     print(missing_countries)\n"
   ]
  },
  {
   "cell_type": "markdown",
   "metadata": {},
   "source": [
    "### Replacing Country/Region with Province/State\n",
    "\n",
    "The population dataset has entries for autonomous regions, for example Greenland. Here we rewrite the Country/Region column with the Province/State name so we can easily join the population dataset. For example, Greenland exists in the population dataset so what we do is replace Denmark (the Country column of Greenland) with Greenland."
   ]
  },
  {
   "cell_type": "code",
   "execution_count": 36,
   "metadata": {},
   "outputs": [],
   "source": [
    "\n",
    "province_set = set(full_table['Province/State']).intersection(set(pop_table['Country/Region']))\n",
    "\n",
    "no_data = set(['Saint Vincent and the Grenadines','Kosovo','Congo','West Bank and Gaza'])\n",
    "\n",
    "for province in province_set:\n",
    "    if province in no_data:\n",
    "        continue\n",
    "    full_table.loc[ full_table['Province/State'] == province,'Country/Region'] = province \n",
    "\n"
   ]
  },
  {
   "cell_type": "code",
   "execution_count": 37,
   "metadata": {},
   "outputs": [
    {
     "output_type": "execute_result",
     "data": {
      "text/plain": "Province/State    0\nCountry/Region    0\nLat               0\nLong              0\nDate              0\nConfirmed         0\nDeaths            0\nRecovered         0\nActive            0\ndtype: int64"
     },
     "metadata": {},
     "execution_count": 37
    }
   ],
   "source": [
    "# Check for null values\n",
    "full_table.isna().sum()"
   ]
  },
  {
   "cell_type": "markdown",
   "metadata": {},
   "source": [
    "## Grouping data\n",
    "\n",
    "Here we are grouping data by Date and Country so we can add population and cases per million afterwards."
   ]
  },
  {
   "cell_type": "markdown",
   "metadata": {},
   "source": [
    "### Group by Country"
   ]
  },
  {
   "cell_type": "code",
   "execution_count": 38,
   "metadata": {},
   "outputs": [
    {
     "output_type": "execute_result",
     "data": {
      "text/plain": "  Country/Region   Lat  Long       Date  Confirmed  Deaths  Recovered  Active\n0    Afghanistan  33.0  65.0 2020-01-22          0       0          0       0\n1    Afghanistan  33.0  65.0 2020-01-23          0       0          0       0\n2    Afghanistan  33.0  65.0 2020-01-24          0       0          0       0\n3    Afghanistan  33.0  65.0 2020-01-25          0       0          0       0\n4    Afghanistan  33.0  65.0 2020-01-26          0       0          0       0",
      "text/html": "<div>\n<style scoped>\n    .dataframe tbody tr th:only-of-type {\n        vertical-align: middle;\n    }\n\n    .dataframe tbody tr th {\n        vertical-align: top;\n    }\n\n    .dataframe thead th {\n        text-align: right;\n    }\n</style>\n<table border=\"1\" class=\"dataframe\">\n  <thead>\n    <tr style=\"text-align: right;\">\n      <th></th>\n      <th>Country/Region</th>\n      <th>Lat</th>\n      <th>Long</th>\n      <th>Date</th>\n      <th>Confirmed</th>\n      <th>Deaths</th>\n      <th>Recovered</th>\n      <th>Active</th>\n    </tr>\n  </thead>\n  <tbody>\n    <tr>\n      <th>0</th>\n      <td>Afghanistan</td>\n      <td>33.0</td>\n      <td>65.0</td>\n      <td>2020-01-22</td>\n      <td>0</td>\n      <td>0</td>\n      <td>0</td>\n      <td>0</td>\n    </tr>\n    <tr>\n      <th>1</th>\n      <td>Afghanistan</td>\n      <td>33.0</td>\n      <td>65.0</td>\n      <td>2020-01-23</td>\n      <td>0</td>\n      <td>0</td>\n      <td>0</td>\n      <td>0</td>\n    </tr>\n    <tr>\n      <th>2</th>\n      <td>Afghanistan</td>\n      <td>33.0</td>\n      <td>65.0</td>\n      <td>2020-01-24</td>\n      <td>0</td>\n      <td>0</td>\n      <td>0</td>\n      <td>0</td>\n    </tr>\n    <tr>\n      <th>3</th>\n      <td>Afghanistan</td>\n      <td>33.0</td>\n      <td>65.0</td>\n      <td>2020-01-25</td>\n      <td>0</td>\n      <td>0</td>\n      <td>0</td>\n      <td>0</td>\n    </tr>\n    <tr>\n      <th>4</th>\n      <td>Afghanistan</td>\n      <td>33.0</td>\n      <td>65.0</td>\n      <td>2020-01-26</td>\n      <td>0</td>\n      <td>0</td>\n      <td>0</td>\n      <td>0</td>\n    </tr>\n  </tbody>\n</table>\n</div>"
     },
     "metadata": {},
     "execution_count": 38
    }
   ],
   "source": [
    "full_grouped = full_table.groupby(['Country/Region','Lat','Long','Date'])['Confirmed','Deaths','Recovered','Active'].sum().reset_index()\n",
    "# full_grouped = full_table.groupby(['Country/Region','Date'])['Confirmed','Deaths','Recovered','Active'].sum().reset_index()\n",
    "\n",
    "full_grouped.head()"
   ]
  },
  {
   "cell_type": "markdown",
   "metadata": {},
   "source": [
    "### Adding population\n",
    "In this section, we merge both datasets by Country/Region."
   ]
  },
  {
   "cell_type": "code",
   "execution_count": 39,
   "metadata": {},
   "outputs": [
    {
     "output_type": "execute_result",
     "data": {
      "text/plain": "      Country/Region   Lat  Long       Date  Confirmed  Deaths  Recovered  \\\n0        Afghanistan  33.0  65.0 2020-01-22          0       0          0   \n1        Afghanistan  33.0  65.0 2020-01-23          0       0          0   \n2        Afghanistan  33.0  65.0 2020-01-24          0       0          0   \n3        Afghanistan  33.0  65.0 2020-01-25          0       0          0   \n4        Afghanistan  33.0  65.0 2020-01-26          0       0          0   \n...              ...   ...   ...        ...        ...     ...        ...   \n30971       Zimbabwe -20.0  30.0 2020-05-17         44       4         17   \n30972       Zimbabwe -20.0  30.0 2020-05-18         46       4         18   \n30973       Zimbabwe -20.0  30.0 2020-05-19         46       4         18   \n30974       Zimbabwe -20.0  30.0 2020-05-20         48       4         18   \n30975       Zimbabwe -20.0  30.0 2020-05-21         51       4         18   \n\n       Active  Population  Population Density (P/Km²)  Urban Population %  \n0           0    38742911                          60                  25  \n1           0    38742911                          60                  25  \n2           0    38742911                          60                  25  \n3           0    38742911                          60                  25  \n4           0    38742911                          60                  25  \n...       ...         ...                         ...                 ...  \n30971      23    14818157                          38                  38  \n30972      24    14818157                          38                  38  \n30973      24    14818157                          38                  38  \n30974      26    14818157                          38                  38  \n30975      29    14818157                          38                  38  \n\n[30976 rows x 11 columns]",
      "text/html": "<div>\n<style scoped>\n    .dataframe tbody tr th:only-of-type {\n        vertical-align: middle;\n    }\n\n    .dataframe tbody tr th {\n        vertical-align: top;\n    }\n\n    .dataframe thead th {\n        text-align: right;\n    }\n</style>\n<table border=\"1\" class=\"dataframe\">\n  <thead>\n    <tr style=\"text-align: right;\">\n      <th></th>\n      <th>Country/Region</th>\n      <th>Lat</th>\n      <th>Long</th>\n      <th>Date</th>\n      <th>Confirmed</th>\n      <th>Deaths</th>\n      <th>Recovered</th>\n      <th>Active</th>\n      <th>Population</th>\n      <th>Population Density (P/Km²)</th>\n      <th>Urban Population %</th>\n    </tr>\n  </thead>\n  <tbody>\n    <tr>\n      <th>0</th>\n      <td>Afghanistan</td>\n      <td>33.0</td>\n      <td>65.0</td>\n      <td>2020-01-22</td>\n      <td>0</td>\n      <td>0</td>\n      <td>0</td>\n      <td>0</td>\n      <td>38742911</td>\n      <td>60</td>\n      <td>25</td>\n    </tr>\n    <tr>\n      <th>1</th>\n      <td>Afghanistan</td>\n      <td>33.0</td>\n      <td>65.0</td>\n      <td>2020-01-23</td>\n      <td>0</td>\n      <td>0</td>\n      <td>0</td>\n      <td>0</td>\n      <td>38742911</td>\n      <td>60</td>\n      <td>25</td>\n    </tr>\n    <tr>\n      <th>2</th>\n      <td>Afghanistan</td>\n      <td>33.0</td>\n      <td>65.0</td>\n      <td>2020-01-24</td>\n      <td>0</td>\n      <td>0</td>\n      <td>0</td>\n      <td>0</td>\n      <td>38742911</td>\n      <td>60</td>\n      <td>25</td>\n    </tr>\n    <tr>\n      <th>3</th>\n      <td>Afghanistan</td>\n      <td>33.0</td>\n      <td>65.0</td>\n      <td>2020-01-25</td>\n      <td>0</td>\n      <td>0</td>\n      <td>0</td>\n      <td>0</td>\n      <td>38742911</td>\n      <td>60</td>\n      <td>25</td>\n    </tr>\n    <tr>\n      <th>4</th>\n      <td>Afghanistan</td>\n      <td>33.0</td>\n      <td>65.0</td>\n      <td>2020-01-26</td>\n      <td>0</td>\n      <td>0</td>\n      <td>0</td>\n      <td>0</td>\n      <td>38742911</td>\n      <td>60</td>\n      <td>25</td>\n    </tr>\n    <tr>\n      <th>...</th>\n      <td>...</td>\n      <td>...</td>\n      <td>...</td>\n      <td>...</td>\n      <td>...</td>\n      <td>...</td>\n      <td>...</td>\n      <td>...</td>\n      <td>...</td>\n      <td>...</td>\n      <td>...</td>\n    </tr>\n    <tr>\n      <th>30971</th>\n      <td>Zimbabwe</td>\n      <td>-20.0</td>\n      <td>30.0</td>\n      <td>2020-05-17</td>\n      <td>44</td>\n      <td>4</td>\n      <td>17</td>\n      <td>23</td>\n      <td>14818157</td>\n      <td>38</td>\n      <td>38</td>\n    </tr>\n    <tr>\n      <th>30972</th>\n      <td>Zimbabwe</td>\n      <td>-20.0</td>\n      <td>30.0</td>\n      <td>2020-05-18</td>\n      <td>46</td>\n      <td>4</td>\n      <td>18</td>\n      <td>24</td>\n      <td>14818157</td>\n      <td>38</td>\n      <td>38</td>\n    </tr>\n    <tr>\n      <th>30973</th>\n      <td>Zimbabwe</td>\n      <td>-20.0</td>\n      <td>30.0</td>\n      <td>2020-05-19</td>\n      <td>46</td>\n      <td>4</td>\n      <td>18</td>\n      <td>24</td>\n      <td>14818157</td>\n      <td>38</td>\n      <td>38</td>\n    </tr>\n    <tr>\n      <th>30974</th>\n      <td>Zimbabwe</td>\n      <td>-20.0</td>\n      <td>30.0</td>\n      <td>2020-05-20</td>\n      <td>48</td>\n      <td>4</td>\n      <td>18</td>\n      <td>26</td>\n      <td>14818157</td>\n      <td>38</td>\n      <td>38</td>\n    </tr>\n    <tr>\n      <th>30975</th>\n      <td>Zimbabwe</td>\n      <td>-20.0</td>\n      <td>30.0</td>\n      <td>2020-05-21</td>\n      <td>51</td>\n      <td>4</td>\n      <td>18</td>\n      <td>29</td>\n      <td>14818157</td>\n      <td>38</td>\n      <td>38</td>\n    </tr>\n  </tbody>\n</table>\n<p>30976 rows × 11 columns</p>\n</div>"
     },
     "metadata": {},
     "execution_count": 39
    }
   ],
   "source": [
    "full_grouped = pd.merge(full_grouped,pop_table,on=['Country/Region'])\n",
    "\n",
    "full_grouped"
   ]
  },
  {
   "cell_type": "markdown",
   "metadata": {},
   "source": [
    "### World Data"
   ]
  },
  {
   "cell_type": "code",
   "execution_count": 40,
   "metadata": {},
   "outputs": [
    {
     "output_type": "execute_result",
     "data": {
      "text/plain": "        Date  Confirmed  Deaths  Recovered  Active   Population\n0 2020-01-22        555      17         28     510  51733396749\n1 2020-01-23        654      18         30     606  51733396749\n2 2020-01-24        941      26         35     880  51733396749\n3 2020-01-25       1434      42         38    1354  51733396749\n4 2020-01-26       2118      56         51    2011  51733396749",
      "text/html": "<div>\n<style scoped>\n    .dataframe tbody tr th:only-of-type {\n        vertical-align: middle;\n    }\n\n    .dataframe tbody tr th {\n        vertical-align: top;\n    }\n\n    .dataframe thead th {\n        text-align: right;\n    }\n</style>\n<table border=\"1\" class=\"dataframe\">\n  <thead>\n    <tr style=\"text-align: right;\">\n      <th></th>\n      <th>Date</th>\n      <th>Confirmed</th>\n      <th>Deaths</th>\n      <th>Recovered</th>\n      <th>Active</th>\n      <th>Population</th>\n    </tr>\n  </thead>\n  <tbody>\n    <tr>\n      <th>0</th>\n      <td>2020-01-22</td>\n      <td>555</td>\n      <td>17</td>\n      <td>28</td>\n      <td>510</td>\n      <td>51733396749</td>\n    </tr>\n    <tr>\n      <th>1</th>\n      <td>2020-01-23</td>\n      <td>654</td>\n      <td>18</td>\n      <td>30</td>\n      <td>606</td>\n      <td>51733396749</td>\n    </tr>\n    <tr>\n      <th>2</th>\n      <td>2020-01-24</td>\n      <td>941</td>\n      <td>26</td>\n      <td>35</td>\n      <td>880</td>\n      <td>51733396749</td>\n    </tr>\n    <tr>\n      <th>3</th>\n      <td>2020-01-25</td>\n      <td>1434</td>\n      <td>42</td>\n      <td>38</td>\n      <td>1354</td>\n      <td>51733396749</td>\n    </tr>\n    <tr>\n      <th>4</th>\n      <td>2020-01-26</td>\n      <td>2118</td>\n      <td>56</td>\n      <td>51</td>\n      <td>2011</td>\n      <td>51733396749</td>\n    </tr>\n  </tbody>\n</table>\n</div>"
     },
     "metadata": {},
     "execution_count": 40
    }
   ],
   "source": [
    "world_data = full_grouped.groupby(['Date'])['Confirmed','Deaths','Recovered','Active','Population'].sum().reset_index()\n",
    "world_data.loc[world_data['Date'] == world_data['Date'].max()]\n",
    "world_data.head()"
   ]
  },
  {
   "cell_type": "code",
   "execution_count": 41,
   "metadata": {},
   "outputs": [
    {
     "output_type": "stream",
     "name": "stdout",
     "text": "<class 'pandas.core.frame.DataFrame'>\nInt64Index: 30976 entries, 0 to 30975\nData columns (total 11 columns):\n #   Column                      Non-Null Count  Dtype         \n---  ------                      --------------  -----         \n 0   Country/Region              30976 non-null  object        \n 1   Lat                         30976 non-null  float64       \n 2   Long                        30976 non-null  float64       \n 3   Date                        30976 non-null  datetime64[ns]\n 4   Confirmed                   30976 non-null  int64         \n 5   Deaths                      30976 non-null  int64         \n 6   Recovered                   30976 non-null  int64         \n 7   Active                      30976 non-null  int64         \n 8   Population                  30976 non-null  int64         \n 9   Population Density (P/Km²)  30976 non-null  int64         \n 10  Urban Population %          30976 non-null  int64         \ndtypes: datetime64[ns](1), float64(2), int64(7), object(1)\nmemory usage: 2.8+ MB\n"
    },
    {
     "output_type": "execute_result",
     "data": {
      "text/plain": "array([], dtype=object)"
     },
     "metadata": {},
     "execution_count": 41
    }
   ],
   "source": [
    "# Check information on types and null values\n",
    "full_grouped.info()\n",
    "full_grouped.loc[full_grouped['Urban Population %'].isnull()]['Country/Region'].unique()\n"
   ]
  },
  {
   "cell_type": "code",
   "execution_count": 42,
   "metadata": {},
   "outputs": [
    {
     "output_type": "execute_result",
     "data": {
      "text/plain": "      Country/Region      Lat      Long       Date  Confirmed  Deaths  \\\n8935           China  31.8257  117.2264 2020-05-03        991       6   \n23102          Niger  17.6078    8.0817 2020-05-13        860      49   \n18063         Jordan  31.2400   36.5100 2020-02-25          0       0   \n13684         France -21.1351   55.2471 2020-02-02          0       0   \n22505    Netherlands  12.1696  -68.9900 2020-05-21         16       1   \n11924        Denmark  56.2639    9.5018 2020-03-28       2201      65   \n\n       Recovered  Active  Population  Population Density (P/Km²)  \\\n8935         985       0  1438207241                         153   \n23102        658     153    24014064                          19   \n18063          0       0    10182442                         115   \n13684          0       0    65244628                         119   \n22505         14       1    17127290                         508   \n11924          1    2135     5788108                         137   \n\n       Urban Population %  \n8935                   61  \n23102                  17  \n18063                  91  \n13684                  82  \n22505                  92  \n11924                  88  ",
      "text/html": "<div>\n<style scoped>\n    .dataframe tbody tr th:only-of-type {\n        vertical-align: middle;\n    }\n\n    .dataframe tbody tr th {\n        vertical-align: top;\n    }\n\n    .dataframe thead th {\n        text-align: right;\n    }\n</style>\n<table border=\"1\" class=\"dataframe\">\n  <thead>\n    <tr style=\"text-align: right;\">\n      <th></th>\n      <th>Country/Region</th>\n      <th>Lat</th>\n      <th>Long</th>\n      <th>Date</th>\n      <th>Confirmed</th>\n      <th>Deaths</th>\n      <th>Recovered</th>\n      <th>Active</th>\n      <th>Population</th>\n      <th>Population Density (P/Km²)</th>\n      <th>Urban Population %</th>\n    </tr>\n  </thead>\n  <tbody>\n    <tr>\n      <th>8935</th>\n      <td>China</td>\n      <td>31.8257</td>\n      <td>117.2264</td>\n      <td>2020-05-03</td>\n      <td>991</td>\n      <td>6</td>\n      <td>985</td>\n      <td>0</td>\n      <td>1438207241</td>\n      <td>153</td>\n      <td>61</td>\n    </tr>\n    <tr>\n      <th>23102</th>\n      <td>Niger</td>\n      <td>17.6078</td>\n      <td>8.0817</td>\n      <td>2020-05-13</td>\n      <td>860</td>\n      <td>49</td>\n      <td>658</td>\n      <td>153</td>\n      <td>24014064</td>\n      <td>19</td>\n      <td>17</td>\n    </tr>\n    <tr>\n      <th>18063</th>\n      <td>Jordan</td>\n      <td>31.2400</td>\n      <td>36.5100</td>\n      <td>2020-02-25</td>\n      <td>0</td>\n      <td>0</td>\n      <td>0</td>\n      <td>0</td>\n      <td>10182442</td>\n      <td>115</td>\n      <td>91</td>\n    </tr>\n    <tr>\n      <th>13684</th>\n      <td>France</td>\n      <td>-21.1351</td>\n      <td>55.2471</td>\n      <td>2020-02-02</td>\n      <td>0</td>\n      <td>0</td>\n      <td>0</td>\n      <td>0</td>\n      <td>65244628</td>\n      <td>119</td>\n      <td>82</td>\n    </tr>\n    <tr>\n      <th>22505</th>\n      <td>Netherlands</td>\n      <td>12.1696</td>\n      <td>-68.9900</td>\n      <td>2020-05-21</td>\n      <td>16</td>\n      <td>1</td>\n      <td>14</td>\n      <td>1</td>\n      <td>17127290</td>\n      <td>508</td>\n      <td>92</td>\n    </tr>\n    <tr>\n      <th>11924</th>\n      <td>Denmark</td>\n      <td>56.2639</td>\n      <td>9.5018</td>\n      <td>2020-03-28</td>\n      <td>2201</td>\n      <td>65</td>\n      <td>1</td>\n      <td>2135</td>\n      <td>5788108</td>\n      <td>137</td>\n      <td>88</td>\n    </tr>\n  </tbody>\n</table>\n</div>"
     },
     "metadata": {},
     "execution_count": 42
    }
   ],
   "source": [
    "full_grouped.sample(6)"
   ]
  },
  {
   "cell_type": "markdown",
   "metadata": {},
   "source": [
    "### Calculating Cases per Million of People\n",
    "\n",
    "\n"
   ]
  },
  {
   "cell_type": "code",
   "execution_count": 43,
   "metadata": {},
   "outputs": [
    {
     "output_type": "execute_result",
     "data": {
      "text/plain": "  Country/Region   Lat  Long       Date  Confirmed  Deaths  Recovered  Active  \\\n0    Afghanistan  33.0  65.0 2020-01-22          0       0          0       0   \n1    Afghanistan  33.0  65.0 2020-01-23          0       0          0       0   \n2    Afghanistan  33.0  65.0 2020-01-24          0       0          0       0   \n3    Afghanistan  33.0  65.0 2020-01-25          0       0          0       0   \n4    Afghanistan  33.0  65.0 2020-01-26          0       0          0       0   \n\n   Population  Population Density (P/Km²)  Urban Population %  \\\n0    38742911                          60                  25   \n1    38742911                          60                  25   \n2    38742911                          60                  25   \n3    38742911                          60                  25   \n4    38742911                          60                  25   \n\n   Confirmed per million  Deaths per million  Recovered per million  \\\n0                    0.0                 0.0                    0.0   \n1                    0.0                 0.0                    0.0   \n2                    0.0                 0.0                    0.0   \n3                    0.0                 0.0                    0.0   \n4                    0.0                 0.0                    0.0   \n\n   Active per million  \n0                 0.0  \n1                 0.0  \n2                 0.0  \n3                 0.0  \n4                 0.0  ",
      "text/html": "<div>\n<style scoped>\n    .dataframe tbody tr th:only-of-type {\n        vertical-align: middle;\n    }\n\n    .dataframe tbody tr th {\n        vertical-align: top;\n    }\n\n    .dataframe thead th {\n        text-align: right;\n    }\n</style>\n<table border=\"1\" class=\"dataframe\">\n  <thead>\n    <tr style=\"text-align: right;\">\n      <th></th>\n      <th>Country/Region</th>\n      <th>Lat</th>\n      <th>Long</th>\n      <th>Date</th>\n      <th>Confirmed</th>\n      <th>Deaths</th>\n      <th>Recovered</th>\n      <th>Active</th>\n      <th>Population</th>\n      <th>Population Density (P/Km²)</th>\n      <th>Urban Population %</th>\n      <th>Confirmed per million</th>\n      <th>Deaths per million</th>\n      <th>Recovered per million</th>\n      <th>Active per million</th>\n    </tr>\n  </thead>\n  <tbody>\n    <tr>\n      <th>0</th>\n      <td>Afghanistan</td>\n      <td>33.0</td>\n      <td>65.0</td>\n      <td>2020-01-22</td>\n      <td>0</td>\n      <td>0</td>\n      <td>0</td>\n      <td>0</td>\n      <td>38742911</td>\n      <td>60</td>\n      <td>25</td>\n      <td>0.0</td>\n      <td>0.0</td>\n      <td>0.0</td>\n      <td>0.0</td>\n    </tr>\n    <tr>\n      <th>1</th>\n      <td>Afghanistan</td>\n      <td>33.0</td>\n      <td>65.0</td>\n      <td>2020-01-23</td>\n      <td>0</td>\n      <td>0</td>\n      <td>0</td>\n      <td>0</td>\n      <td>38742911</td>\n      <td>60</td>\n      <td>25</td>\n      <td>0.0</td>\n      <td>0.0</td>\n      <td>0.0</td>\n      <td>0.0</td>\n    </tr>\n    <tr>\n      <th>2</th>\n      <td>Afghanistan</td>\n      <td>33.0</td>\n      <td>65.0</td>\n      <td>2020-01-24</td>\n      <td>0</td>\n      <td>0</td>\n      <td>0</td>\n      <td>0</td>\n      <td>38742911</td>\n      <td>60</td>\n      <td>25</td>\n      <td>0.0</td>\n      <td>0.0</td>\n      <td>0.0</td>\n      <td>0.0</td>\n    </tr>\n    <tr>\n      <th>3</th>\n      <td>Afghanistan</td>\n      <td>33.0</td>\n      <td>65.0</td>\n      <td>2020-01-25</td>\n      <td>0</td>\n      <td>0</td>\n      <td>0</td>\n      <td>0</td>\n      <td>38742911</td>\n      <td>60</td>\n      <td>25</td>\n      <td>0.0</td>\n      <td>0.0</td>\n      <td>0.0</td>\n      <td>0.0</td>\n    </tr>\n    <tr>\n      <th>4</th>\n      <td>Afghanistan</td>\n      <td>33.0</td>\n      <td>65.0</td>\n      <td>2020-01-26</td>\n      <td>0</td>\n      <td>0</td>\n      <td>0</td>\n      <td>0</td>\n      <td>38742911</td>\n      <td>60</td>\n      <td>25</td>\n      <td>0.0</td>\n      <td>0.0</td>\n      <td>0.0</td>\n      <td>0.0</td>\n    </tr>\n  </tbody>\n</table>\n</div>"
     },
     "metadata": {},
     "execution_count": 43
    }
   ],
   "source": [
    "\n",
    "def calc_permillion(df):\n",
    "    df['Confirmed per million'] = round((df['Confirmed'] / df['Population']) * 1000000)\n",
    "    df['Deaths per million']    = round((df['Deaths'] / df['Population']) * 1000000)\n",
    "    df['Recovered per million'] = round((df['Recovered'] / df['Population']) * 1000000)\n",
    "    df['Active per million']    = round((df['Active'] / df['Population']) * 1000000)\n",
    "    return df\n",
    "\n",
    "\n",
    "per_million = calc_permillion(full_grouped)\n",
    "\n",
    "per_million.head()"
   ]
  },
  {
   "cell_type": "markdown",
   "metadata": {},
   "source": [
    "### Value Truncation\n",
    "\n",
    "Since the COVID-19 dataset only has data from  22nd of January of 2020 onwards, we will define Date from here moving foward as days since the 22nd of January of 2020."
   ]
  },
  {
   "cell_type": "code",
   "execution_count": 44,
   "metadata": {},
   "outputs": [
    {
     "output_type": "execute_result",
     "data": {
      "text/plain": "Timestamp('2020-01-22 00:00:00')"
     },
     "metadata": {},
     "execution_count": 44
    }
   ],
   "source": [
    "per_million['Date'].min()"
   ]
  },
  {
   "cell_type": "markdown",
   "metadata": {},
   "source": [
    "This function does that:"
   ]
  },
  {
   "cell_type": "code",
   "execution_count": 45,
   "metadata": {},
   "outputs": [],
   "source": [
    "def daysSinceJan(d):\n",
    "    return d.toordinal() - datetime(2020,1,20).toordinal()\n",
    "\n",
    "def revertdaysSince(d):\n",
    "    return datetime(2020,1,20) + timedelta(days=d)"
   ]
  },
  {
   "cell_type": "code",
   "execution_count": 46,
   "metadata": {},
   "outputs": [],
   "source": [
    "per_million['Date'] = per_million['Date'].map(daysSinceJan)"
   ]
  },
  {
   "cell_type": "code",
   "execution_count": 47,
   "metadata": {},
   "outputs": [
    {
     "output_type": "execute_result",
     "data": {
      "text/plain": "    Country/Region      Lat     Long  Date  Confirmed  Deaths  Recovered  \\\n0      Afghanistan  33.0000  65.0000     2          0       0          0   \n121        Albania  41.1533  20.1683     2          0       0          0   \n242        Algeria  28.0339   1.6596     2          0       0          0   \n363        Andorra  42.5063   1.5218     2          0       0          0   \n484         Angola -11.2027  17.8739     2          0       0          0   \n\n     Active  Population  Population Density (P/Km²)  Urban Population %  \\\n0         0    38742911                          60                  25   \n121       0     2878420                         105                  63   \n242       0    43685618                          18                  73   \n363       0       77240                         164                  88   \n484       0    32644783                          26                  67   \n\n     Confirmed per million  Deaths per million  Recovered per million  \\\n0                      0.0                 0.0                    0.0   \n121                    0.0                 0.0                    0.0   \n242                    0.0                 0.0                    0.0   \n363                    0.0                 0.0                    0.0   \n484                    0.0                 0.0                    0.0   \n\n     Active per million  \n0                   0.0  \n121                 0.0  \n242                 0.0  \n363                 0.0  \n484                 0.0  ",
      "text/html": "<div>\n<style scoped>\n    .dataframe tbody tr th:only-of-type {\n        vertical-align: middle;\n    }\n\n    .dataframe tbody tr th {\n        vertical-align: top;\n    }\n\n    .dataframe thead th {\n        text-align: right;\n    }\n</style>\n<table border=\"1\" class=\"dataframe\">\n  <thead>\n    <tr style=\"text-align: right;\">\n      <th></th>\n      <th>Country/Region</th>\n      <th>Lat</th>\n      <th>Long</th>\n      <th>Date</th>\n      <th>Confirmed</th>\n      <th>Deaths</th>\n      <th>Recovered</th>\n      <th>Active</th>\n      <th>Population</th>\n      <th>Population Density (P/Km²)</th>\n      <th>Urban Population %</th>\n      <th>Confirmed per million</th>\n      <th>Deaths per million</th>\n      <th>Recovered per million</th>\n      <th>Active per million</th>\n    </tr>\n  </thead>\n  <tbody>\n    <tr>\n      <th>0</th>\n      <td>Afghanistan</td>\n      <td>33.0000</td>\n      <td>65.0000</td>\n      <td>2</td>\n      <td>0</td>\n      <td>0</td>\n      <td>0</td>\n      <td>0</td>\n      <td>38742911</td>\n      <td>60</td>\n      <td>25</td>\n      <td>0.0</td>\n      <td>0.0</td>\n      <td>0.0</td>\n      <td>0.0</td>\n    </tr>\n    <tr>\n      <th>121</th>\n      <td>Albania</td>\n      <td>41.1533</td>\n      <td>20.1683</td>\n      <td>2</td>\n      <td>0</td>\n      <td>0</td>\n      <td>0</td>\n      <td>0</td>\n      <td>2878420</td>\n      <td>105</td>\n      <td>63</td>\n      <td>0.0</td>\n      <td>0.0</td>\n      <td>0.0</td>\n      <td>0.0</td>\n    </tr>\n    <tr>\n      <th>242</th>\n      <td>Algeria</td>\n      <td>28.0339</td>\n      <td>1.6596</td>\n      <td>2</td>\n      <td>0</td>\n      <td>0</td>\n      <td>0</td>\n      <td>0</td>\n      <td>43685618</td>\n      <td>18</td>\n      <td>73</td>\n      <td>0.0</td>\n      <td>0.0</td>\n      <td>0.0</td>\n      <td>0.0</td>\n    </tr>\n    <tr>\n      <th>363</th>\n      <td>Andorra</td>\n      <td>42.5063</td>\n      <td>1.5218</td>\n      <td>2</td>\n      <td>0</td>\n      <td>0</td>\n      <td>0</td>\n      <td>0</td>\n      <td>77240</td>\n      <td>164</td>\n      <td>88</td>\n      <td>0.0</td>\n      <td>0.0</td>\n      <td>0.0</td>\n      <td>0.0</td>\n    </tr>\n    <tr>\n      <th>484</th>\n      <td>Angola</td>\n      <td>-11.2027</td>\n      <td>17.8739</td>\n      <td>2</td>\n      <td>0</td>\n      <td>0</td>\n      <td>0</td>\n      <td>0</td>\n      <td>32644783</td>\n      <td>26</td>\n      <td>67</td>\n      <td>0.0</td>\n      <td>0.0</td>\n      <td>0.0</td>\n      <td>0.0</td>\n    </tr>\n  </tbody>\n</table>\n</div>"
     },
     "metadata": {},
     "execution_count": 47
    }
   ],
   "source": [
    "per_million =  per_million.sort_values(['Date','Country/Region'],ascending=[True, True])\n",
    "per_million.head()"
   ]
  },
  {
   "cell_type": "code",
   "execution_count": 48,
   "metadata": {},
   "outputs": [
    {
     "output_type": "execute_result",
     "data": {
      "text/plain": "<matplotlib.axes._subplots.AxesSubplot at 0x7f5b7f02ce50>"
     },
     "metadata": {},
     "execution_count": 48
    },
    {
     "output_type": "display_data",
     "data": {
      "text/plain": "<Figure size 432x288 with 1 Axes>",
      "image/svg+xml": "<?xml version=\"1.0\" encoding=\"utf-8\" standalone=\"no\"?>\n<!DOCTYPE svg PUBLIC \"-//W3C//DTD SVG 1.1//EN\"\n  \"http://www.w3.org/Graphics/SVG/1.1/DTD/svg11.dtd\">\n<!-- Created with matplotlib (https://matplotlib.org/) -->\n<svg height=\"272.794688pt\" version=\"1.1\" viewBox=\"0 0 376.240625 272.794688\" width=\"376.240625pt\" xmlns=\"http://www.w3.org/2000/svg\" xmlns:xlink=\"http://www.w3.org/1999/xlink\">\n <defs>\n  <style type=\"text/css\">\n*{stroke-linecap:butt;stroke-linejoin:round;}\n  </style>\n </defs>\n <g id=\"figure_1\">\n  <g id=\"patch_1\">\n   <path d=\"M 0 272.794688 \nL 376.240625 272.794688 \nL 376.240625 0 \nL 0 0 \nz\n\" style=\"fill:none;\"/>\n  </g>\n  <g id=\"axes_1\">\n   <g id=\"patch_2\">\n    <path d=\"M 34.240625 235.238438 \nL 369.040625 235.238438 \nL 369.040625 17.798438 \nL 34.240625 17.798438 \nz\n\" style=\"fill:#ffffff;\"/>\n   </g>\n   <g id=\"matplotlib.axis_1\">\n    <g id=\"xtick_1\">\n     <g id=\"line2d_1\">\n      <defs>\n       <path d=\"M 0 0 \nL 0 3.5 \n\" id=\"m81666f0a89\" style=\"stroke:#000000;stroke-width:0.8;\"/>\n      </defs>\n      <g>\n       <use style=\"stroke:#000000;stroke-width:0.8;\" x=\"74.822443\" xlink:href=\"#m81666f0a89\" y=\"235.238438\"/>\n      </g>\n     </g>\n     <g id=\"text_1\">\n      <!-- 2020-02-01 -->\n      <defs>\n       <path d=\"M 19.1875 8.296875 \nL 53.609375 8.296875 \nL 53.609375 0 \nL 7.328125 0 \nL 7.328125 8.296875 \nQ 12.9375 14.109375 22.625 23.890625 \nQ 32.328125 33.6875 34.8125 36.53125 \nQ 39.546875 41.84375 41.421875 45.53125 \nQ 43.3125 49.21875 43.3125 52.78125 \nQ 43.3125 58.59375 39.234375 62.25 \nQ 35.15625 65.921875 28.609375 65.921875 \nQ 23.96875 65.921875 18.8125 64.3125 \nQ 13.671875 62.703125 7.8125 59.421875 \nL 7.8125 69.390625 \nQ 13.765625 71.78125 18.9375 73 \nQ 24.125 74.21875 28.421875 74.21875 \nQ 39.75 74.21875 46.484375 68.546875 \nQ 53.21875 62.890625 53.21875 53.421875 \nQ 53.21875 48.921875 51.53125 44.890625 \nQ 49.859375 40.875 45.40625 35.40625 \nQ 44.1875 33.984375 37.640625 27.21875 \nQ 31.109375 20.453125 19.1875 8.296875 \nz\n\" id=\"DejaVuSans-50\"/>\n       <path d=\"M 31.78125 66.40625 \nQ 24.171875 66.40625 20.328125 58.90625 \nQ 16.5 51.421875 16.5 36.375 \nQ 16.5 21.390625 20.328125 13.890625 \nQ 24.171875 6.390625 31.78125 6.390625 \nQ 39.453125 6.390625 43.28125 13.890625 \nQ 47.125 21.390625 47.125 36.375 \nQ 47.125 51.421875 43.28125 58.90625 \nQ 39.453125 66.40625 31.78125 66.40625 \nz\nM 31.78125 74.21875 \nQ 44.046875 74.21875 50.515625 64.515625 \nQ 56.984375 54.828125 56.984375 36.375 \nQ 56.984375 17.96875 50.515625 8.265625 \nQ 44.046875 -1.421875 31.78125 -1.421875 \nQ 19.53125 -1.421875 13.0625 8.265625 \nQ 6.59375 17.96875 6.59375 36.375 \nQ 6.59375 54.828125 13.0625 64.515625 \nQ 19.53125 74.21875 31.78125 74.21875 \nz\n\" id=\"DejaVuSans-48\"/>\n       <path d=\"M 4.890625 31.390625 \nL 31.203125 31.390625 \nL 31.203125 23.390625 \nL 4.890625 23.390625 \nz\n\" id=\"DejaVuSans-45\"/>\n       <path d=\"M 12.40625 8.296875 \nL 28.515625 8.296875 \nL 28.515625 63.921875 \nL 10.984375 60.40625 \nL 10.984375 69.390625 \nL 28.421875 72.90625 \nL 38.28125 72.90625 \nL 38.28125 8.296875 \nL 54.390625 8.296875 \nL 54.390625 0 \nL 12.40625 0 \nz\n\" id=\"DejaVuSans-49\"/>\n      </defs>\n      <g transform=\"translate(45.764631 249.836875)scale(0.1 -0.1)\">\n       <use xlink:href=\"#DejaVuSans-50\"/>\n       <use x=\"63.623047\" xlink:href=\"#DejaVuSans-48\"/>\n       <use x=\"127.246094\" xlink:href=\"#DejaVuSans-50\"/>\n       <use x=\"190.869141\" xlink:href=\"#DejaVuSans-48\"/>\n       <use x=\"254.492188\" xlink:href=\"#DejaVuSans-45\"/>\n       <use x=\"290.576172\" xlink:href=\"#DejaVuSans-48\"/>\n       <use x=\"354.199219\" xlink:href=\"#DejaVuSans-50\"/>\n       <use x=\"417.822266\" xlink:href=\"#DejaVuSans-45\"/>\n       <use x=\"453.90625\" xlink:href=\"#DejaVuSans-48\"/>\n       <use x=\"517.529297\" xlink:href=\"#DejaVuSans-49\"/>\n      </g>\n     </g>\n    </g>\n    <g id=\"xtick_2\">\n     <g id=\"line2d_2\">\n      <g>\n       <use style=\"stroke:#000000;stroke-width:0.8;\" x=\"110.331534\" xlink:href=\"#m81666f0a89\" y=\"235.238438\"/>\n      </g>\n     </g>\n     <g id=\"text_2\">\n      <!-- 2020-02-15 -->\n      <defs>\n       <path d=\"M 10.796875 72.90625 \nL 49.515625 72.90625 \nL 49.515625 64.59375 \nL 19.828125 64.59375 \nL 19.828125 46.734375 \nQ 21.96875 47.46875 24.109375 47.828125 \nQ 26.265625 48.1875 28.421875 48.1875 \nQ 40.625 48.1875 47.75 41.5 \nQ 54.890625 34.8125 54.890625 23.390625 \nQ 54.890625 11.625 47.5625 5.09375 \nQ 40.234375 -1.421875 26.90625 -1.421875 \nQ 22.3125 -1.421875 17.546875 -0.640625 \nQ 12.796875 0.140625 7.71875 1.703125 \nL 7.71875 11.625 \nQ 12.109375 9.234375 16.796875 8.0625 \nQ 21.484375 6.890625 26.703125 6.890625 \nQ 35.15625 6.890625 40.078125 11.328125 \nQ 45.015625 15.765625 45.015625 23.390625 \nQ 45.015625 31 40.078125 35.4375 \nQ 35.15625 39.890625 26.703125 39.890625 \nQ 22.75 39.890625 18.8125 39.015625 \nQ 14.890625 38.140625 10.796875 36.28125 \nz\n\" id=\"DejaVuSans-53\"/>\n      </defs>\n      <g transform=\"translate(81.273722 249.836875)scale(0.1 -0.1)\">\n       <use xlink:href=\"#DejaVuSans-50\"/>\n       <use x=\"63.623047\" xlink:href=\"#DejaVuSans-48\"/>\n       <use x=\"127.246094\" xlink:href=\"#DejaVuSans-50\"/>\n       <use x=\"190.869141\" xlink:href=\"#DejaVuSans-48\"/>\n       <use x=\"254.492188\" xlink:href=\"#DejaVuSans-45\"/>\n       <use x=\"290.576172\" xlink:href=\"#DejaVuSans-48\"/>\n       <use x=\"354.199219\" xlink:href=\"#DejaVuSans-50\"/>\n       <use x=\"417.822266\" xlink:href=\"#DejaVuSans-45\"/>\n       <use x=\"453.90625\" xlink:href=\"#DejaVuSans-49\"/>\n       <use x=\"517.529297\" xlink:href=\"#DejaVuSans-53\"/>\n      </g>\n     </g>\n    </g>\n    <g id=\"xtick_3\">\n     <g id=\"line2d_3\">\n      <g>\n       <use style=\"stroke:#000000;stroke-width:0.8;\" x=\"148.376989\" xlink:href=\"#m81666f0a89\" y=\"235.238438\"/>\n      </g>\n     </g>\n     <g id=\"text_3\">\n      <!-- 2020-03-01 -->\n      <defs>\n       <path d=\"M 40.578125 39.3125 \nQ 47.65625 37.796875 51.625 33 \nQ 55.609375 28.21875 55.609375 21.1875 \nQ 55.609375 10.40625 48.1875 4.484375 \nQ 40.765625 -1.421875 27.09375 -1.421875 \nQ 22.515625 -1.421875 17.65625 -0.515625 \nQ 12.796875 0.390625 7.625 2.203125 \nL 7.625 11.71875 \nQ 11.71875 9.328125 16.59375 8.109375 \nQ 21.484375 6.890625 26.8125 6.890625 \nQ 36.078125 6.890625 40.9375 10.546875 \nQ 45.796875 14.203125 45.796875 21.1875 \nQ 45.796875 27.640625 41.28125 31.265625 \nQ 36.765625 34.90625 28.71875 34.90625 \nL 20.21875 34.90625 \nL 20.21875 43.015625 \nL 29.109375 43.015625 \nQ 36.375 43.015625 40.234375 45.921875 \nQ 44.09375 48.828125 44.09375 54.296875 \nQ 44.09375 59.90625 40.109375 62.90625 \nQ 36.140625 65.921875 28.71875 65.921875 \nQ 24.65625 65.921875 20.015625 65.03125 \nQ 15.375 64.15625 9.8125 62.3125 \nL 9.8125 71.09375 \nQ 15.4375 72.65625 20.34375 73.4375 \nQ 25.25 74.21875 29.59375 74.21875 \nQ 40.828125 74.21875 47.359375 69.109375 \nQ 53.90625 64.015625 53.90625 55.328125 \nQ 53.90625 49.265625 50.4375 45.09375 \nQ 46.96875 40.921875 40.578125 39.3125 \nz\n\" id=\"DejaVuSans-51\"/>\n      </defs>\n      <g transform=\"translate(119.319176 249.836875)scale(0.1 -0.1)\">\n       <use xlink:href=\"#DejaVuSans-50\"/>\n       <use x=\"63.623047\" xlink:href=\"#DejaVuSans-48\"/>\n       <use x=\"127.246094\" xlink:href=\"#DejaVuSans-50\"/>\n       <use x=\"190.869141\" xlink:href=\"#DejaVuSans-48\"/>\n       <use x=\"254.492188\" xlink:href=\"#DejaVuSans-45\"/>\n       <use x=\"290.576172\" xlink:href=\"#DejaVuSans-48\"/>\n       <use x=\"354.199219\" xlink:href=\"#DejaVuSans-51\"/>\n       <use x=\"417.822266\" xlink:href=\"#DejaVuSans-45\"/>\n       <use x=\"453.90625\" xlink:href=\"#DejaVuSans-48\"/>\n       <use x=\"517.529297\" xlink:href=\"#DejaVuSans-49\"/>\n      </g>\n     </g>\n    </g>\n    <g id=\"xtick_4\">\n     <g id=\"line2d_4\">\n      <g>\n       <use style=\"stroke:#000000;stroke-width:0.8;\" x=\"183.88608\" xlink:href=\"#m81666f0a89\" y=\"235.238438\"/>\n      </g>\n     </g>\n     <g id=\"text_4\">\n      <!-- 2020-03-15 -->\n      <g transform=\"translate(154.828267 249.836875)scale(0.1 -0.1)\">\n       <use xlink:href=\"#DejaVuSans-50\"/>\n       <use x=\"63.623047\" xlink:href=\"#DejaVuSans-48\"/>\n       <use x=\"127.246094\" xlink:href=\"#DejaVuSans-50\"/>\n       <use x=\"190.869141\" xlink:href=\"#DejaVuSans-48\"/>\n       <use x=\"254.492188\" xlink:href=\"#DejaVuSans-45\"/>\n       <use x=\"290.576172\" xlink:href=\"#DejaVuSans-48\"/>\n       <use x=\"354.199219\" xlink:href=\"#DejaVuSans-51\"/>\n       <use x=\"417.822266\" xlink:href=\"#DejaVuSans-45\"/>\n       <use x=\"453.90625\" xlink:href=\"#DejaVuSans-49\"/>\n       <use x=\"517.529297\" xlink:href=\"#DejaVuSans-53\"/>\n      </g>\n     </g>\n    </g>\n    <g id=\"xtick_5\">\n     <g id=\"line2d_5\">\n      <g>\n       <use style=\"stroke:#000000;stroke-width:0.8;\" x=\"227.004261\" xlink:href=\"#m81666f0a89\" y=\"235.238438\"/>\n      </g>\n     </g>\n     <g id=\"text_5\">\n      <!-- 2020-04-01 -->\n      <defs>\n       <path d=\"M 37.796875 64.3125 \nL 12.890625 25.390625 \nL 37.796875 25.390625 \nz\nM 35.203125 72.90625 \nL 47.609375 72.90625 \nL 47.609375 25.390625 \nL 58.015625 25.390625 \nL 58.015625 17.1875 \nL 47.609375 17.1875 \nL 47.609375 0 \nL 37.796875 0 \nL 37.796875 17.1875 \nL 4.890625 17.1875 \nL 4.890625 26.703125 \nz\n\" id=\"DejaVuSans-52\"/>\n      </defs>\n      <g transform=\"translate(197.946449 249.836875)scale(0.1 -0.1)\">\n       <use xlink:href=\"#DejaVuSans-50\"/>\n       <use x=\"63.623047\" xlink:href=\"#DejaVuSans-48\"/>\n       <use x=\"127.246094\" xlink:href=\"#DejaVuSans-50\"/>\n       <use x=\"190.869141\" xlink:href=\"#DejaVuSans-48\"/>\n       <use x=\"254.492188\" xlink:href=\"#DejaVuSans-45\"/>\n       <use x=\"290.576172\" xlink:href=\"#DejaVuSans-48\"/>\n       <use x=\"354.199219\" xlink:href=\"#DejaVuSans-52\"/>\n       <use x=\"417.822266\" xlink:href=\"#DejaVuSans-45\"/>\n       <use x=\"453.90625\" xlink:href=\"#DejaVuSans-48\"/>\n       <use x=\"517.529297\" xlink:href=\"#DejaVuSans-49\"/>\n      </g>\n     </g>\n    </g>\n    <g id=\"xtick_6\">\n     <g id=\"line2d_6\">\n      <g>\n       <use style=\"stroke:#000000;stroke-width:0.8;\" x=\"262.513352\" xlink:href=\"#m81666f0a89\" y=\"235.238438\"/>\n      </g>\n     </g>\n     <g id=\"text_6\">\n      <!-- 2020-04-15 -->\n      <g transform=\"translate(233.45554 249.836875)scale(0.1 -0.1)\">\n       <use xlink:href=\"#DejaVuSans-50\"/>\n       <use x=\"63.623047\" xlink:href=\"#DejaVuSans-48\"/>\n       <use x=\"127.246094\" xlink:href=\"#DejaVuSans-50\"/>\n       <use x=\"190.869141\" xlink:href=\"#DejaVuSans-48\"/>\n       <use x=\"254.492188\" xlink:href=\"#DejaVuSans-45\"/>\n       <use x=\"290.576172\" xlink:href=\"#DejaVuSans-48\"/>\n       <use x=\"354.199219\" xlink:href=\"#DejaVuSans-52\"/>\n       <use x=\"417.822266\" xlink:href=\"#DejaVuSans-45\"/>\n       <use x=\"453.90625\" xlink:href=\"#DejaVuSans-49\"/>\n       <use x=\"517.529297\" xlink:href=\"#DejaVuSans-53\"/>\n      </g>\n     </g>\n    </g>\n    <g id=\"xtick_7\">\n     <g id=\"line2d_7\">\n      <g>\n       <use style=\"stroke:#000000;stroke-width:0.8;\" x=\"303.09517\" xlink:href=\"#m81666f0a89\" y=\"235.238438\"/>\n      </g>\n     </g>\n     <g id=\"text_7\">\n      <!-- 2020-05-01 -->\n      <g transform=\"translate(274.037358 249.836875)scale(0.1 -0.1)\">\n       <use xlink:href=\"#DejaVuSans-50\"/>\n       <use x=\"63.623047\" xlink:href=\"#DejaVuSans-48\"/>\n       <use x=\"127.246094\" xlink:href=\"#DejaVuSans-50\"/>\n       <use x=\"190.869141\" xlink:href=\"#DejaVuSans-48\"/>\n       <use x=\"254.492188\" xlink:href=\"#DejaVuSans-45\"/>\n       <use x=\"290.576172\" xlink:href=\"#DejaVuSans-48\"/>\n       <use x=\"354.199219\" xlink:href=\"#DejaVuSans-53\"/>\n       <use x=\"417.822266\" xlink:href=\"#DejaVuSans-45\"/>\n       <use x=\"453.90625\" xlink:href=\"#DejaVuSans-48\"/>\n       <use x=\"517.529297\" xlink:href=\"#DejaVuSans-49\"/>\n      </g>\n     </g>\n    </g>\n    <g id=\"xtick_8\">\n     <g id=\"line2d_8\">\n      <g>\n       <use style=\"stroke:#000000;stroke-width:0.8;\" x=\"338.604261\" xlink:href=\"#m81666f0a89\" y=\"235.238438\"/>\n      </g>\n     </g>\n     <g id=\"text_8\">\n      <!-- 2020-05-15 -->\n      <g transform=\"translate(309.546449 249.836875)scale(0.1 -0.1)\">\n       <use xlink:href=\"#DejaVuSans-50\"/>\n       <use x=\"63.623047\" xlink:href=\"#DejaVuSans-48\"/>\n       <use x=\"127.246094\" xlink:href=\"#DejaVuSans-50\"/>\n       <use x=\"190.869141\" xlink:href=\"#DejaVuSans-48\"/>\n       <use x=\"254.492188\" xlink:href=\"#DejaVuSans-45\"/>\n       <use x=\"290.576172\" xlink:href=\"#DejaVuSans-48\"/>\n       <use x=\"354.199219\" xlink:href=\"#DejaVuSans-53\"/>\n       <use x=\"417.822266\" xlink:href=\"#DejaVuSans-45\"/>\n       <use x=\"453.90625\" xlink:href=\"#DejaVuSans-49\"/>\n       <use x=\"517.529297\" xlink:href=\"#DejaVuSans-53\"/>\n      </g>\n     </g>\n    </g>\n    <g id=\"text_9\">\n     <!-- Date -->\n     <defs>\n      <path d=\"M 19.671875 64.796875 \nL 19.671875 8.109375 \nL 31.59375 8.109375 \nQ 46.6875 8.109375 53.6875 14.9375 \nQ 60.6875 21.78125 60.6875 36.53125 \nQ 60.6875 51.171875 53.6875 57.984375 \nQ 46.6875 64.796875 31.59375 64.796875 \nz\nM 9.8125 72.90625 \nL 30.078125 72.90625 \nQ 51.265625 72.90625 61.171875 64.09375 \nQ 71.09375 55.28125 71.09375 36.53125 \nQ 71.09375 17.671875 61.125 8.828125 \nQ 51.171875 0 30.078125 0 \nL 9.8125 0 \nz\n\" id=\"DejaVuSans-68\"/>\n      <path d=\"M 34.28125 27.484375 \nQ 23.390625 27.484375 19.1875 25 \nQ 14.984375 22.515625 14.984375 16.5 \nQ 14.984375 11.71875 18.140625 8.90625 \nQ 21.296875 6.109375 26.703125 6.109375 \nQ 34.1875 6.109375 38.703125 11.40625 \nQ 43.21875 16.703125 43.21875 25.484375 \nL 43.21875 27.484375 \nz\nM 52.203125 31.203125 \nL 52.203125 0 \nL 43.21875 0 \nL 43.21875 8.296875 \nQ 40.140625 3.328125 35.546875 0.953125 \nQ 30.953125 -1.421875 24.3125 -1.421875 \nQ 15.921875 -1.421875 10.953125 3.296875 \nQ 6 8.015625 6 15.921875 \nQ 6 25.140625 12.171875 29.828125 \nQ 18.359375 34.515625 30.609375 34.515625 \nL 43.21875 34.515625 \nL 43.21875 35.40625 \nQ 43.21875 41.609375 39.140625 45 \nQ 35.0625 48.390625 27.6875 48.390625 \nQ 23 48.390625 18.546875 47.265625 \nQ 14.109375 46.140625 10.015625 43.890625 \nL 10.015625 52.203125 \nQ 14.9375 54.109375 19.578125 55.046875 \nQ 24.21875 56 28.609375 56 \nQ 40.484375 56 46.34375 49.84375 \nQ 52.203125 43.703125 52.203125 31.203125 \nz\n\" id=\"DejaVuSans-97\"/>\n      <path d=\"M 18.3125 70.21875 \nL 18.3125 54.6875 \nL 36.8125 54.6875 \nL 36.8125 47.703125 \nL 18.3125 47.703125 \nL 18.3125 18.015625 \nQ 18.3125 11.328125 20.140625 9.421875 \nQ 21.96875 7.515625 27.59375 7.515625 \nL 36.8125 7.515625 \nL 36.8125 0 \nL 27.59375 0 \nQ 17.1875 0 13.234375 3.875 \nQ 9.28125 7.765625 9.28125 18.015625 \nL 9.28125 47.703125 \nL 2.6875 47.703125 \nL 2.6875 54.6875 \nL 9.28125 54.6875 \nL 9.28125 70.21875 \nz\n\" id=\"DejaVuSans-116\"/>\n      <path d=\"M 56.203125 29.59375 \nL 56.203125 25.203125 \nL 14.890625 25.203125 \nQ 15.484375 15.921875 20.484375 11.0625 \nQ 25.484375 6.203125 34.421875 6.203125 \nQ 39.59375 6.203125 44.453125 7.46875 \nQ 49.3125 8.734375 54.109375 11.28125 \nL 54.109375 2.78125 \nQ 49.265625 0.734375 44.1875 -0.34375 \nQ 39.109375 -1.421875 33.890625 -1.421875 \nQ 20.796875 -1.421875 13.15625 6.1875 \nQ 5.515625 13.8125 5.515625 26.8125 \nQ 5.515625 40.234375 12.765625 48.109375 \nQ 20.015625 56 32.328125 56 \nQ 43.359375 56 49.78125 48.890625 \nQ 56.203125 41.796875 56.203125 29.59375 \nz\nM 47.21875 32.234375 \nQ 47.125 39.59375 43.09375 43.984375 \nQ 39.0625 48.390625 32.421875 48.390625 \nQ 24.90625 48.390625 20.390625 44.140625 \nQ 15.875 39.890625 15.1875 32.171875 \nz\n\" id=\"DejaVuSans-101\"/>\n     </defs>\n     <g transform=\"translate(189.689844 263.515)scale(0.1 -0.1)\">\n      <use xlink:href=\"#DejaVuSans-68\"/>\n      <use x=\"77.001953\" xlink:href=\"#DejaVuSans-97\"/>\n      <use x=\"138.28125\" xlink:href=\"#DejaVuSans-116\"/>\n      <use x=\"177.490234\" xlink:href=\"#DejaVuSans-101\"/>\n     </g>\n    </g>\n   </g>\n   <g id=\"matplotlib.axis_2\">\n    <g id=\"ytick_1\">\n     <g id=\"line2d_9\">\n      <defs>\n       <path d=\"M 0 0 \nL -3.5 0 \n\" id=\"mff5bd25f2e\" style=\"stroke:#000000;stroke-width:0.8;\"/>\n      </defs>\n      <g>\n       <use style=\"stroke:#000000;stroke-width:0.8;\" x=\"34.240625\" xlink:href=\"#mff5bd25f2e\" y=\"225.35546\"/>\n      </g>\n     </g>\n     <g id=\"text_10\">\n      <!-- 0 -->\n      <g transform=\"translate(20.878125 229.154679)scale(0.1 -0.1)\">\n       <use xlink:href=\"#DejaVuSans-48\"/>\n      </g>\n     </g>\n    </g>\n    <g id=\"ytick_2\">\n     <g id=\"line2d_10\">\n      <g>\n       <use style=\"stroke:#000000;stroke-width:0.8;\" x=\"34.240625\" xlink:href=\"#mff5bd25f2e\" y=\"186.580273\"/>\n      </g>\n     </g>\n     <g id=\"text_11\">\n      <!-- 1 -->\n      <g transform=\"translate(20.878125 190.379491)scale(0.1 -0.1)\">\n       <use xlink:href=\"#DejaVuSans-49\"/>\n      </g>\n     </g>\n    </g>\n    <g id=\"ytick_3\">\n     <g id=\"line2d_11\">\n      <g>\n       <use style=\"stroke:#000000;stroke-width:0.8;\" x=\"34.240625\" xlink:href=\"#mff5bd25f2e\" y=\"147.805085\"/>\n      </g>\n     </g>\n     <g id=\"text_12\">\n      <!-- 2 -->\n      <g transform=\"translate(20.878125 151.604304)scale(0.1 -0.1)\">\n       <use xlink:href=\"#DejaVuSans-50\"/>\n      </g>\n     </g>\n    </g>\n    <g id=\"ytick_4\">\n     <g id=\"line2d_12\">\n      <g>\n       <use style=\"stroke:#000000;stroke-width:0.8;\" x=\"34.240625\" xlink:href=\"#mff5bd25f2e\" y=\"109.029897\"/>\n      </g>\n     </g>\n     <g id=\"text_13\">\n      <!-- 3 -->\n      <g transform=\"translate(20.878125 112.829116)scale(0.1 -0.1)\">\n       <use xlink:href=\"#DejaVuSans-51\"/>\n      </g>\n     </g>\n    </g>\n    <g id=\"ytick_5\">\n     <g id=\"line2d_13\">\n      <g>\n       <use style=\"stroke:#000000;stroke-width:0.8;\" x=\"34.240625\" xlink:href=\"#mff5bd25f2e\" y=\"70.25471\"/>\n      </g>\n     </g>\n     <g id=\"text_14\">\n      <!-- 4 -->\n      <g transform=\"translate(20.878125 74.053928)scale(0.1 -0.1)\">\n       <use xlink:href=\"#DejaVuSans-52\"/>\n      </g>\n     </g>\n    </g>\n    <g id=\"ytick_6\">\n     <g id=\"line2d_14\">\n      <g>\n       <use style=\"stroke:#000000;stroke-width:0.8;\" x=\"34.240625\" xlink:href=\"#mff5bd25f2e\" y=\"31.479522\"/>\n      </g>\n     </g>\n     <g id=\"text_15\">\n      <!-- 5 -->\n      <g transform=\"translate(20.878125 35.278741)scale(0.1 -0.1)\">\n       <use xlink:href=\"#DejaVuSans-53\"/>\n      </g>\n     </g>\n    </g>\n    <g id=\"text_16\">\n     <!-- Recovered -->\n     <defs>\n      <path d=\"M 44.390625 34.1875 \nQ 47.5625 33.109375 50.5625 29.59375 \nQ 53.5625 26.078125 56.59375 19.921875 \nL 66.609375 0 \nL 56 0 \nL 46.6875 18.703125 \nQ 43.0625 26.03125 39.671875 28.421875 \nQ 36.28125 30.8125 30.421875 30.8125 \nL 19.671875 30.8125 \nL 19.671875 0 \nL 9.8125 0 \nL 9.8125 72.90625 \nL 32.078125 72.90625 \nQ 44.578125 72.90625 50.734375 67.671875 \nQ 56.890625 62.453125 56.890625 51.90625 \nQ 56.890625 45.015625 53.6875 40.46875 \nQ 50.484375 35.9375 44.390625 34.1875 \nz\nM 19.671875 64.796875 \nL 19.671875 38.921875 \nL 32.078125 38.921875 \nQ 39.203125 38.921875 42.84375 42.21875 \nQ 46.484375 45.515625 46.484375 51.90625 \nQ 46.484375 58.296875 42.84375 61.546875 \nQ 39.203125 64.796875 32.078125 64.796875 \nz\n\" id=\"DejaVuSans-82\"/>\n      <path d=\"M 48.78125 52.59375 \nL 48.78125 44.1875 \nQ 44.96875 46.296875 41.140625 47.34375 \nQ 37.3125 48.390625 33.40625 48.390625 \nQ 24.65625 48.390625 19.8125 42.84375 \nQ 14.984375 37.3125 14.984375 27.296875 \nQ 14.984375 17.28125 19.8125 11.734375 \nQ 24.65625 6.203125 33.40625 6.203125 \nQ 37.3125 6.203125 41.140625 7.25 \nQ 44.96875 8.296875 48.78125 10.40625 \nL 48.78125 2.09375 \nQ 45.015625 0.34375 40.984375 -0.53125 \nQ 36.96875 -1.421875 32.421875 -1.421875 \nQ 20.0625 -1.421875 12.78125 6.34375 \nQ 5.515625 14.109375 5.515625 27.296875 \nQ 5.515625 40.671875 12.859375 48.328125 \nQ 20.21875 56 33.015625 56 \nQ 37.15625 56 41.109375 55.140625 \nQ 45.0625 54.296875 48.78125 52.59375 \nz\n\" id=\"DejaVuSans-99\"/>\n      <path d=\"M 30.609375 48.390625 \nQ 23.390625 48.390625 19.1875 42.75 \nQ 14.984375 37.109375 14.984375 27.296875 \nQ 14.984375 17.484375 19.15625 11.84375 \nQ 23.34375 6.203125 30.609375 6.203125 \nQ 37.796875 6.203125 41.984375 11.859375 \nQ 46.1875 17.53125 46.1875 27.296875 \nQ 46.1875 37.015625 41.984375 42.703125 \nQ 37.796875 48.390625 30.609375 48.390625 \nz\nM 30.609375 56 \nQ 42.328125 56 49.015625 48.375 \nQ 55.71875 40.765625 55.71875 27.296875 \nQ 55.71875 13.875 49.015625 6.21875 \nQ 42.328125 -1.421875 30.609375 -1.421875 \nQ 18.84375 -1.421875 12.171875 6.21875 \nQ 5.515625 13.875 5.515625 27.296875 \nQ 5.515625 40.765625 12.171875 48.375 \nQ 18.84375 56 30.609375 56 \nz\n\" id=\"DejaVuSans-111\"/>\n      <path d=\"M 2.984375 54.6875 \nL 12.5 54.6875 \nL 29.59375 8.796875 \nL 46.6875 54.6875 \nL 56.203125 54.6875 \nL 35.6875 0 \nL 23.484375 0 \nz\n\" id=\"DejaVuSans-118\"/>\n      <path d=\"M 41.109375 46.296875 \nQ 39.59375 47.171875 37.8125 47.578125 \nQ 36.03125 48 33.890625 48 \nQ 26.265625 48 22.1875 43.046875 \nQ 18.109375 38.09375 18.109375 28.8125 \nL 18.109375 0 \nL 9.078125 0 \nL 9.078125 54.6875 \nL 18.109375 54.6875 \nL 18.109375 46.1875 \nQ 20.953125 51.171875 25.484375 53.578125 \nQ 30.03125 56 36.53125 56 \nQ 37.453125 56 38.578125 55.875 \nQ 39.703125 55.765625 41.0625 55.515625 \nz\n\" id=\"DejaVuSans-114\"/>\n      <path d=\"M 45.40625 46.390625 \nL 45.40625 75.984375 \nL 54.390625 75.984375 \nL 54.390625 0 \nL 45.40625 0 \nL 45.40625 8.203125 \nQ 42.578125 3.328125 38.25 0.953125 \nQ 33.9375 -1.421875 27.875 -1.421875 \nQ 17.96875 -1.421875 11.734375 6.484375 \nQ 5.515625 14.40625 5.515625 27.296875 \nQ 5.515625 40.1875 11.734375 48.09375 \nQ 17.96875 56 27.875 56 \nQ 33.9375 56 38.25 53.625 \nQ 42.578125 51.265625 45.40625 46.390625 \nz\nM 14.796875 27.296875 \nQ 14.796875 17.390625 18.875 11.75 \nQ 22.953125 6.109375 30.078125 6.109375 \nQ 37.203125 6.109375 41.296875 11.75 \nQ 45.40625 17.390625 45.40625 27.296875 \nQ 45.40625 37.203125 41.296875 42.84375 \nQ 37.203125 48.484375 30.078125 48.484375 \nQ 22.953125 48.484375 18.875 42.84375 \nQ 14.796875 37.203125 14.796875 27.296875 \nz\n\" id=\"DejaVuSans-100\"/>\n     </defs>\n     <g transform=\"translate(14.798437 152.8825)rotate(-90)scale(0.1 -0.1)\">\n      <use xlink:href=\"#DejaVuSans-82\"/>\n      <use x=\"64.982422\" xlink:href=\"#DejaVuSans-101\"/>\n      <use x=\"126.505859\" xlink:href=\"#DejaVuSans-99\"/>\n      <use x=\"181.486328\" xlink:href=\"#DejaVuSans-111\"/>\n      <use x=\"242.667969\" xlink:href=\"#DejaVuSans-118\"/>\n      <use x=\"301.847656\" xlink:href=\"#DejaVuSans-101\"/>\n      <use x=\"363.371094\" xlink:href=\"#DejaVuSans-114\"/>\n      <use x=\"402.234375\" xlink:href=\"#DejaVuSans-101\"/>\n      <use x=\"463.757812\" xlink:href=\"#DejaVuSans-100\"/>\n     </g>\n    </g>\n    <g id=\"text_17\">\n     <!-- 1e6 -->\n     <defs>\n      <path d=\"M 33.015625 40.375 \nQ 26.375 40.375 22.484375 35.828125 \nQ 18.609375 31.296875 18.609375 23.390625 \nQ 18.609375 15.53125 22.484375 10.953125 \nQ 26.375 6.390625 33.015625 6.390625 \nQ 39.65625 6.390625 43.53125 10.953125 \nQ 47.40625 15.53125 47.40625 23.390625 \nQ 47.40625 31.296875 43.53125 35.828125 \nQ 39.65625 40.375 33.015625 40.375 \nz\nM 52.59375 71.296875 \nL 52.59375 62.3125 \nQ 48.875 64.0625 45.09375 64.984375 \nQ 41.3125 65.921875 37.59375 65.921875 \nQ 27.828125 65.921875 22.671875 59.328125 \nQ 17.53125 52.734375 16.796875 39.40625 \nQ 19.671875 43.65625 24.015625 45.921875 \nQ 28.375 48.1875 33.59375 48.1875 \nQ 44.578125 48.1875 50.953125 41.515625 \nQ 57.328125 34.859375 57.328125 23.390625 \nQ 57.328125 12.15625 50.6875 5.359375 \nQ 44.046875 -1.421875 33.015625 -1.421875 \nQ 20.359375 -1.421875 13.671875 8.265625 \nQ 6.984375 17.96875 6.984375 36.375 \nQ 6.984375 53.65625 15.1875 63.9375 \nQ 23.390625 74.21875 37.203125 74.21875 \nQ 40.921875 74.21875 44.703125 73.484375 \nQ 48.484375 72.75 52.59375 71.296875 \nz\n\" id=\"DejaVuSans-54\"/>\n     </defs>\n     <g transform=\"translate(34.240625 14.798437)scale(0.1 -0.1)\">\n      <use xlink:href=\"#DejaVuSans-49\"/>\n      <use x=\"63.623047\" xlink:href=\"#DejaVuSans-101\"/>\n      <use x=\"125.146484\" xlink:href=\"#DejaVuSans-54\"/>\n     </g>\n    </g>\n   </g>\n   <g id=\"line2d_15\">\n    <path clip-path=\"url(#p729bb5598c)\" d=\"M 49.458807 225.33394 \nL 51.99517 225.330101 \nL 54.531534 225.318973 \nL 57.067898 225.299857 \nL 59.604261 225.273334 \nL 62.140625 225.241965 \nL 64.676989 225.139172 \nL 67.213352 225.116373 \nL 69.749716 225.036185 \nL 72.28608 224.970539 \nL 74.822443 224.888685 \nL 77.358807 224.704541 \nL 79.89517 224.584571 \nL 82.431534 224.429044 \nL 84.967898 224.283908 \nL 87.504261 224.161417 \nL 90.040625 224.024308 \nL 92.576989 223.918491 \nL 95.113352 223.801118 \nL 97.649716 223.70259 \nL 100.18608 223.623489 \nL 102.722443 223.55032 \nL 105.258807 223.021465 \nL 107.79517 222.770435 \nL 110.331534 222.68986 \nL 112.867898 222.607502 \nL 115.404261 222.532472 \nL 117.940625 222.463064 \nL 120.476989 222.446623 \nL 123.013352 222.425491 \nL 125.549716 222.401373 \nL 128.08608 222.3334 \nL 130.622443 222.320643 \nL 133.158807 222.297261 \nL 135.69517 222.264496 \nL 138.231534 222.226962 \nL 140.767898 222.174305 \nL 143.304261 222.121338 \nL 145.840625 222.047704 \nL 148.376989 221.956272 \nL 150.913352 221.881165 \nL 153.449716 221.782947 \nL 155.98608 221.69454 \nL 158.522443 221.587365 \nL 161.058807 221.43556 \nL 163.59517 221.27918 \nL 166.131534 221.125087 \nL 168.667898 220.978905 \nL 171.204261 220.784215 \nL 173.740625 220.503056 \nL 176.276989 220.304217 \nL 178.813352 219.753066 \nL 181.349716 219.330804 \nL 183.88608 218.889426 \nL 186.422443 218.340913 \nL 188.958807 217.740324 \nL 191.49517 217.053499 \nL 194.031534 215.97772 \nL 196.567898 214.829044 \nL 199.104261 213.576217 \nL 201.640625 212.318816 \nL 204.176989 210.718758 \nL 206.713352 209.168332 \nL 209.249716 207.248223 \nL 211.78608 204.851684 \nL 214.322443 202.369296 \nL 216.858807 199.756547 \nL 219.39517 197.465398 \nL 221.931534 195.041872 \nL 224.467898 192.143271 \nL 227.004261 189.221328 \nL 229.540625 186.088487 \nL 232.076989 182.892403 \nL 234.613352 179.788217 \nL 237.149716 176.947779 \nL 239.68608 174.1688 \nL 242.222443 171.2626 \nL 244.758807 168.014092 \nL 247.29517 164.685204 \nL 249.831534 161.115793 \nL 252.367898 158.087101 \nL 254.904261 154.259292 \nL 257.440625 151.54437 \nL 259.976989 148.81925 \nL 262.513352 145.713164 \nL 265.049716 141.97698 \nL 267.58608 138.57566 \nL 270.122443 135.567093 \nL 272.658807 132.34596 \nL 275.19517 129.583112 \nL 277.731534 126.60099 \nL 280.267898 123.673502 \nL 282.804261 120.426584 \nL 285.340625 117.043139 \nL 287.876989 113.733405 \nL 290.413352 110.870439 \nL 292.949716 108.208367 \nL 295.48608 105.359283 \nL 298.022443 102.450097 \nL 300.558807 99.17274 \nL 303.09517 95.737414 \nL 305.631534 92.560214 \nL 308.167898 89.492437 \nL 310.704261 86.534007 \nL 313.240625 83.447386 \nL 315.776989 79.831405 \nL 318.313352 76.35804 \nL 320.849716 72.780564 \nL 323.38608 69.448069 \nL 325.922443 66.438029 \nL 328.458807 63.502864 \nL 330.99517 60.24063 \nL 333.531534 56.936828 \nL 336.067898 53.253612 \nL 338.604261 49.37113 \nL 341.140625 45.820758 \nL 343.676989 42.736734 \nL 346.213352 39.316298 \nL 348.749716 35.616641 \nL 351.28608 31.782938 \nL 353.822443 27.682074 \n\" style=\"fill:none;stroke:#1f77b4;stroke-linecap:square;stroke-width:1.5;\"/>\n   </g>\n   <g id=\"line2d_16\">\n    <path clip-path=\"url(#p729bb5598c)\" d=\"M 49.458807 225.354801 \nL 51.99517 225.354762 \nL 54.531534 225.354452 \nL 57.067898 225.353832 \nL 59.604261 225.353289 \nL 62.140625 225.352281 \nL 64.676989 225.350381 \nL 67.213352 225.350303 \nL 69.749716 225.34883 \nL 72.28608 225.347201 \nL 74.822443 225.345418 \nL 77.358807 225.341424 \nL 79.89517 225.338942 \nL 82.431534 225.336383 \nL 84.967898 225.333591 \nL 87.504261 225.330877 \nL 90.040625 225.327581 \nL 92.576989 225.324208 \nL 95.113352 225.32033 \nL 97.649716 225.316181 \nL 100.18608 225.312304 \nL 102.722443 225.31211 \nL 105.258807 225.3023 \nL 107.79517 225.296406 \nL 110.331534 225.290861 \nL 112.867898 225.286828 \nL 115.404261 225.283028 \nL 117.940625 225.277639 \nL 120.476989 225.273179 \nL 123.013352 225.26841 \nL 125.549716 225.268255 \nL 128.08608 225.260228 \nL 130.622443 225.259841 \nL 133.158807 225.253637 \nL 135.69517 225.250573 \nL 138.231534 225.248208 \nL 140.767898 225.246502 \nL 143.304261 225.244331 \nL 145.840625 225.241655 \nL 148.376989 225.239523 \nL 150.913352 225.236072 \nL 153.449716 225.233163 \nL 155.98608 225.229519 \nL 158.522443 225.225912 \nL 161.058807 225.22157 \nL 163.59517 225.217731 \nL 166.131534 225.208308 \nL 168.667898 225.201096 \nL 171.204261 225.190394 \nL 173.740625 225.176823 \nL 176.276989 225.165268 \nL 178.813352 225.145997 \nL 181.349716 225.129595 \nL 183.88608 225.10474 \nL 186.422443 225.07845 \nL 188.958807 225.047198 \nL 191.49517 225.013579 \nL 194.031534 224.970035 \nL 196.567898 224.912803 \nL 199.104261 224.846885 \nL 201.640625 224.780967 \nL 204.176989 224.706015 \nL 206.713352 224.618577 \nL 209.249716 224.511092 \nL 211.78608 224.394921 \nL 214.322443 224.259053 \nL 216.858807 224.12272 \nL 219.39517 223.986541 \nL 221.931534 223.826865 \nL 224.467898 223.640938 \nL 227.004261 223.429884 \nL 229.540625 223.191689 \nL 232.076989 222.959348 \nL 234.613352 222.720299 \nL 237.149716 222.523398 \nL 239.68608 222.302767 \nL 242.222443 221.996754 \nL 244.758807 221.737309 \nL 247.29517 221.44413 \nL 249.831534 221.164289 \nL 252.367898 220.930358 \nL 254.904261 220.709999 \nL 257.440625 220.48867 \nL 259.976989 220.222052 \nL 262.513352 219.902351 \nL 265.049716 219.6203 \nL 267.58608 219.276984 \nL 270.122443 219.028319 \nL 272.658807 218.852435 \nL 275.19517 218.645026 \nL 277.731534 218.369374 \nL 280.267898 218.11051 \nL 282.804261 217.8487 \nL 285.340625 217.603176 \nL 287.876989 217.363313 \nL 290.413352 217.219379 \nL 292.949716 217.043223 \nL 295.48608 216.796885 \nL 298.022443 216.530732 \nL 300.558807 216.309985 \nL 303.09517 216.106105 \nL 305.631534 215.904745 \nL 308.167898 215.762944 \nL 310.704261 215.605478 \nL 313.240625 215.384382 \nL 315.776989 215.127884 \nL 318.313352 214.906478 \nL 320.849716 214.699884 \nL 323.38608 214.528808 \nL 325.922443 214.397127 \nL 328.458807 214.256761 \nL 330.99517 214.03931 \nL 333.531534 213.835779 \nL 336.067898 213.633488 \nL 338.604261 213.429996 \nL 341.140625 213.270863 \nL 343.676989 213.138872 \nL 346.213352 213.011069 \nL 348.749716 212.824793 \nL 351.28608 212.637509 \nL 353.822443 212.451078 \n\" style=\"fill:none;stroke:#ff7f0e;stroke-linecap:square;stroke-width:1.5;\"/>\n   </g>\n   <g id=\"line2d_17\">\n    <path clip-path=\"url(#p729bb5598c)\" d=\"M 49.458807 225.335685 \nL 51.99517 225.331963 \nL 54.531534 225.321338 \nL 57.067898 225.302959 \nL 59.604261 225.277483 \nL 62.140625 225.247394 \nL 64.676989 225.148246 \nL 67.213352 225.126183 \nL 69.749716 225.048089 \nL 72.28608 224.986902 \nL 74.822443 224.90908 \nL 77.358807 224.73591 \nL 79.89517 224.623966 \nL 82.431534 224.479296 \nL 84.967898 224.346491 \nL 87.504261 224.239937 \nL 90.040625 224.124736 \nL 92.576989 224.043928 \nL 95.113352 223.953156 \nL 97.649716 223.883709 \nL 100.18608 223.835899 \nL 102.722443 223.779365 \nL 105.258807 223.302469 \nL 107.79517 223.12135 \nL 110.331534 223.094479 \nL 112.867898 223.070206 \nL 115.404261 223.061675 \nL 117.940625 223.06373 \nL 120.476989 223.117512 \nL 123.013352 223.176527 \nL 125.549716 223.173658 \nL 128.08608 223.262841 \nL 130.622443 223.266874 \nL 133.158807 223.316855 \nL 135.69517 223.38762 \nL 138.231534 223.446015 \nL 140.767898 223.504566 \nL 143.304261 223.584365 \nL 145.840625 223.629189 \nL 148.376989 223.650632 \nL 150.913352 223.689795 \nL 153.449716 223.694797 \nL 155.98608 223.723568 \nL 158.522443 223.721202 \nL 161.058807 223.651795 \nL 163.59517 223.595299 \nL 166.131534 223.540704 \nL 168.667898 223.470792 \nL 171.204261 223.360554 \nL 173.740625 223.182499 \nL 176.276989 223.046204 \nL 178.813352 222.588734 \nL 181.349716 222.274733 \nL 183.88608 221.990201 \nL 186.422443 221.547349 \nL 188.958807 221.084684 \nL 191.49517 220.527174 \nL 194.031534 219.559384 \nL 196.567898 218.561931 \nL 199.104261 217.540515 \nL 201.640625 216.589554 \nL 204.176989 215.081974 \nL 206.713352 213.988708 \nL 209.249716 212.387409 \nL 211.78608 210.430813 \nL 214.322443 208.421095 \nL 216.858807 206.266009 \nL 219.39517 204.48553 \nL 221.931534 202.821376 \nL 224.467898 200.586181 \nL 227.004261 198.472661 \nL 229.540625 196.223235 \nL 232.076989 193.844416 \nL 234.613352 191.751409 \nL 237.149716 189.626684 \nL 239.68608 187.697812 \nL 242.222443 185.984259 \nL 244.758807 184.088114 \nL 247.29517 181.99088 \nL 249.831534 179.527105 \nL 252.367898 177.70913 \nL 254.904261 174.838603 \nL 257.440625 173.363207 \nL 259.976989 171.860164 \nL 262.513352 170.451927 \nL 265.049716 168.167487 \nL 267.58608 166.082002 \nL 270.122443 164.231612 \nL 272.658807 162.36827 \nL 275.19517 160.627419 \nL 277.731534 159.228294 \nL 280.267898 157.666313 \nL 282.804261 155.773037 \nL 285.340625 154.571084 \nL 287.876989 152.541435 \nL 290.413352 150.887518 \nL 292.949716 149.406694 \nL 295.48608 148.046499 \nL 298.022443 146.960639 \nL 300.558807 146.389674 \nL 303.09517 144.596244 \nL 305.631534 143.151752 \nL 308.167898 141.418618 \nL 310.704261 140.014917 \nL 313.240625 138.497644 \nL 315.776989 136.885604 \nL 318.313352 135.10594 \nL 320.849716 133.13868 \nL 323.38608 131.998845 \nL 325.922443 130.367379 \nL 328.458807 129.3543 \nL 330.99517 127.703058 \nL 333.531534 126.689669 \nL 336.067898 124.687822 \nL 338.604261 122.875198 \nL 341.140625 121.620084 \nL 343.676989 120.218555 \nL 346.213352 118.942929 \nL 348.749716 117.385562 \nL 351.28608 115.97907 \nL 353.822443 114.004056 \n\" style=\"fill:none;stroke:#2ca02c;stroke-linecap:square;stroke-width:1.5;\"/>\n   </g>\n   <g id=\"line2d_18\">\n    <path clip-path=\"url(#p729bb5598c)\" d=\"M 49.458807 225.354375 \nL 51.99517 225.354297 \nL 54.531534 225.354103 \nL 57.067898 225.353987 \nL 59.604261 225.353483 \nL 62.140625 225.353211 \nL 64.676989 225.351466 \nL 67.213352 225.350807 \nL 69.749716 225.350187 \nL 72.28608 225.347356 \nL 74.822443 225.345107 \nL 77.358807 225.338128 \nL 79.89517 225.332583 \nL 82.431534 225.324285 \nL 84.967898 225.314746 \nL 87.504261 225.301524 \nL 90.040625 225.282912 \nL 92.576989 225.261275 \nL 95.113352 225.238553 \nL 97.649716 225.213621 \nL 100.18608 225.186207 \nL 102.722443 225.169766 \nL 105.258807 225.127617 \nL 107.79517 225.063599 \nL 110.331534 225.015441 \nL 112.867898 224.961388 \nL 115.404261 224.898689 \nL 117.940625 224.832616 \nL 120.476989 224.766853 \nL 123.013352 224.691474 \nL 125.549716 224.67038 \nL 128.08608 224.521251 \nL 130.622443 224.504849 \nL 133.158807 224.43769 \nL 135.69517 224.337224 \nL 138.231534 224.243659 \nL 140.767898 224.134158 \nL 143.304261 224.003563 \nL 145.840625 223.887781 \nL 148.376989 223.777039 \nL 150.913352 223.666219 \nL 153.449716 223.565908 \nL 155.98608 223.452374 \nL 158.522443 223.351171 \nL 161.058807 223.273116 \nL 163.59517 223.17707 \nL 166.131534 223.086996 \nL 168.667898 223.017937 \nL 171.204261 222.944186 \nL 173.740625 222.854655 \nL 176.276989 222.803665 \nL 178.813352 222.729256 \nL 181.349716 222.637397 \nL 183.88608 222.505406 \nL 186.422443 222.426034 \nL 188.958807 222.319363 \nL 191.49517 222.223666 \nL 194.031534 222.159222 \nL 196.567898 222.065231 \nL 199.104261 221.899738 \nL 201.640625 221.659216 \nL 204.176989 221.641689 \nL 206.713352 221.271735 \nL 209.249716 221.06041 \nL 211.78608 220.736638 \nL 214.322443 220.399836 \nL 216.858807 220.078506 \nL 219.39517 219.704015 \nL 221.931534 219.104318 \nL 224.467898 218.626841 \nL 227.004261 218.02947 \nL 229.540625 217.384484 \nL 232.076989 216.79956 \nL 234.613352 216.02743 \nL 237.149716 215.508618 \nL 239.68608 214.879141 \nL 242.222443 213.992508 \nL 244.758807 212.89959 \nL 247.29517 211.961115 \nL 249.831534 211.135319 \nL 252.367898 210.158534 \nL 254.904261 209.421611 \nL 257.440625 208.403414 \nL 259.976989 207.447954 \nL 262.513352 206.069806 \nL 265.049716 204.900114 \nL 267.58608 203.927594 \nL 270.122443 203.018083 \nL 272.658807 201.836176 \nL 275.19517 201.021587 \nL 277.731534 199.714243 \nL 280.267898 198.607599 \nL 282.804261 197.515767 \nL 285.340625 195.5798 \nL 287.876989 194.539578 \nL 290.413352 193.474462 \nL 292.949716 192.469371 \nL 295.48608 191.22682 \nL 298.022443 189.669647 \nL 300.558807 187.184002 \nL 303.09517 185.745986 \nL 305.631534 184.214637 \nL 308.167898 183.021796 \nL 310.704261 181.624532 \nL 313.240625 180.27628 \nL 315.776989 178.528838 \nL 318.313352 177.056544 \nL 320.849716 175.652921 \nL 323.38608 173.631337 \nL 325.922443 172.384444 \nL 328.458807 170.602724 \nL 330.99517 169.209182 \nL 333.531534 167.122302 \nL 336.067898 165.643222 \nL 338.604261 163.776856 \nL 341.140625 161.640731 \nL 343.676989 160.090228 \nL 346.213352 158.07322 \nL 348.749716 156.117206 \nL 351.28608 153.877279 \nL 353.822443 151.937861 \n\" style=\"fill:none;stroke:#d62728;stroke-linecap:square;stroke-width:1.5;\"/>\n   </g>\n   <g id=\"patch_3\">\n    <path d=\"M 34.240625 235.238438 \nL 34.240625 17.798438 \n\" style=\"fill:none;stroke:#000000;stroke-linecap:square;stroke-linejoin:miter;stroke-width:0.8;\"/>\n   </g>\n   <g id=\"patch_4\">\n    <path d=\"M 369.040625 235.238438 \nL 369.040625 17.798438 \n\" style=\"fill:none;stroke:#000000;stroke-linecap:square;stroke-linejoin:miter;stroke-width:0.8;\"/>\n   </g>\n   <g id=\"patch_5\">\n    <path d=\"M 34.240625 235.238438 \nL 369.040625 235.238438 \n\" style=\"fill:none;stroke:#000000;stroke-linecap:square;stroke-linejoin:miter;stroke-width:0.8;\"/>\n   </g>\n   <g id=\"patch_6\">\n    <path d=\"M 34.240625 17.798438 \nL 369.040625 17.798438 \n\" style=\"fill:none;stroke:#000000;stroke-linecap:square;stroke-linejoin:miter;stroke-width:0.8;\"/>\n   </g>\n  </g>\n </g>\n <defs>\n  <clipPath id=\"p729bb5598c\">\n   <rect height=\"217.44\" width=\"334.8\" x=\"34.240625\" y=\"17.798438\"/>\n  </clipPath>\n </defs>\n</svg>\n",
      "image/png": "[encoded data removed]"
     },
     "metadata": {
      "needs_background": "light"
     }
    }
   ],
   "source": [
    "sb.lineplot(x='Date',y='Confirmed',data=world_data)\n",
    "sb.lineplot(x='Date',y='Deaths',data=world_data)\n",
    "sb.lineplot(x='Date',y='Active',data=world_data)\n",
    "sb.lineplot(x='Date',y='Recovered',data=world_data)"
   ]
  },
  {
   "cell_type": "code",
   "execution_count": 49,
   "metadata": {},
   "outputs": [
    {
     "output_type": "execute_result",
     "data": {
      "text/plain": "    Country/Region      Lat     Long  Date  Confirmed  Deaths  Recovered  \\\n0      Afghanistan  33.0000  65.0000     2          0       0          0   \n121        Albania  41.1533  20.1683     2          0       0          0   \n242        Algeria  28.0339   1.6596     2          0       0          0   \n363        Andorra  42.5063   1.5218     2          0       0          0   \n484         Angola -11.2027  17.8739     2          0       0          0   \n\n     Active  Population  Population Density (P/Km²)  Urban Population %  \\\n0         0    38742911                          60                  25   \n121       0     2878420                         105                  63   \n242       0    43685618                          18                  73   \n363       0       77240                         164                  88   \n484       0    32644783                          26                  67   \n\n     Confirmed per million  Deaths per million  Recovered per million  \\\n0                      0.0                 0.0                    0.0   \n121                    0.0                 0.0                    0.0   \n242                    0.0                 0.0                    0.0   \n363                    0.0                 0.0                    0.0   \n484                    0.0                 0.0                    0.0   \n\n     Active per million  \n0                   0.0  \n121                 0.0  \n242                 0.0  \n363                 0.0  \n484                 0.0  ",
      "text/html": "<div>\n<style scoped>\n    .dataframe tbody tr th:only-of-type {\n        vertical-align: middle;\n    }\n\n    .dataframe tbody tr th {\n        vertical-align: top;\n    }\n\n    .dataframe thead th {\n        text-align: right;\n    }\n</style>\n<table border=\"1\" class=\"dataframe\">\n  <thead>\n    <tr style=\"text-align: right;\">\n      <th></th>\n      <th>Country/Region</th>\n      <th>Lat</th>\n      <th>Long</th>\n      <th>Date</th>\n      <th>Confirmed</th>\n      <th>Deaths</th>\n      <th>Recovered</th>\n      <th>Active</th>\n      <th>Population</th>\n      <th>Population Density (P/Km²)</th>\n      <th>Urban Population %</th>\n      <th>Confirmed per million</th>\n      <th>Deaths per million</th>\n      <th>Recovered per million</th>\n      <th>Active per million</th>\n    </tr>\n  </thead>\n  <tbody>\n    <tr>\n      <th>0</th>\n      <td>Afghanistan</td>\n      <td>33.0000</td>\n      <td>65.0000</td>\n      <td>2</td>\n      <td>0</td>\n      <td>0</td>\n      <td>0</td>\n      <td>0</td>\n      <td>38742911</td>\n      <td>60</td>\n      <td>25</td>\n      <td>0.0</td>\n      <td>0.0</td>\n      <td>0.0</td>\n      <td>0.0</td>\n    </tr>\n    <tr>\n      <th>121</th>\n      <td>Albania</td>\n      <td>41.1533</td>\n      <td>20.1683</td>\n      <td>2</td>\n      <td>0</td>\n      <td>0</td>\n      <td>0</td>\n      <td>0</td>\n      <td>2878420</td>\n      <td>105</td>\n      <td>63</td>\n      <td>0.0</td>\n      <td>0.0</td>\n      <td>0.0</td>\n      <td>0.0</td>\n    </tr>\n    <tr>\n      <th>242</th>\n      <td>Algeria</td>\n      <td>28.0339</td>\n      <td>1.6596</td>\n      <td>2</td>\n      <td>0</td>\n      <td>0</td>\n      <td>0</td>\n      <td>0</td>\n      <td>43685618</td>\n      <td>18</td>\n      <td>73</td>\n      <td>0.0</td>\n      <td>0.0</td>\n      <td>0.0</td>\n      <td>0.0</td>\n    </tr>\n    <tr>\n      <th>363</th>\n      <td>Andorra</td>\n      <td>42.5063</td>\n      <td>1.5218</td>\n      <td>2</td>\n      <td>0</td>\n      <td>0</td>\n      <td>0</td>\n      <td>0</td>\n      <td>77240</td>\n      <td>164</td>\n      <td>88</td>\n      <td>0.0</td>\n      <td>0.0</td>\n      <td>0.0</td>\n      <td>0.0</td>\n    </tr>\n    <tr>\n      <th>484</th>\n      <td>Angola</td>\n      <td>-11.2027</td>\n      <td>17.8739</td>\n      <td>2</td>\n      <td>0</td>\n      <td>0</td>\n      <td>0</td>\n      <td>0</td>\n      <td>32644783</td>\n      <td>26</td>\n      <td>67</td>\n      <td>0.0</td>\n      <td>0.0</td>\n      <td>0.0</td>\n      <td>0.0</td>\n    </tr>\n  </tbody>\n</table>\n</div>"
     },
     "metadata": {},
     "execution_count": 49
    }
   ],
   "source": [
    "per_million.head()"
   ]
  },
  {
   "cell_type": "markdown",
   "metadata": {},
   "source": [
    "# Model Training"
   ]
  },
  {
   "cell_type": "markdown",
   "metadata": {},
   "source": [
    "## Inputs and outputs\n",
    "\n",
    "This function will return a pair of inputs and outputs given the country:"
   ]
  },
  {
   "cell_type": "code",
   "execution_count": 50,
   "metadata": {},
   "outputs": [],
   "source": [
    "def world_train_data(df_full,country=None):\n",
    "    df = df_full\n",
    "    input  = ['Date','Population Density (P/Km²)','Urban Population %','Lat','Long']\n",
    "    if country is not None:\n",
    "        df = df_full.loc[ df_full['Country/Region'] == country]\n",
    "        input = ['Date']\n",
    "    return df[input], df[['Confirmed per million',\t'Deaths per million',\t'Recovered per million']]\n"
   ]
  },
  {
   "cell_type": "code",
   "execution_count": 51,
   "metadata": {
    "tags": [
     "outputPrepend",
     "outputPrepend",
     "outputPrepend",
     "outputPrepend",
     "outputPrepend",
     "outputPrepend",
     "outputPrepend",
     "outputPrepend",
     "outputPrepend",
     "outputPrepend",
     "outputPrepend",
     "outputPrepend",
     "outputPrepend",
     "outputPrepend",
     "outputPrepend",
     "outputPrepend",
     "outputPrepend",
     "outputPrepend",
     "outputPrepend",
     "outputPrepend",
     "outputPrepend",
     "outputPrepend",
     "outputPrepend",
     "outputPrepend",
     "outputPrepend",
     "outputPrepend",
     "outputPrepend",
     "outputPrepend",
     "outputPrepend",
     "outputPrepend",
     "outputPrepend",
     "outputPrepend",
     "outputPrepend",
     "outputPrepend",
     "outputPrepend",
     "outputPrepend",
     "outputPrepend",
     "outputPrepend",
     "outputPrepend",
     "outputPrepend",
     "outputPrepend",
     "outputPrepend",
     "outputPrepend",
     "outputPrepend",
     "outputPrepend",
     "outputPrepend",
     "outputPrepend",
     "outputPrepend",
     "outputPrepend",
     "outputPrepend",
     "outputPrepend",
     "outputPrepend",
     "outputPrepend",
     "outputPrepend",
     "outputPrepend",
     "outputPrepend",
     "outputPrepend",
     "outputPrepend",
     "outputPrepend",
     "outputPrepend",
     "outputPrepend",
     "outputPrepend",
     "outputPrepend",
     "outputPrepend",
     "outputPrepend",
     "outputPrepend",
     "outputPrepend",
     "outputPrepend",
     "outputPrepend",
     "outputPrepend",
     "outputPrepend",
     "outputPrepend",
     "outputPrepend",
     "outputPrepend",
     "outputPrepend",
     "outputPrepend",
     "outputPrepend",
     "outputPrepend",
     "outputPrepend",
     "outputPrepend",
     "outputPrepend",
     "outputPrepend",
     "outputPrepend",
     "outputPrepend",
     "outputPrepend",
     "outputPrepend",
     "outputPrepend",
     "outputPrepend",
     "outputPrepend",
     "outputPrepend",
     "outputPrepend",
     "outputPrepend",
     "outputPrepend",
     "outputPrepend",
     "outputPrepend",
     "outputPrepend",
     "outputPrepend",
     "outputPrepend",
     "outputPrepend",
     "outputPrepend",
     "outputPrepend",
     "outputPrepend",
     "outputPrepend",
     "outputPrepend",
     "outputPrepend",
     "outputPrepend",
     "outputPrepend",
     "outputPrepend",
     "outputPrepend",
     "outputPrepend",
     "outputPrepend",
     "outputPrepend",
     "outputPrepend",
     "outputPrepend",
     "outputPrepend",
     "outputPrepend",
     "outputPrepend",
     "outputPrepend",
     "outputPrepend",
     "outputPrepend",
     "outputPrepend",
     "outputPrepend",
     "outputPrepend",
     "outputPrepend",
     "outputPrepend",
     "outputPrepend",
     "outputPrepend",
     "outputPrepend",
     "outputPrepend",
     "outputPrepend",
     "outputPrepend",
     "outputPrepend",
     "outputPrepend",
     "outputPrepend",
     "outputPrepend",
     "outputPrepend",
     "outputPrepend",
     "outputPrepend",
     "outputPrepend",
     "outputPrepend",
     "outputPrepend",
     "outputPrepend",
     "outputPrepend",
     "outputPrepend",
     "outputPrepend",
     "outputPrepend",
     "outputPrepend",
     "outputPrepend",
     "outputPrepend",
     "outputPrepend",
     "outputPrepend",
     "outputPrepend",
     "outputPrepend",
     "outputPrepend",
     "outputPrepend",
     "outputPrepend",
     "outputPrepend",
     "outputPrepend",
     "outputPrepend",
     "outputPrepend",
     "outputPrepend",
     "outputPrepend",
     "outputPrepend",
     "outputPrepend",
     "outputPrepend",
     "outputPrepend",
     "outputPrepend",
     "outputPrepend",
     "outputPrepend",
     "outputPrepend",
     "outputPrepend",
     "outputPrepend",
     "outputPrepend",
     "outputPrepend",
     "outputPrepend",
     "outputPrepend",
     "outputPrepend",
     "outputPrepend",
     "outputPrepend",
     "outputPrepend",
     "outputPrepend",
     "outputPrepend",
     "outputPrepend",
     "outputPrepend",
     "outputPrepend",
     "outputPrepend",
     "outputPrepend",
     "outputPrepend",
     "outputPrepend",
     "outputPrepend",
     "outputPrepend",
     "outputPrepend",
     "outputPrepend",
     "outputPrepend",
     "outputPrepend",
     "outputPrepend",
     "outputPrepend",
     "outputPrepend",
     "outputPrepend",
     "outputPrepend",
     "outputPrepend",
     "outputPrepend",
     "outputPrepend",
     "outputPrepend",
     "outputPrepend",
     "outputPrepend",
     "outputPrepend",
     "outputPrepend",
     "outputPrepend",
     "outputPrepend",
     "outputPrepend",
     "outputPrepend",
     "outputPrepend",
     "outputPrepend",
     "outputPrepend",
     "outputPrepend",
     "outputPrepend",
     "outputPrepend",
     "outputPrepend",
     "outputPrepend",
     "outputPrepend",
     "outputPrepend",
     "outputPrepend",
     "outputPrepend",
     "outputPrepend",
     "outputPrepend",
     "outputPrepend",
     "outputPrepend",
     "outputPrepend",
     "outputPrepend",
     "outputPrepend",
     "outputPrepend",
     "outputPrepend",
     "outputPrepend",
     "outputPrepend",
     "outputPrepend",
     "outputPrepend",
     "outputPrepend",
     "outputPrepend",
     "outputPrepend",
     "outputPrepend",
     "outputPrepend",
     "outputPrepend",
     "outputPrepend",
     "outputPrepend",
     "outputPrepend",
     "outputPrepend",
     "outputPrepend",
     "outputPrepend",
     "outputPrepend",
     "outputPrepend",
     "outputPrepend",
     "outputPrepend",
     "outputPrepend",
     "outputPrepend",
     "outputPrepend",
     "outputPrepend",
     "outputPrepend",
     "outputPrepend",
     "outputPrepend",
     "outputPrepend",
     "outputPrepend",
     "outputPrepend",
     "outputPrepend",
     "outputPrepend",
     "outputPrepend",
     "outputPrepend",
     "outputPrepend",
     "outputPrepend",
     "outputPrepend",
     "outputPrepend",
     "outputPrepend",
     "outputPrepend",
     "outputPrepend",
     "outputPrepend",
     "outputPrepend",
     "outputPrepend",
     "outputPrepend",
     "outputPrepend",
     "outputPrepend",
     "outputPrepend",
     "outputPrepend",
     "outputPrepend",
     "outputPrepend",
     "outputPrepend",
     "outputPrepend",
     "outputPrepend",
     "outputPrepend",
     "outputPrepend",
     "outputPrepend",
     "outputPrepend",
     "outputPrepend",
     "outputPrepend",
     "outputPrepend",
     "outputPrepend",
     "outputPrepend",
     "outputPrepend",
     "outputPrepend",
     "outputPrepend",
     "outputPrepend",
     "outputPrepend",
     "outputPrepend",
     "outputPrepend",
     "outputPrepend",
     "outputPrepend",
     "outputPrepend",
     "outputPrepend",
     "outputPrepend",
     "outputPrepend",
     "outputPrepend",
     "outputPrepend",
     "outputPrepend",
     "outputPrepend",
     "outputPrepend",
     "outputPrepend",
     "outputPrepend",
     "outputPrepend",
     "outputPrepend",
     "outputPrepend",
     "outputPrepend",
     "outputPrepend",
     "outputPrepend",
     "outputPrepend",
     "outputPrepend",
     "outputPrepend",
     "outputPrepend",
     "outputPrepend",
     "outputPrepend",
     "outputPrepend",
     "outputPrepend",
     "outputPrepend",
     "outputPrepend",
     "outputPrepend",
     "outputPrepend",
     "outputPrepend",
     "outputPrepend",
     "outputPrepend",
     "outputPrepend",
     "outputPrepend",
     "outputPrepend",
     "outputPrepend",
     "outputPrepend",
     "outputPrepend",
     "outputPrepend",
     "outputPrepend",
     "outputPrepend",
     "outputPrepend",
     "outputPrepend",
     "outputPrepend",
     "outputPrepend",
     "outputPrepend",
     "outputPrepend",
     "outputPrepend",
     "outputPrepend",
     "outputPrepend",
     "outputPrepend",
     "outputPrepend",
     "outputPrepend",
     "outputPrepend",
     "outputPrepend",
     "outputPrepend",
     "outputPrepend",
     "outputPrepend",
     "outputPrepend",
     "outputPrepend",
     "outputPrepend",
     "outputPrepend",
     "outputPrepend",
     "outputPrepend",
     "outputPrepend",
     "outputPrepend",
     "outputPrepend",
     "outputPrepend",
     "outputPrepend",
     "outputPrepend",
     "outputPrepend",
     "outputPrepend",
     "outputPrepend",
     "outputPrepend",
     "outputPrepend",
     "outputPrepend",
     "outputPrepend",
     "outputPrepend",
     "outputPrepend",
     "outputPrepend",
     "outputPrepend",
     "outputPrepend",
     "outputPrepend",
     "outputPrepend",
     "outputPrepend",
     "outputPrepend",
     "outputPrepend",
     "outputPrepend",
     "outputPrepend",
     "outputPrepend",
     "outputPrepend",
     "outputPrepend",
     "outputPrepend",
     "outputPrepend",
     "outputPrepend",
     "outputPrepend",
     "outputPrepend",
     "outputPrepend",
     "outputPrepend",
     "outputPrepend",
     "outputPrepend",
     "outputPrepend",
     "outputPrepend",
     "outputPrepend",
     "outputPrepend",
     "outputPrepend",
     "outputPrepend",
     "outputPrepend",
     "outputPrepend",
     "outputPrepend",
     "outputPrepend",
     "outputPrepend",
     "outputPrepend",
     "outputPrepend",
     "outputPrepend",
     "outputPrepend",
     "outputPrepend",
     "outputPrepend",
     "outputPrepend",
     "outputPrepend",
     "outputPrepend",
     "outputPrepend",
     "outputPrepend",
     "outputPrepend",
     "outputPrepend",
     "outputPrepend",
     "outputPrepend",
     "outputPrepend",
     "outputPrepend",
     "outputPrepend",
     "outputPrepend",
     "outputPrepend",
     "outputPrepend",
     "outputPrepend",
     "outputPrepend",
     "outputPrepend",
     "outputPrepend",
     "outputPrepend",
     "outputPrepend",
     "outputPrepend",
     "outputPrepend",
     "outputPrepend",
     "outputPrepend",
     "outputPrepend",
     "outputPrepend",
     "outputPrepend",
     "outputPrepend",
     "outputPrepend",
     "outputPrepend",
     "outputPrepend",
     "outputPrepend",
     "outputPrepend",
     "outputPrepend",
     "outputPrepend",
     "outputPrepend",
     "outputPrepend",
     "outputPrepend",
     "outputPrepend",
     "outputPrepend",
     "outputPrepend",
     "outputPrepend",
     "outputPrepend",
     "outputPrepend",
     "outputPrepend",
     "outputPrepend",
     "outputPrepend",
     "outputPrepend",
     "outputPrepend",
     "outputPrepend",
     "outputPrepend",
     "outputPrepend",
     "outputPrepend",
     "outputPrepend",
     "outputPrepend",
     "outputPrepend",
     "outputPrepend",
     "outputPrepend",
     "outputPrepend",
     "outputPrepend",
     "outputPrepend",
     "outputPrepend",
     "outputPrepend",
     "outputPrepend",
     "outputPrepend",
     "outputPrepend",
     "outputPrepend",
     "outputPrepend",
     "outputPrepend",
     "outputPrepend",
     "outputPrepend",
     "outputPrepend",
     "outputPrepend",
     "outputPrepend",
     "outputPrepend",
     "outputPrepend",
     "outputPrepend",
     "outputPrepend",
     "outputPrepend",
     "outputPrepend",
     "outputPrepend",
     "outputPrepend",
     "outputPrepend",
     "outputPrepend",
     "outputPrepend",
     "outputPrepend",
     "outputPrepend",
     "outputPrepend",
     "outputPrepend",
     "outputPrepend",
     "outputPrepend",
     "outputPrepend",
     "outputPrepend",
     "outputPrepend",
     "outputPrepend",
     "outputPrepend",
     "outputPrepend",
     "outputPrepend",
     "outputPrepend",
     "outputPrepend",
     "outputPrepend",
     "outputPrepend",
     "outputPrepend",
     "outputPrepend",
     "outputPrepend",
     "outputPrepend",
     "outputPrepend",
     "outputPrepend",
     "outputPrepend",
     "outputPrepend",
     "outputPrepend",
     "outputPrepend",
     "outputPrepend",
     "outputPrepend",
     "outputPrepend",
     "outputPrepend",
     "outputPrepend",
     "outputPrepend",
     "outputPrepend",
     "outputPrepend",
     "outputPrepend",
     "outputPrepend",
     "outputPrepend",
     "outputPrepend",
     "outputPrepend",
     "outputPrepend",
     "outputPrepend",
     "outputPrepend",
     "outputPrepend",
     "outputPrepend",
     "outputPrepend",
     "outputPrepend",
     "outputPrepend",
     "outputPrepend",
     "outputPrepend",
     "outputPrepend",
     "outputPrepend",
     "outputPrepend",
     "outputPrepend",
     "outputPrepend",
     "outputPrepend",
     "outputPrepend",
     "outputPrepend",
     "outputPrepend",
     "outputPrepend",
     "outputPrepend",
     "outputPrepend",
     "outputPrepend",
     "outputPrepend",
     "outputPrepend",
     "outputPrepend",
     "outputPrepend",
     "outputPrepend",
     "outputPrepend",
     "outputPrepend",
     "outputPrepend",
     "outputPrepend",
     "outputPrepend",
     "outputPrepend",
     "outputPrepend",
     "outputPrepend",
     "outputPrepend",
     "outputPrepend",
     "outputPrepend",
     "outputPrepend",
     "outputPrepend",
     "outputPrepend",
     "outputPrepend",
     "outputPrepend",
     "outputPrepend",
     "outputPrepend",
     "outputPrepend",
     "outputPrepend",
     "outputPrepend",
     "outputPrepend",
     "outputPrepend",
     "outputPrepend",
     "outputPrepend",
     "outputPrepend",
     "outputPrepend",
     "outputPrepend",
     "outputPrepend",
     "outputPrepend",
     "outputPrepend",
     "outputPrepend",
     "outputPrepend",
     "outputPrepend",
     "outputPrepend",
     "outputPrepend",
     "outputPrepend",
     "outputPrepend",
     "outputPrepend",
     "outputPrepend",
     "outputPrepend",
     "outputPrepend",
     "outputPrepend",
     "outputPrepend",
     "outputPrepend",
     "outputPrepend",
     "outputPrepend",
     "outputPrepend",
     "outputPrepend",
     "outputPrepend",
     "outputPrepend",
     "outputPrepend",
     "outputPrepend",
     "outputPrepend",
     "outputPrepend",
     "outputPrepend",
     "outputPrepend",
     "outputPrepend",
     "outputPrepend",
     "outputPrepend",
     "outputPrepend",
     "outputPrepend",
     "outputPrepend",
     "outputPrepend",
     "outputPrepend",
     "outputPrepend",
     "outputPrepend",
     "outputPrepend",
     "outputPrepend",
     "outputPrepend",
     "outputPrepend",
     "outputPrepend",
     "outputPrepend",
     "outputPrepend",
     "outputPrepend",
     "outputPrepend",
     "outputPrepend",
     "outputPrepend",
     "outputPrepend",
     "outputPrepend",
     "outputPrepend",
     "outputPrepend",
     "outputPrepend",
     "outputPrepend",
     "outputPrepend",
     "outputPrepend",
     "outputPrepend",
     "outputPrepend",
     "outputPrepend",
     "outputPrepend",
     "outputPrepend",
     "outputPrepend",
     "outputPrepend",
     "outputPrepend",
     "outputPrepend",
     "outputPrepend",
     "outputPrepend",
     "outputPrepend",
     "outputPrepend",
     "outputPrepend",
     "outputPrepend",
     "outputPrepend",
     "outputPrepend",
     "outputPrepend",
     "outputPrepend",
     "outputPrepend",
     "outputPrepend",
     "outputPrepend",
     "outputPrepend",
     "outputPrepend",
     "outputPrepend",
     "outputPrepend",
     "outputPrepend",
     "outputPrepend",
     "outputPrepend",
     "outputPrepend",
     "outputPrepend",
     "outputPrepend",
     "outputPrepend",
     "outputPrepend",
     "outputPrepend",
     "outputPrepend",
     "outputPrepend",
     "outputPrepend",
     "outputPrepend",
     "outputPrepend",
     "outputPrepend",
     "outputPrepend",
     "outputPrepend",
     "outputPrepend",
     "outputPrepend",
     "outputPrepend",
     "outputPrepend",
     "outputPrepend",
     "outputPrepend",
     "outputPrepend",
     "outputPrepend",
     "outputPrepend",
     "outputPrepend",
     "outputPrepend",
     "outputPrepend",
     "outputPrepend",
     "outputPrepend",
     "outputPrepend",
     "outputPrepend",
     "outputPrepend",
     "outputPrepend",
     "outputPrepend",
     "outputPrepend",
     "outputPrepend",
     "outputPrepend",
     "outputPrepend",
     "outputPrepend",
     "outputPrepend",
     "outputPrepend",
     "outputPrepend",
     "outputPrepend",
     "outputPrepend",
     "outputPrepend",
     "outputPrepend",
     "outputPrepend",
     "outputPrepend",
     "outputPrepend",
     "outputPrepend",
     "outputPrepend",
     "outputPrepend",
     "outputPrepend",
     "outputPrepend",
     "outputPrepend",
     "outputPrepend",
     "outputPrepend",
     "outputPrepend",
     "outputPrepend",
     "outputPrepend",
     "outputPrepend",
     "outputPrepend",
     "outputPrepend",
     "outputPrepend",
     "outputPrepend",
     "outputPrepend",
     "outputPrepend",
     "outputPrepend",
     "outputPrepend",
     "outputPrepend",
     "outputPrepend",
     "outputPrepend",
     "outputPrepend",
     "outputPrepend",
     "outputPrepend",
     "outputPrepend",
     "outputPrepend",
     "outputPrepend",
     "outputPrepend",
     "outputPrepend",
     "outputPrepend",
     "outputPrepend",
     "outputPrepend",
     "outputPrepend",
     "outputPrepend",
     "outputPrepend",
     "outputPrepend",
     "outputPrepend",
     "outputPrepend",
     "outputPrepend",
     "outputPrepend",
     "outputPrepend",
     "outputPrepend",
     "outputPrepend",
     "outputPrepend",
     "outputPrepend",
     "outputPrepend",
     "outputPrepend",
     "outputPrepend",
     "outputPrepend",
     "outputPrepend",
     "outputPrepend",
     "outputPrepend",
     "outputPrepend",
     "outputPrepend",
     "outputPrepend",
     "outputPrepend",
     "outputPrepend",
     "outputPrepend",
     "outputPrepend",
     "outputPrepend",
     "outputPrepend",
     "outputPrepend",
     "outputPrepend",
     "outputPrepend",
     "outputPrepend",
     "outputPrepend",
     "outputPrepend",
     "outputPrepend",
     "outputPrepend",
     "outputPrepend",
     "outputPrepend",
     "outputPrepend",
     "outputPrepend",
     "outputPrepend",
     "outputPrepend",
     "outputPrepend",
     "outputPrepend",
     "outputPrepend",
     "outputPrepend",
     "outputPrepend",
     "outputPrepend",
     "outputPrepend",
     "outputPrepend",
     "outputPrepend",
     "outputPrepend",
     "outputPrepend",
     "outputPrepend",
     "outputPrepend",
     "outputPrepend",
     "outputPrepend",
     "outputPrepend",
     "outputPrepend",
     "outputPrepend",
     "outputPrepend",
     "outputPrepend",
     "outputPrepend",
     "outputPrepend",
     "outputPrepend",
     "outputPrepend",
     "outputPrepend",
     "outputPrepend",
     "outputPrepend",
     "outputPrepend",
     "outputPrepend",
     "outputPrepend",
     "outputPrepend",
     "outputPrepend",
     "outputPrepend",
     "outputPrepend",
     "outputPrepend",
     "outputPrepend",
     "outputPrepend",
     "outputPrepend",
     "outputPrepend",
     "outputPrepend",
     "outputPrepend",
     "outputPrepend",
     "outputPrepend",
     "outputPrepend",
     "outputPrepend",
     "outputPrepend",
     "outputPrepend",
     "outputPrepend",
     "outputPrepend",
     "outputPrepend"
    ]
   },
   "outputs": [],
   "source": [
    "# X,Y = world_train_data(per_million)\n",
    "\n",
    "# X = X.values\n",
    "# Y = Y.values\n",
    "\n",
    "\n",
    "# nn = sknn.MLPRegressor(\n",
    "#     hidden_layer_sizes=(20,50,20,100,20,50,20),\n",
    "#     activation='relu',\n",
    "#     solver='adam',\n",
    "#     alpha=0.00001,\n",
    "#     batch_size='auto',\n",
    "#     max_iter = 100000,\n",
    "#     n_iter_no_change=201,\n",
    "#     verbose=True,\n",
    "#     )\n",
    "\n",
    "# X_train, X_test, y_train, y_test = train_test_split(X,Y,test_size=0.30,shuffle=True)\n",
    "\n",
    "\n",
    "# nn.fit(X_train,y_train) # Train the model\n",
    "# nn.score(X_test,y_test) # Calculate R² for the model\n"
   ]
  },
  {
   "cell_type": "code",
   "execution_count": 52,
   "metadata": {},
   "outputs": [
    {
     "output_type": "execute_result",
     "data": {
      "text/plain": "array([39.3999])"
     },
     "metadata": {},
     "execution_count": 52
    }
   ],
   "source": [
    "per_million.loc[per_million['Country/Region'] == 'Portugal']['Population Density (P/Km²)'].unique()\n",
    "per_million.loc[per_million['Country/Region'] == 'Portugal']['Urban Population %'].unique()\n",
    "per_million.loc[per_million['Country/Region'] == 'Portugal']['Long'].unique()\n",
    "per_million.loc[per_million['Country/Region'] == 'Portugal']['Lat'].unique()\n"
   ]
  },
  {
   "cell_type": "code",
   "execution_count": 53,
   "metadata": {},
   "outputs": [],
   "source": [
    "def print_graph(world_viz):\n",
    "    things = ['Confirmed','Deaths','Recovered']\n",
    "    dd = world_viz.melt(['Date'],var_name='C/D/R', value_name='Cases',value_vars=things)\n",
    "\n",
    "\n",
    "    chart = sb.relplot(x='Date',y='Cases',hue='C/D/R',data=dd,kind='line')\n",
    "\n",
    "    axs = chart.axes\n",
    "\n",
    "    days = mdates.DayLocator(interval=9)\n",
    "    months = mdates.MonthLocator()  # every month\n",
    "    days_fmt = mdates.DateFormatter('%d-%b')\n",
    "\n",
    "    for ax in axs[0]:\n",
    "        ax.xaxis.set_major_locator(months)\n",
    "        ax.xaxis.set_major_formatter(days_fmt)\n",
    "        ax.xaxis.set_minor_locator(days)\n",
    "\n",
    "        ax.format_xdata = mdates.DateFormatter('%Y-%m-%d')\n",
    "        ax.grid(True)\n"
   ]
  },
  {
   "cell_type": "code",
   "execution_count": 54,
   "metadata": {
    "tags": [
     "outputPrepend"
    ]
   },
   "outputs": [],
   "source": [
    "\n",
    "\n",
    "# ip = []\n",
    "# for dat in range(0,125+30): # Predict from 0 to 155 days from January 1st 2020\n",
    "#     ip.append([dat,111,66,39.3999,-8.2245]) # Hard Coded Pop Density, Urban Pop %, Latitude and Longitude\n",
    "\n",
    "# out = nn.predict(ip)\n",
    "\n",
    "# nl = []\n",
    "\n",
    "# for i,o in zip(ip,out):\n",
    "#     nl.append([*i,*o])\n",
    "\n",
    "# predict = pd.DataFrame(nl,columns=['Date','Population Density (P/Km²)','Urban Population %','Lat','Long','Confirmed','Deaths','Recovered'])\n",
    "\n",
    "\n",
    "# predict['Date'] = predict['Date'].map(revertdaysSince) \n",
    "# predict['Confirmed'] = predict['Confirmed'].map(lambda x: round((x/1000000) * 10202571))\n",
    "# predict['Recovered'] = predict['Recovered'].map(lambda x: round((x/1000000) * 10202571))\n",
    "# predict['Deaths'] = predict['Deaths'].map(lambda x: round((x/1000000) * 10202571) )\n",
    "\n",
    "\n",
    "# print_graph(predict)\n",
    "# print_graph(full_grouped.loc[full_grouped['Country/Region'] == 'Portugal'])\n"
   ]
  },
  {
   "cell_type": "markdown",
   "metadata": {},
   "source": [
    "## K-Nearest Neighbours\n",
    "Apply KNN algorithm to regression modulation data."
   ]
  },
  {
   "cell_type": "markdown",
   "metadata": {},
   "source": [
    "#### Getting world data"
   ]
  },
  {
   "cell_type": "code",
   "execution_count": 55,
   "metadata": {},
   "outputs": [],
   "source": [
    "p = calc_permillion(world_data)\n",
    "X = p[['Date']]\n",
    "Y = p[['Confirmed per million','Deaths per million','Recovered per million']]"
   ]
  },
  {
   "cell_type": "markdown",
   "metadata": {},
   "source": [
    "#### Getting country data"
   ]
  },
  {
   "cell_type": "code",
   "execution_count": 56,
   "metadata": {},
   "outputs": [],
   "source": [
    "X,Y = world_train_data(per_million, 'Portugal')"
   ]
  },
  {
   "cell_type": "markdown",
   "metadata": {},
   "source": [
    "#### "
   ]
  },
  {
   "cell_type": "code",
   "execution_count": 61,
   "metadata": {},
   "outputs": [
    {
     "output_type": "error",
     "ename": "KeyboardInterrupt",
     "evalue": "",
     "traceback": [
      "\u001b[0;31m---------------------------------------------------------------------------\u001b[0m",
      "\u001b[0;31mKeyboardInterrupt\u001b[0m                         Traceback (most recent call last)",
      "\u001b[0;32m<ipython-input-61-4fd06cd48b78>\u001b[0m in \u001b[0;36m<module>\u001b[0;34m\u001b[0m\n\u001b[1;32m     18\u001b[0m                            \u001b[0mparam_grid\u001b[0m\u001b[0;34m=\u001b[0m\u001b[0mparameter_grid\u001b[0m\u001b[0;34m,\u001b[0m\u001b[0;34m\u001b[0m\u001b[0;34m\u001b[0m\u001b[0m\n\u001b[1;32m     19\u001b[0m                            cv=cross_validation)\n\u001b[0;32m---> 20\u001b[0;31m \u001b[0mMultiOutputRegressor\u001b[0m\u001b[0;34m(\u001b[0m\u001b[0mgrid_search\u001b[0m\u001b[0;34m,\u001b[0m \u001b[0mn_jobs\u001b[0m\u001b[0;34m=\u001b[0m\u001b[0;36m3\u001b[0m\u001b[0;34m)\u001b[0m\u001b[0;34m.\u001b[0m\u001b[0mfit\u001b[0m\u001b[0;34m(\u001b[0m\u001b[0mX\u001b[0m\u001b[0;34m,\u001b[0m\u001b[0mY\u001b[0m\u001b[0;34m)\u001b[0m\u001b[0;34m\u001b[0m\u001b[0;34m\u001b[0m\u001b[0m\n\u001b[0m\u001b[1;32m     21\u001b[0m \u001b[0;34m\u001b[0m\u001b[0m\n\u001b[1;32m     22\u001b[0m \u001b[0mprint\u001b[0m\u001b[0;34m(\u001b[0m\u001b[0;34m'Best score: {}'\u001b[0m\u001b[0;34m.\u001b[0m\u001b[0mformat\u001b[0m\u001b[0;34m(\u001b[0m\u001b[0mgrid_search\u001b[0m\u001b[0;34m.\u001b[0m\u001b[0mbest_score_\u001b[0m\u001b[0;34m)\u001b[0m\u001b[0;34m)\u001b[0m\u001b[0;34m\u001b[0m\u001b[0;34m\u001b[0m\u001b[0m\n",
      "\u001b[0;32m~/.local/lib/python3.8/site-packages/sklearn/multioutput.py\u001b[0m in \u001b[0;36mfit\u001b[0;34m(self, X, y, sample_weight)\u001b[0m\n\u001b[1;32m    165\u001b[0m                              \" sample weights.\")\n\u001b[1;32m    166\u001b[0m \u001b[0;34m\u001b[0m\u001b[0m\n\u001b[0;32m--> 167\u001b[0;31m         self.estimators_ = Parallel(n_jobs=self.n_jobs)(\n\u001b[0m\u001b[1;32m    168\u001b[0m             delayed(_fit_estimator)(\n\u001b[1;32m    169\u001b[0m                 self.estimator, X, y[:, i], sample_weight)\n",
      "\u001b[0;32m~/.local/lib/python3.8/site-packages/joblib/parallel.py\u001b[0m in \u001b[0;36m__call__\u001b[0;34m(self, iterable)\u001b[0m\n\u001b[1;32m   1015\u001b[0m \u001b[0;34m\u001b[0m\u001b[0m\n\u001b[1;32m   1016\u001b[0m             \u001b[0;32mwith\u001b[0m \u001b[0mself\u001b[0m\u001b[0;34m.\u001b[0m\u001b[0m_backend\u001b[0m\u001b[0;34m.\u001b[0m\u001b[0mretrieval_context\u001b[0m\u001b[0;34m(\u001b[0m\u001b[0;34m)\u001b[0m\u001b[0;34m:\u001b[0m\u001b[0;34m\u001b[0m\u001b[0;34m\u001b[0m\u001b[0m\n\u001b[0;32m-> 1017\u001b[0;31m                 \u001b[0mself\u001b[0m\u001b[0;34m.\u001b[0m\u001b[0mretrieve\u001b[0m\u001b[0;34m(\u001b[0m\u001b[0;34m)\u001b[0m\u001b[0;34m\u001b[0m\u001b[0;34m\u001b[0m\u001b[0m\n\u001b[0m\u001b[1;32m   1018\u001b[0m             \u001b[0;31m# Make sure that we get a last message telling us we are done\u001b[0m\u001b[0;34m\u001b[0m\u001b[0;34m\u001b[0m\u001b[0;34m\u001b[0m\u001b[0m\n\u001b[1;32m   1019\u001b[0m             \u001b[0melapsed_time\u001b[0m \u001b[0;34m=\u001b[0m \u001b[0mtime\u001b[0m\u001b[0;34m.\u001b[0m\u001b[0mtime\u001b[0m\u001b[0;34m(\u001b[0m\u001b[0;34m)\u001b[0m \u001b[0;34m-\u001b[0m \u001b[0mself\u001b[0m\u001b[0;34m.\u001b[0m\u001b[0m_start_time\u001b[0m\u001b[0;34m\u001b[0m\u001b[0;34m\u001b[0m\u001b[0m\n",
      "\u001b[0;32m~/.local/lib/python3.8/site-packages/joblib/parallel.py\u001b[0m in \u001b[0;36mretrieve\u001b[0;34m(self)\u001b[0m\n\u001b[1;32m    907\u001b[0m             \u001b[0;32mtry\u001b[0m\u001b[0;34m:\u001b[0m\u001b[0;34m\u001b[0m\u001b[0;34m\u001b[0m\u001b[0m\n\u001b[1;32m    908\u001b[0m                 \u001b[0;32mif\u001b[0m \u001b[0mgetattr\u001b[0m\u001b[0;34m(\u001b[0m\u001b[0mself\u001b[0m\u001b[0;34m.\u001b[0m\u001b[0m_backend\u001b[0m\u001b[0;34m,\u001b[0m \u001b[0;34m'supports_timeout'\u001b[0m\u001b[0;34m,\u001b[0m \u001b[0;32mFalse\u001b[0m\u001b[0;34m)\u001b[0m\u001b[0;34m:\u001b[0m\u001b[0;34m\u001b[0m\u001b[0;34m\u001b[0m\u001b[0m\n\u001b[0;32m--> 909\u001b[0;31m                     \u001b[0mself\u001b[0m\u001b[0;34m.\u001b[0m\u001b[0m_output\u001b[0m\u001b[0;34m.\u001b[0m\u001b[0mextend\u001b[0m\u001b[0;34m(\u001b[0m\u001b[0mjob\u001b[0m\u001b[0;34m.\u001b[0m\u001b[0mget\u001b[0m\u001b[0;34m(\u001b[0m\u001b[0mtimeout\u001b[0m\u001b[0;34m=\u001b[0m\u001b[0mself\u001b[0m\u001b[0;34m.\u001b[0m\u001b[0mtimeout\u001b[0m\u001b[0;34m)\u001b[0m\u001b[0;34m)\u001b[0m\u001b[0;34m\u001b[0m\u001b[0;34m\u001b[0m\u001b[0m\n\u001b[0m\u001b[1;32m    910\u001b[0m                 \u001b[0;32melse\u001b[0m\u001b[0;34m:\u001b[0m\u001b[0;34m\u001b[0m\u001b[0;34m\u001b[0m\u001b[0m\n\u001b[1;32m    911\u001b[0m                     \u001b[0mself\u001b[0m\u001b[0;34m.\u001b[0m\u001b[0m_output\u001b[0m\u001b[0;34m.\u001b[0m\u001b[0mextend\u001b[0m\u001b[0;34m(\u001b[0m\u001b[0mjob\u001b[0m\u001b[0;34m.\u001b[0m\u001b[0mget\u001b[0m\u001b[0;34m(\u001b[0m\u001b[0;34m)\u001b[0m\u001b[0;34m)\u001b[0m\u001b[0;34m\u001b[0m\u001b[0;34m\u001b[0m\u001b[0m\n",
      "\u001b[0;32m~/.local/lib/python3.8/site-packages/joblib/_parallel_backends.py\u001b[0m in \u001b[0;36mwrap_future_result\u001b[0;34m(future, timeout)\u001b[0m\n\u001b[1;32m    560\u001b[0m         AsyncResults.get from multiprocessing.\"\"\"\n\u001b[1;32m    561\u001b[0m         \u001b[0;32mtry\u001b[0m\u001b[0;34m:\u001b[0m\u001b[0;34m\u001b[0m\u001b[0;34m\u001b[0m\u001b[0m\n\u001b[0;32m--> 562\u001b[0;31m             \u001b[0;32mreturn\u001b[0m \u001b[0mfuture\u001b[0m\u001b[0;34m.\u001b[0m\u001b[0mresult\u001b[0m\u001b[0;34m(\u001b[0m\u001b[0mtimeout\u001b[0m\u001b[0;34m=\u001b[0m\u001b[0mtimeout\u001b[0m\u001b[0;34m)\u001b[0m\u001b[0;34m\u001b[0m\u001b[0;34m\u001b[0m\u001b[0m\n\u001b[0m\u001b[1;32m    563\u001b[0m         \u001b[0;32mexcept\u001b[0m \u001b[0mLokyTimeoutError\u001b[0m\u001b[0;34m:\u001b[0m\u001b[0;34m\u001b[0m\u001b[0;34m\u001b[0m\u001b[0m\n\u001b[1;32m    564\u001b[0m             \u001b[0;32mraise\u001b[0m \u001b[0mTimeoutError\u001b[0m\u001b[0;34m(\u001b[0m\u001b[0;34m)\u001b[0m\u001b[0;34m\u001b[0m\u001b[0;34m\u001b[0m\u001b[0m\n",
      "\u001b[0;32m/usr/lib/python3.8/concurrent/futures/_base.py\u001b[0m in \u001b[0;36mresult\u001b[0;34m(self, timeout)\u001b[0m\n\u001b[1;32m    432\u001b[0m                 \u001b[0;32mreturn\u001b[0m \u001b[0mself\u001b[0m\u001b[0;34m.\u001b[0m\u001b[0m__get_result\u001b[0m\u001b[0;34m(\u001b[0m\u001b[0;34m)\u001b[0m\u001b[0;34m\u001b[0m\u001b[0;34m\u001b[0m\u001b[0m\n\u001b[1;32m    433\u001b[0m \u001b[0;34m\u001b[0m\u001b[0m\n\u001b[0;32m--> 434\u001b[0;31m             \u001b[0mself\u001b[0m\u001b[0;34m.\u001b[0m\u001b[0m_condition\u001b[0m\u001b[0;34m.\u001b[0m\u001b[0mwait\u001b[0m\u001b[0;34m(\u001b[0m\u001b[0mtimeout\u001b[0m\u001b[0;34m)\u001b[0m\u001b[0;34m\u001b[0m\u001b[0;34m\u001b[0m\u001b[0m\n\u001b[0m\u001b[1;32m    435\u001b[0m \u001b[0;34m\u001b[0m\u001b[0m\n\u001b[1;32m    436\u001b[0m             \u001b[0;32mif\u001b[0m \u001b[0mself\u001b[0m\u001b[0;34m.\u001b[0m\u001b[0m_state\u001b[0m \u001b[0;32min\u001b[0m \u001b[0;34m[\u001b[0m\u001b[0mCANCELLED\u001b[0m\u001b[0;34m,\u001b[0m \u001b[0mCANCELLED_AND_NOTIFIED\u001b[0m\u001b[0;34m]\u001b[0m\u001b[0;34m:\u001b[0m\u001b[0;34m\u001b[0m\u001b[0;34m\u001b[0m\u001b[0m\n",
      "\u001b[0;32m/usr/lib/python3.8/threading.py\u001b[0m in \u001b[0;36mwait\u001b[0;34m(self, timeout)\u001b[0m\n\u001b[1;32m    300\u001b[0m         \u001b[0;32mtry\u001b[0m\u001b[0;34m:\u001b[0m    \u001b[0;31m# restore state no matter what (e.g., KeyboardInterrupt)\u001b[0m\u001b[0;34m\u001b[0m\u001b[0;34m\u001b[0m\u001b[0m\n\u001b[1;32m    301\u001b[0m             \u001b[0;32mif\u001b[0m \u001b[0mtimeout\u001b[0m \u001b[0;32mis\u001b[0m \u001b[0;32mNone\u001b[0m\u001b[0;34m:\u001b[0m\u001b[0;34m\u001b[0m\u001b[0;34m\u001b[0m\u001b[0m\n\u001b[0;32m--> 302\u001b[0;31m                 \u001b[0mwaiter\u001b[0m\u001b[0;34m.\u001b[0m\u001b[0macquire\u001b[0m\u001b[0;34m(\u001b[0m\u001b[0;34m)\u001b[0m\u001b[0;34m\u001b[0m\u001b[0;34m\u001b[0m\u001b[0m\n\u001b[0m\u001b[1;32m    303\u001b[0m                 \u001b[0mgotit\u001b[0m \u001b[0;34m=\u001b[0m \u001b[0;32mTrue\u001b[0m\u001b[0;34m\u001b[0m\u001b[0;34m\u001b[0m\u001b[0m\n\u001b[1;32m    304\u001b[0m             \u001b[0;32melse\u001b[0m\u001b[0;34m:\u001b[0m\u001b[0;34m\u001b[0m\u001b[0;34m\u001b[0m\u001b[0m\n",
      "\u001b[0;31mKeyboardInterrupt\u001b[0m: "
     ]
    }
   ],
   "source": [
    "from sklearn.model_selection import GridSearchCV\n",
    "from sklearn.model_selection import StratifiedKFold\n",
    "from sklearn.multioutput import MultiOutputRegressor\n",
    "\n",
    "\n",
    "kkk = KNeighborsRegressor()\n",
    "\n",
    "parameter_grid = {'n_neighbors': [3,4,5,6,7,8,9],\n",
    "                  'weights': ['uniform','distance'],\n",
    "                  'leaf_size' : [20,30,40,50],\n",
    "                  'p' : [1,2],\n",
    "                  'n_jobs' : [None,1,3,5]\n",
    "                  }\n",
    "\n",
    "cross_validation = StratifiedKFold(n_splits=10)\n",
    "\n",
    "grid_search = GridSearchCV(kkk,\n",
    "                           param_grid=parameter_grid,\n",
    "                           cv=cross_validation)\n",
    "MultiOutputRegressor(grid_search, n_jobs=3).fit(X,Y)\n",
    "\n",
    "print('Best score: {}'.format(grid_search.best_score_))\n",
    "print('Best parameters: {}'.format(grid_search.best_params_))"
   ]
  },
  {
   "cell_type": "markdown",
   "metadata": {},
   "source": [
    "#### Applying the KNN regression algorithm"
   ]
  },
  {
   "cell_type": "code",
   "execution_count": 98,
   "metadata": {},
   "outputs": [
    {
     "output_type": "stream",
     "name": "stderr",
     "text": "/home/meias/.local/lib/python3.8/site-packages/sklearn/base.py:426: FutureWarning: The default value of multioutput (not exposed in score method) will change from 'variance_weighted' to 'uniform_average' in 0.23 to keep consistent with 'metrics.r2_score'. To specify the default value manually and avoid the warning, please either call 'metrics.r2_score' directly or make a custom scorer with 'metrics.make_scorer' (the built-in scorer 'r2' uses multioutput='uniform_average').\n  warnings.warn(\"The default value of multioutput (not exposed in \"\n"
    },
    {
     "output_type": "execute_result",
     "data": {
      "text/plain": "0.9930030678783439"
     },
     "metadata": {},
     "execution_count": 98
    }
   ],
   "source": [
    "#X = X.values\n",
    "#Y = Y.values\n",
    "\n",
    "knn = KNeighborsRegressor()\n",
    "\n",
    "X_train, X_test, y_train, y_test = train_test_split(X,Y,test_size=0.30,shuffle=True)\n",
    "\n",
    "knn.fit(X_train,y_train)\n",
    "knn.score(X_test,y_test)"
   ]
  },
  {
   "cell_type": "markdown",
   "metadata": {},
   "source": [
    "#### Retrieving column values for world data\n",
    "\n",
    "When working with world data, it is only necessary to have date (days since January 1st 2020) as input."
   ]
  },
  {
   "cell_type": "code",
   "execution_count": 84,
   "metadata": {},
   "outputs": [],
   "source": [
    "ip = []\n",
    "days = per_million['Date'].max()\n",
    "for dat in range(0,days + 100): # Predict from 0 to 155 days from January 1st 2020\n",
    "    ip.append([dat])"
   ]
  },
  {
   "cell_type": "markdown",
   "metadata": {},
   "source": [
    "#### Retrieving column values by country\n",
    "\n",
    "In case we are modeling data of a country, it is necessary to retrieve columns 'Population Density (P/Km²)','Urban Population %','Lat' and 'Long'."
   ]
  },
  {
   "cell_type": "code",
   "execution_count": 99,
   "metadata": {},
   "outputs": [],
   "source": [
    "per_million.loc[per_million['Country/Region'] == 'Portugal'].groupby(['Lat', 'Long','Population Density (P/Km²)','Urban Population %']).size()\n",
    "\n",
    "ip = []\n",
    "days = per_million['Date'].max()\n",
    "for dat in range(0,days + 5): # Predict from 0 to 155 days from January 1st 2020\n",
    "    ip.append([dat])\n"
   ]
  },
  {
   "cell_type": "markdown",
   "metadata": {},
   "source": [
    "#### Predict"
   ]
  },
  {
   "cell_type": "code",
   "execution_count": 100,
   "metadata": {},
   "outputs": [
    {
     "output_type": "display_data",
     "data": {
      "text/plain": "<Figure size 448.375x360 with 1 Axes>",
      "image/svg+xml": "<?xml version=\"1.0\" encoding=\"utf-8\" standalone=\"no\"?>\n<!DOCTYPE svg PUBLIC \"-//W3C//DTD SVG 1.1//EN\"\n  \"http://www.w3.org/Graphics/SVG/1.1/DTD/svg11.dtd\">\n<!-- Created with matplotlib (https://matplotlib.org/) -->\n<svg height=\"352.15625pt\" version=\"1.1\" viewBox=\"0 0 431.426354 352.15625\" width=\"431.426354pt\" xmlns=\"http://www.w3.org/2000/svg\" xmlns:xlink=\"http://www.w3.org/1999/xlink\">\n <defs>\n  <style type=\"text/css\">\n*{stroke-linecap:butt;stroke-linejoin:round;}\n  </style>\n </defs>\n <g id=\"figure_1\">\n  <g id=\"patch_1\">\n   <path d=\"M 0 352.15625 \nL 431.426354 352.15625 \nL 431.426354 0 \nL 0 0 \nz\n\" style=\"fill:none;\"/>\n  </g>\n  <g id=\"axes_1\">\n   <g id=\"patch_2\">\n    <path d=\"M 59.690625 314.6 \nL 336.367604 314.6 \nL 336.367604 7.2 \nL 59.690625 7.2 \nz\n\" style=\"fill:#ffffff;\"/>\n   </g>\n   <g id=\"matplotlib.axis_1\">\n    <g id=\"xtick_1\">\n     <g id=\"line2d_1\">\n      <path clip-path=\"url(#pe4cf40082a)\" d=\"M 96.221568 314.6 \nL 96.221568 7.2 \n\" style=\"fill:none;stroke:#b0b0b0;stroke-linecap:square;stroke-width:0.8;\"/>\n     </g>\n     <g id=\"line2d_2\">\n      <defs>\n       <path d=\"M 0 0 \nL 0 3.5 \n\" id=\"m5c35b2e17c\" style=\"stroke:#000000;stroke-width:0.8;\"/>\n      </defs>\n      <g>\n       <use style=\"stroke:#000000;stroke-width:0.8;\" x=\"96.221568\" xlink:href=\"#m5c35b2e17c\" y=\"314.6\"/>\n      </g>\n     </g>\n     <g id=\"text_1\">\n      <!-- 01-Feb -->\n      <defs>\n       <path d=\"M 31.78125 66.40625 \nQ 24.171875 66.40625 20.328125 58.90625 \nQ 16.5 51.421875 16.5 36.375 \nQ 16.5 21.390625 20.328125 13.890625 \nQ 24.171875 6.390625 31.78125 6.390625 \nQ 39.453125 6.390625 43.28125 13.890625 \nQ 47.125 21.390625 47.125 36.375 \nQ 47.125 51.421875 43.28125 58.90625 \nQ 39.453125 66.40625 31.78125 66.40625 \nz\nM 31.78125 74.21875 \nQ 44.046875 74.21875 50.515625 64.515625 \nQ 56.984375 54.828125 56.984375 36.375 \nQ 56.984375 17.96875 50.515625 8.265625 \nQ 44.046875 -1.421875 31.78125 -1.421875 \nQ 19.53125 -1.421875 13.0625 8.265625 \nQ 6.59375 17.96875 6.59375 36.375 \nQ 6.59375 54.828125 13.0625 64.515625 \nQ 19.53125 74.21875 31.78125 74.21875 \nz\n\" id=\"DejaVuSans-48\"/>\n       <path d=\"M 12.40625 8.296875 \nL 28.515625 8.296875 \nL 28.515625 63.921875 \nL 10.984375 60.40625 \nL 10.984375 69.390625 \nL 28.421875 72.90625 \nL 38.28125 72.90625 \nL 38.28125 8.296875 \nL 54.390625 8.296875 \nL 54.390625 0 \nL 12.40625 0 \nz\n\" id=\"DejaVuSans-49\"/>\n       <path d=\"M 4.890625 31.390625 \nL 31.203125 31.390625 \nL 31.203125 23.390625 \nL 4.890625 23.390625 \nz\n\" id=\"DejaVuSans-45\"/>\n       <path d=\"M 9.8125 72.90625 \nL 51.703125 72.90625 \nL 51.703125 64.59375 \nL 19.671875 64.59375 \nL 19.671875 43.109375 \nL 48.578125 43.109375 \nL 48.578125 34.8125 \nL 19.671875 34.8125 \nL 19.671875 0 \nL 9.8125 0 \nz\n\" id=\"DejaVuSans-70\"/>\n       <path d=\"M 56.203125 29.59375 \nL 56.203125 25.203125 \nL 14.890625 25.203125 \nQ 15.484375 15.921875 20.484375 11.0625 \nQ 25.484375 6.203125 34.421875 6.203125 \nQ 39.59375 6.203125 44.453125 7.46875 \nQ 49.3125 8.734375 54.109375 11.28125 \nL 54.109375 2.78125 \nQ 49.265625 0.734375 44.1875 -0.34375 \nQ 39.109375 -1.421875 33.890625 -1.421875 \nQ 20.796875 -1.421875 13.15625 6.1875 \nQ 5.515625 13.8125 5.515625 26.8125 \nQ 5.515625 40.234375 12.765625 48.109375 \nQ 20.015625 56 32.328125 56 \nQ 43.359375 56 49.78125 48.890625 \nQ 56.203125 41.796875 56.203125 29.59375 \nz\nM 47.21875 32.234375 \nQ 47.125 39.59375 43.09375 43.984375 \nQ 39.0625 48.390625 32.421875 48.390625 \nQ 24.90625 48.390625 20.390625 44.140625 \nQ 15.875 39.890625 15.1875 32.171875 \nz\n\" id=\"DejaVuSans-101\"/>\n       <path d=\"M 48.6875 27.296875 \nQ 48.6875 37.203125 44.609375 42.84375 \nQ 40.53125 48.484375 33.40625 48.484375 \nQ 26.265625 48.484375 22.1875 42.84375 \nQ 18.109375 37.203125 18.109375 27.296875 \nQ 18.109375 17.390625 22.1875 11.75 \nQ 26.265625 6.109375 33.40625 6.109375 \nQ 40.53125 6.109375 44.609375 11.75 \nQ 48.6875 17.390625 48.6875 27.296875 \nz\nM 18.109375 46.390625 \nQ 20.953125 51.265625 25.265625 53.625 \nQ 29.59375 56 35.59375 56 \nQ 45.5625 56 51.78125 48.09375 \nQ 58.015625 40.1875 58.015625 27.296875 \nQ 58.015625 14.40625 51.78125 6.484375 \nQ 45.5625 -1.421875 35.59375 -1.421875 \nQ 29.59375 -1.421875 25.265625 0.953125 \nQ 20.953125 3.328125 18.109375 8.203125 \nL 18.109375 0 \nL 9.078125 0 \nL 9.078125 75.984375 \nL 18.109375 75.984375 \nz\n\" id=\"DejaVuSans-98\"/>\n      </defs>\n      <g transform=\"translate(79.203599 329.198437)scale(0.1 -0.1)\">\n       <use xlink:href=\"#DejaVuSans-48\"/>\n       <use x=\"63.623047\" xlink:href=\"#DejaVuSans-49\"/>\n       <use x=\"127.246094\" xlink:href=\"#DejaVuSans-45\"/>\n       <use x=\"163.330078\" xlink:href=\"#DejaVuSans-70\"/>\n       <use x=\"215.349609\" xlink:href=\"#DejaVuSans-101\"/>\n       <use x=\"276.873047\" xlink:href=\"#DejaVuSans-98\"/>\n      </g>\n     </g>\n    </g>\n    <g id=\"xtick_2\">\n     <g id=\"line2d_3\">\n      <path clip-path=\"url(#pe4cf40082a)\" d=\"M 154.112134 314.6 \nL 154.112134 7.2 \n\" style=\"fill:none;stroke:#b0b0b0;stroke-linecap:square;stroke-width:0.8;\"/>\n     </g>\n     <g id=\"line2d_4\">\n      <g>\n       <use style=\"stroke:#000000;stroke-width:0.8;\" x=\"154.112134\" xlink:href=\"#m5c35b2e17c\" y=\"314.6\"/>\n      </g>\n     </g>\n     <g id=\"text_2\">\n      <!-- 01-Mar -->\n      <defs>\n       <path d=\"M 9.8125 72.90625 \nL 24.515625 72.90625 \nL 43.109375 23.296875 \nL 61.8125 72.90625 \nL 76.515625 72.90625 \nL 76.515625 0 \nL 66.890625 0 \nL 66.890625 64.015625 \nL 48.09375 14.015625 \nL 38.1875 14.015625 \nL 19.390625 64.015625 \nL 19.390625 0 \nL 9.8125 0 \nz\n\" id=\"DejaVuSans-77\"/>\n       <path d=\"M 34.28125 27.484375 \nQ 23.390625 27.484375 19.1875 25 \nQ 14.984375 22.515625 14.984375 16.5 \nQ 14.984375 11.71875 18.140625 8.90625 \nQ 21.296875 6.109375 26.703125 6.109375 \nQ 34.1875 6.109375 38.703125 11.40625 \nQ 43.21875 16.703125 43.21875 25.484375 \nL 43.21875 27.484375 \nz\nM 52.203125 31.203125 \nL 52.203125 0 \nL 43.21875 0 \nL 43.21875 8.296875 \nQ 40.140625 3.328125 35.546875 0.953125 \nQ 30.953125 -1.421875 24.3125 -1.421875 \nQ 15.921875 -1.421875 10.953125 3.296875 \nQ 6 8.015625 6 15.921875 \nQ 6 25.140625 12.171875 29.828125 \nQ 18.359375 34.515625 30.609375 34.515625 \nL 43.21875 34.515625 \nL 43.21875 35.40625 \nQ 43.21875 41.609375 39.140625 45 \nQ 35.0625 48.390625 27.6875 48.390625 \nQ 23 48.390625 18.546875 47.265625 \nQ 14.109375 46.140625 10.015625 43.890625 \nL 10.015625 52.203125 \nQ 14.9375 54.109375 19.578125 55.046875 \nQ 24.21875 56 28.609375 56 \nQ 40.484375 56 46.34375 49.84375 \nQ 52.203125 43.703125 52.203125 31.203125 \nz\n\" id=\"DejaVuSans-97\"/>\n       <path d=\"M 41.109375 46.296875 \nQ 39.59375 47.171875 37.8125 47.578125 \nQ 36.03125 48 33.890625 48 \nQ 26.265625 48 22.1875 43.046875 \nQ 18.109375 38.09375 18.109375 28.8125 \nL 18.109375 0 \nL 9.078125 0 \nL 9.078125 54.6875 \nL 18.109375 54.6875 \nL 18.109375 46.1875 \nQ 20.953125 51.171875 25.484375 53.578125 \nQ 30.03125 56 36.53125 56 \nQ 37.453125 56 38.578125 55.875 \nQ 39.703125 55.765625 41.0625 55.515625 \nz\n\" id=\"DejaVuSans-114\"/>\n      </defs>\n      <g transform=\"translate(136.512134 329.198437)scale(0.1 -0.1)\">\n       <use xlink:href=\"#DejaVuSans-48\"/>\n       <use x=\"63.623047\" xlink:href=\"#DejaVuSans-49\"/>\n       <use x=\"127.246094\" xlink:href=\"#DejaVuSans-45\"/>\n       <use x=\"163.330078\" xlink:href=\"#DejaVuSans-77\"/>\n       <use x=\"249.609375\" xlink:href=\"#DejaVuSans-97\"/>\n       <use x=\"310.888672\" xlink:href=\"#DejaVuSans-114\"/>\n      </g>\n     </g>\n    </g>\n    <g id=\"xtick_3\">\n     <g id=\"line2d_5\">\n      <path clip-path=\"url(#pe4cf40082a)\" d=\"M 215.995152 314.6 \nL 215.995152 7.2 \n\" style=\"fill:none;stroke:#b0b0b0;stroke-linecap:square;stroke-width:0.8;\"/>\n     </g>\n     <g id=\"line2d_6\">\n      <g>\n       <use style=\"stroke:#000000;stroke-width:0.8;\" x=\"215.995152\" xlink:href=\"#m5c35b2e17c\" y=\"314.6\"/>\n      </g>\n     </g>\n     <g id=\"text_3\">\n      <!-- 01-Apr -->\n      <defs>\n       <path d=\"M 34.1875 63.1875 \nL 20.796875 26.90625 \nL 47.609375 26.90625 \nz\nM 28.609375 72.90625 \nL 39.796875 72.90625 \nL 67.578125 0 \nL 57.328125 0 \nL 50.6875 18.703125 \nL 17.828125 18.703125 \nL 11.1875 0 \nL 0.78125 0 \nz\n\" id=\"DejaVuSans-65\"/>\n       <path d=\"M 18.109375 8.203125 \nL 18.109375 -20.796875 \nL 9.078125 -20.796875 \nL 9.078125 54.6875 \nL 18.109375 54.6875 \nL 18.109375 46.390625 \nQ 20.953125 51.265625 25.265625 53.625 \nQ 29.59375 56 35.59375 56 \nQ 45.5625 56 51.78125 48.09375 \nQ 58.015625 40.1875 58.015625 27.296875 \nQ 58.015625 14.40625 51.78125 6.484375 \nQ 45.5625 -1.421875 35.59375 -1.421875 \nQ 29.59375 -1.421875 25.265625 0.953125 \nQ 20.953125 3.328125 18.109375 8.203125 \nz\nM 48.6875 27.296875 \nQ 48.6875 37.203125 44.609375 42.84375 \nQ 40.53125 48.484375 33.40625 48.484375 \nQ 26.265625 48.484375 22.1875 42.84375 \nQ 18.109375 37.203125 18.109375 27.296875 \nQ 18.109375 17.390625 22.1875 11.75 \nQ 26.265625 6.109375 33.40625 6.109375 \nQ 40.53125 6.109375 44.609375 11.75 \nQ 48.6875 17.390625 48.6875 27.296875 \nz\n\" id=\"DejaVuSans-112\"/>\n      </defs>\n      <g transform=\"translate(199.291246 329.198437)scale(0.1 -0.1)\">\n       <use xlink:href=\"#DejaVuSans-48\"/>\n       <use x=\"63.623047\" xlink:href=\"#DejaVuSans-49\"/>\n       <use x=\"127.246094\" xlink:href=\"#DejaVuSans-45\"/>\n       <use x=\"161.080078\" xlink:href=\"#DejaVuSans-65\"/>\n       <use x=\"229.488281\" xlink:href=\"#DejaVuSans-112\"/>\n       <use x=\"292.964844\" xlink:href=\"#DejaVuSans-114\"/>\n      </g>\n     </g>\n    </g>\n    <g id=\"xtick_4\">\n     <g id=\"line2d_7\">\n      <path clip-path=\"url(#pe4cf40082a)\" d=\"M 275.881944 314.6 \nL 275.881944 7.2 \n\" style=\"fill:none;stroke:#b0b0b0;stroke-linecap:square;stroke-width:0.8;\"/>\n     </g>\n     <g id=\"line2d_8\">\n      <g>\n       <use style=\"stroke:#000000;stroke-width:0.8;\" x=\"275.881944\" xlink:href=\"#m5c35b2e17c\" y=\"314.6\"/>\n      </g>\n     </g>\n     <g id=\"text_4\">\n      <!-- 01-May -->\n      <defs>\n       <path d=\"M 32.171875 -5.078125 \nQ 28.375 -14.84375 24.75 -17.8125 \nQ 21.140625 -20.796875 15.09375 -20.796875 \nL 7.90625 -20.796875 \nL 7.90625 -13.28125 \nL 13.1875 -13.28125 \nQ 16.890625 -13.28125 18.9375 -11.515625 \nQ 21 -9.765625 23.484375 -3.21875 \nL 25.09375 0.875 \nL 2.984375 54.6875 \nL 12.5 54.6875 \nL 29.59375 11.921875 \nL 46.6875 54.6875 \nL 56.203125 54.6875 \nz\n\" id=\"DejaVuSans-121\"/>\n      </defs>\n      <g transform=\"translate(257.378038 329.198437)scale(0.1 -0.1)\">\n       <use xlink:href=\"#DejaVuSans-48\"/>\n       <use x=\"63.623047\" xlink:href=\"#DejaVuSans-49\"/>\n       <use x=\"127.246094\" xlink:href=\"#DejaVuSans-45\"/>\n       <use x=\"163.330078\" xlink:href=\"#DejaVuSans-77\"/>\n       <use x=\"249.609375\" xlink:href=\"#DejaVuSans-97\"/>\n       <use x=\"310.888672\" xlink:href=\"#DejaVuSans-121\"/>\n      </g>\n     </g>\n    </g>\n    <g id=\"xtick_5\">\n     <g id=\"line2d_9\">\n      <defs>\n       <path d=\"M 0 0 \nL 0 2 \n\" id=\"m8e997dc5aa\" style=\"stroke:#000000;stroke-width:0.6;\"/>\n      </defs>\n      <g>\n       <use style=\"stroke:#000000;stroke-width:0.6;\" x=\"68.274399\" xlink:href=\"#m8e997dc5aa\" y=\"314.6\"/>\n      </g>\n     </g>\n    </g>\n    <g id=\"xtick_6\">\n     <g id=\"line2d_10\">\n      <g>\n       <use style=\"stroke:#000000;stroke-width:0.6;\" x=\"86.240436\" xlink:href=\"#m8e997dc5aa\" y=\"314.6\"/>\n      </g>\n     </g>\n    </g>\n    <g id=\"xtick_7\">\n     <g id=\"line2d_11\">\n      <g>\n       <use style=\"stroke:#000000;stroke-width:0.6;\" x=\"104.206474\" xlink:href=\"#m8e997dc5aa\" y=\"314.6\"/>\n      </g>\n     </g>\n    </g>\n    <g id=\"xtick_8\">\n     <g id=\"line2d_12\">\n      <g>\n       <use style=\"stroke:#000000;stroke-width:0.6;\" x=\"122.172511\" xlink:href=\"#m8e997dc5aa\" y=\"314.6\"/>\n      </g>\n     </g>\n    </g>\n    <g id=\"xtick_9\">\n     <g id=\"line2d_13\">\n      <g>\n       <use style=\"stroke:#000000;stroke-width:0.6;\" x=\"140.138549\" xlink:href=\"#m8e997dc5aa\" y=\"314.6\"/>\n      </g>\n     </g>\n    </g>\n    <g id=\"xtick_10\">\n     <g id=\"line2d_14\">\n      <g>\n       <use style=\"stroke:#000000;stroke-width:0.6;\" x=\"158.104587\" xlink:href=\"#m8e997dc5aa\" y=\"314.6\"/>\n      </g>\n     </g>\n    </g>\n    <g id=\"xtick_11\">\n     <g id=\"line2d_15\">\n      <g>\n       <use style=\"stroke:#000000;stroke-width:0.6;\" x=\"176.070624\" xlink:href=\"#m8e997dc5aa\" y=\"314.6\"/>\n      </g>\n     </g>\n    </g>\n    <g id=\"xtick_12\">\n     <g id=\"line2d_16\">\n      <g>\n       <use style=\"stroke:#000000;stroke-width:0.6;\" x=\"194.036662\" xlink:href=\"#m8e997dc5aa\" y=\"314.6\"/>\n      </g>\n     </g>\n    </g>\n    <g id=\"xtick_13\">\n     <g id=\"line2d_17\">\n      <g>\n       <use style=\"stroke:#000000;stroke-width:0.6;\" x=\"212.002699\" xlink:href=\"#m8e997dc5aa\" y=\"314.6\"/>\n      </g>\n     </g>\n    </g>\n    <g id=\"xtick_14\">\n     <g id=\"line2d_18\">\n      <g>\n       <use style=\"stroke:#000000;stroke-width:0.6;\" x=\"229.968737\" xlink:href=\"#m8e997dc5aa\" y=\"314.6\"/>\n      </g>\n     </g>\n    </g>\n    <g id=\"xtick_15\">\n     <g id=\"line2d_19\">\n      <g>\n       <use style=\"stroke:#000000;stroke-width:0.6;\" x=\"247.934775\" xlink:href=\"#m8e997dc5aa\" y=\"314.6\"/>\n      </g>\n     </g>\n    </g>\n    <g id=\"xtick_16\">\n     <g id=\"line2d_20\">\n      <g>\n       <use style=\"stroke:#000000;stroke-width:0.6;\" x=\"265.900812\" xlink:href=\"#m8e997dc5aa\" y=\"314.6\"/>\n      </g>\n     </g>\n    </g>\n    <g id=\"xtick_17\">\n     <g id=\"line2d_21\">\n      <g>\n       <use style=\"stroke:#000000;stroke-width:0.6;\" x=\"283.86685\" xlink:href=\"#m8e997dc5aa\" y=\"314.6\"/>\n      </g>\n     </g>\n    </g>\n    <g id=\"xtick_18\">\n     <g id=\"line2d_22\">\n      <g>\n       <use style=\"stroke:#000000;stroke-width:0.6;\" x=\"301.832887\" xlink:href=\"#m8e997dc5aa\" y=\"314.6\"/>\n      </g>\n     </g>\n    </g>\n    <g id=\"xtick_19\">\n     <g id=\"line2d_23\">\n      <g>\n       <use style=\"stroke:#000000;stroke-width:0.6;\" x=\"319.798925\" xlink:href=\"#m8e997dc5aa\" y=\"314.6\"/>\n      </g>\n     </g>\n    </g>\n    <g id=\"text_5\">\n     <!-- Date -->\n     <defs>\n      <path d=\"M 19.671875 64.796875 \nL 19.671875 8.109375 \nL 31.59375 8.109375 \nQ 46.6875 8.109375 53.6875 14.9375 \nQ 60.6875 21.78125 60.6875 36.53125 \nQ 60.6875 51.171875 53.6875 57.984375 \nQ 46.6875 64.796875 31.59375 64.796875 \nz\nM 9.8125 72.90625 \nL 30.078125 72.90625 \nQ 51.265625 72.90625 61.171875 64.09375 \nQ 71.09375 55.28125 71.09375 36.53125 \nQ 71.09375 17.671875 61.125 8.828125 \nQ 51.171875 0 30.078125 0 \nL 9.8125 0 \nz\n\" id=\"DejaVuSans-68\"/>\n      <path d=\"M 18.3125 70.21875 \nL 18.3125 54.6875 \nL 36.8125 54.6875 \nL 36.8125 47.703125 \nL 18.3125 47.703125 \nL 18.3125 18.015625 \nQ 18.3125 11.328125 20.140625 9.421875 \nQ 21.96875 7.515625 27.59375 7.515625 \nL 36.8125 7.515625 \nL 36.8125 0 \nL 27.59375 0 \nQ 17.1875 0 13.234375 3.875 \nQ 9.28125 7.765625 9.28125 18.015625 \nL 9.28125 47.703125 \nL 2.6875 47.703125 \nL 2.6875 54.6875 \nL 9.28125 54.6875 \nL 9.28125 70.21875 \nz\n\" id=\"DejaVuSans-116\"/>\n     </defs>\n     <g transform=\"translate(186.078333 342.876562)scale(0.1 -0.1)\">\n      <use xlink:href=\"#DejaVuSans-68\"/>\n      <use x=\"77.001953\" xlink:href=\"#DejaVuSans-97\"/>\n      <use x=\"138.28125\" xlink:href=\"#DejaVuSans-116\"/>\n      <use x=\"177.490234\" xlink:href=\"#DejaVuSans-101\"/>\n     </g>\n    </g>\n   </g>\n   <g id=\"matplotlib.axis_2\">\n    <g id=\"ytick_1\">\n     <g id=\"line2d_24\">\n      <path clip-path=\"url(#pe4cf40082a)\" d=\"M 59.690625 300.627273 \nL 336.367604 300.627273 \n\" style=\"fill:none;stroke:#b0b0b0;stroke-linecap:square;stroke-width:0.8;\"/>\n     </g>\n     <g id=\"line2d_25\">\n      <defs>\n       <path d=\"M 0 0 \nL -3.5 0 \n\" id=\"m14552202d8\" style=\"stroke:#000000;stroke-width:0.8;\"/>\n      </defs>\n      <g>\n       <use style=\"stroke:#000000;stroke-width:0.8;\" x=\"59.690625\" xlink:href=\"#m14552202d8\" y=\"300.627273\"/>\n      </g>\n     </g>\n     <g id=\"text_6\">\n      <!-- 0 -->\n      <g transform=\"translate(46.328125 304.426491)scale(0.1 -0.1)\">\n       <use xlink:href=\"#DejaVuSans-48\"/>\n      </g>\n     </g>\n    </g>\n    <g id=\"ytick_2\">\n     <g id=\"line2d_26\">\n      <path clip-path=\"url(#pe4cf40082a)\" d=\"M 59.690625 251.06805 \nL 336.367604 251.06805 \n\" style=\"fill:none;stroke:#b0b0b0;stroke-linecap:square;stroke-width:0.8;\"/>\n     </g>\n     <g id=\"line2d_27\">\n      <g>\n       <use style=\"stroke:#000000;stroke-width:0.8;\" x=\"59.690625\" xlink:href=\"#m14552202d8\" y=\"251.06805\"/>\n      </g>\n     </g>\n     <g id=\"text_7\">\n      <!-- 5000 -->\n      <defs>\n       <path d=\"M 10.796875 72.90625 \nL 49.515625 72.90625 \nL 49.515625 64.59375 \nL 19.828125 64.59375 \nL 19.828125 46.734375 \nQ 21.96875 47.46875 24.109375 47.828125 \nQ 26.265625 48.1875 28.421875 48.1875 \nQ 40.625 48.1875 47.75 41.5 \nQ 54.890625 34.8125 54.890625 23.390625 \nQ 54.890625 11.625 47.5625 5.09375 \nQ 40.234375 -1.421875 26.90625 -1.421875 \nQ 22.3125 -1.421875 17.546875 -0.640625 \nQ 12.796875 0.140625 7.71875 1.703125 \nL 7.71875 11.625 \nQ 12.109375 9.234375 16.796875 8.0625 \nQ 21.484375 6.890625 26.703125 6.890625 \nQ 35.15625 6.890625 40.078125 11.328125 \nQ 45.015625 15.765625 45.015625 23.390625 \nQ 45.015625 31 40.078125 35.4375 \nQ 35.15625 39.890625 26.703125 39.890625 \nQ 22.75 39.890625 18.8125 39.015625 \nQ 14.890625 38.140625 10.796875 36.28125 \nz\n\" id=\"DejaVuSans-53\"/>\n      </defs>\n      <g transform=\"translate(27.240625 254.867269)scale(0.1 -0.1)\">\n       <use xlink:href=\"#DejaVuSans-53\"/>\n       <use x=\"63.623047\" xlink:href=\"#DejaVuSans-48\"/>\n       <use x=\"127.246094\" xlink:href=\"#DejaVuSans-48\"/>\n       <use x=\"190.869141\" xlink:href=\"#DejaVuSans-48\"/>\n      </g>\n     </g>\n    </g>\n    <g id=\"ytick_3\">\n     <g id=\"line2d_28\">\n      <path clip-path=\"url(#pe4cf40082a)\" d=\"M 59.690625 201.508827 \nL 336.367604 201.508827 \n\" style=\"fill:none;stroke:#b0b0b0;stroke-linecap:square;stroke-width:0.8;\"/>\n     </g>\n     <g id=\"line2d_29\">\n      <g>\n       <use style=\"stroke:#000000;stroke-width:0.8;\" x=\"59.690625\" xlink:href=\"#m14552202d8\" y=\"201.508827\"/>\n      </g>\n     </g>\n     <g id=\"text_8\">\n      <!-- 10000 -->\n      <g transform=\"translate(20.878125 205.308046)scale(0.1 -0.1)\">\n       <use xlink:href=\"#DejaVuSans-49\"/>\n       <use x=\"63.623047\" xlink:href=\"#DejaVuSans-48\"/>\n       <use x=\"127.246094\" xlink:href=\"#DejaVuSans-48\"/>\n       <use x=\"190.869141\" xlink:href=\"#DejaVuSans-48\"/>\n       <use x=\"254.492188\" xlink:href=\"#DejaVuSans-48\"/>\n      </g>\n     </g>\n    </g>\n    <g id=\"ytick_4\">\n     <g id=\"line2d_30\">\n      <path clip-path=\"url(#pe4cf40082a)\" d=\"M 59.690625 151.949604 \nL 336.367604 151.949604 \n\" style=\"fill:none;stroke:#b0b0b0;stroke-linecap:square;stroke-width:0.8;\"/>\n     </g>\n     <g id=\"line2d_31\">\n      <g>\n       <use style=\"stroke:#000000;stroke-width:0.8;\" x=\"59.690625\" xlink:href=\"#m14552202d8\" y=\"151.949604\"/>\n      </g>\n     </g>\n     <g id=\"text_9\">\n      <!-- 15000 -->\n      <g transform=\"translate(20.878125 155.748823)scale(0.1 -0.1)\">\n       <use xlink:href=\"#DejaVuSans-49\"/>\n       <use x=\"63.623047\" xlink:href=\"#DejaVuSans-53\"/>\n       <use x=\"127.246094\" xlink:href=\"#DejaVuSans-48\"/>\n       <use x=\"190.869141\" xlink:href=\"#DejaVuSans-48\"/>\n       <use x=\"254.492188\" xlink:href=\"#DejaVuSans-48\"/>\n      </g>\n     </g>\n    </g>\n    <g id=\"ytick_5\">\n     <g id=\"line2d_32\">\n      <path clip-path=\"url(#pe4cf40082a)\" d=\"M 59.690625 102.390382 \nL 336.367604 102.390382 \n\" style=\"fill:none;stroke:#b0b0b0;stroke-linecap:square;stroke-width:0.8;\"/>\n     </g>\n     <g id=\"line2d_33\">\n      <g>\n       <use style=\"stroke:#000000;stroke-width:0.8;\" x=\"59.690625\" xlink:href=\"#m14552202d8\" y=\"102.390382\"/>\n      </g>\n     </g>\n     <g id=\"text_10\">\n      <!-- 20000 -->\n      <defs>\n       <path d=\"M 19.1875 8.296875 \nL 53.609375 8.296875 \nL 53.609375 0 \nL 7.328125 0 \nL 7.328125 8.296875 \nQ 12.9375 14.109375 22.625 23.890625 \nQ 32.328125 33.6875 34.8125 36.53125 \nQ 39.546875 41.84375 41.421875 45.53125 \nQ 43.3125 49.21875 43.3125 52.78125 \nQ 43.3125 58.59375 39.234375 62.25 \nQ 35.15625 65.921875 28.609375 65.921875 \nQ 23.96875 65.921875 18.8125 64.3125 \nQ 13.671875 62.703125 7.8125 59.421875 \nL 7.8125 69.390625 \nQ 13.765625 71.78125 18.9375 73 \nQ 24.125 74.21875 28.421875 74.21875 \nQ 39.75 74.21875 46.484375 68.546875 \nQ 53.21875 62.890625 53.21875 53.421875 \nQ 53.21875 48.921875 51.53125 44.890625 \nQ 49.859375 40.875 45.40625 35.40625 \nQ 44.1875 33.984375 37.640625 27.21875 \nQ 31.109375 20.453125 19.1875 8.296875 \nz\n\" id=\"DejaVuSans-50\"/>\n      </defs>\n      <g transform=\"translate(20.878125 106.1896)scale(0.1 -0.1)\">\n       <use xlink:href=\"#DejaVuSans-50\"/>\n       <use x=\"63.623047\" xlink:href=\"#DejaVuSans-48\"/>\n       <use x=\"127.246094\" xlink:href=\"#DejaVuSans-48\"/>\n       <use x=\"190.869141\" xlink:href=\"#DejaVuSans-48\"/>\n       <use x=\"254.492188\" xlink:href=\"#DejaVuSans-48\"/>\n      </g>\n     </g>\n    </g>\n    <g id=\"ytick_6\">\n     <g id=\"line2d_34\">\n      <path clip-path=\"url(#pe4cf40082a)\" d=\"M 59.690625 52.831159 \nL 336.367604 52.831159 \n\" style=\"fill:none;stroke:#b0b0b0;stroke-linecap:square;stroke-width:0.8;\"/>\n     </g>\n     <g id=\"line2d_35\">\n      <g>\n       <use style=\"stroke:#000000;stroke-width:0.8;\" x=\"59.690625\" xlink:href=\"#m14552202d8\" y=\"52.831159\"/>\n      </g>\n     </g>\n     <g id=\"text_11\">\n      <!-- 25000 -->\n      <g transform=\"translate(20.878125 56.630378)scale(0.1 -0.1)\">\n       <use xlink:href=\"#DejaVuSans-50\"/>\n       <use x=\"63.623047\" xlink:href=\"#DejaVuSans-53\"/>\n       <use x=\"127.246094\" xlink:href=\"#DejaVuSans-48\"/>\n       <use x=\"190.869141\" xlink:href=\"#DejaVuSans-48\"/>\n       <use x=\"254.492188\" xlink:href=\"#DejaVuSans-48\"/>\n      </g>\n     </g>\n    </g>\n    <g id=\"text_12\">\n     <!-- Cases -->\n     <defs>\n      <path d=\"M 64.40625 67.28125 \nL 64.40625 56.890625 \nQ 59.421875 61.53125 53.78125 63.8125 \nQ 48.140625 66.109375 41.796875 66.109375 \nQ 29.296875 66.109375 22.65625 58.46875 \nQ 16.015625 50.828125 16.015625 36.375 \nQ 16.015625 21.96875 22.65625 14.328125 \nQ 29.296875 6.6875 41.796875 6.6875 \nQ 48.140625 6.6875 53.78125 8.984375 \nQ 59.421875 11.28125 64.40625 15.921875 \nL 64.40625 5.609375 \nQ 59.234375 2.09375 53.4375 0.328125 \nQ 47.65625 -1.421875 41.21875 -1.421875 \nQ 24.65625 -1.421875 15.125 8.703125 \nQ 5.609375 18.84375 5.609375 36.375 \nQ 5.609375 53.953125 15.125 64.078125 \nQ 24.65625 74.21875 41.21875 74.21875 \nQ 47.75 74.21875 53.53125 72.484375 \nQ 59.328125 70.75 64.40625 67.28125 \nz\n\" id=\"DejaVuSans-67\"/>\n      <path d=\"M 44.28125 53.078125 \nL 44.28125 44.578125 \nQ 40.484375 46.53125 36.375 47.5 \nQ 32.28125 48.484375 27.875 48.484375 \nQ 21.1875 48.484375 17.84375 46.4375 \nQ 14.5 44.390625 14.5 40.28125 \nQ 14.5 37.15625 16.890625 35.375 \nQ 19.28125 33.59375 26.515625 31.984375 \nL 29.59375 31.296875 \nQ 39.15625 29.25 43.1875 25.515625 \nQ 47.21875 21.78125 47.21875 15.09375 \nQ 47.21875 7.46875 41.1875 3.015625 \nQ 35.15625 -1.421875 24.609375 -1.421875 \nQ 20.21875 -1.421875 15.453125 -0.5625 \nQ 10.6875 0.296875 5.421875 2 \nL 5.421875 11.28125 \nQ 10.40625 8.6875 15.234375 7.390625 \nQ 20.0625 6.109375 24.8125 6.109375 \nQ 31.15625 6.109375 34.5625 8.28125 \nQ 37.984375 10.453125 37.984375 14.40625 \nQ 37.984375 18.0625 35.515625 20.015625 \nQ 33.0625 21.96875 24.703125 23.78125 \nL 21.578125 24.515625 \nQ 13.234375 26.265625 9.515625 29.90625 \nQ 5.8125 33.546875 5.8125 39.890625 \nQ 5.8125 47.609375 11.28125 51.796875 \nQ 16.75 56 26.8125 56 \nQ 31.78125 56 36.171875 55.265625 \nQ 40.578125 54.546875 44.28125 53.078125 \nz\n\" id=\"DejaVuSans-115\"/>\n     </defs>\n     <g transform=\"translate(14.798438 175.741406)rotate(-90)scale(0.1 -0.1)\">\n      <use xlink:href=\"#DejaVuSans-67\"/>\n      <use x=\"69.824219\" xlink:href=\"#DejaVuSans-97\"/>\n      <use x=\"131.103516\" xlink:href=\"#DejaVuSans-115\"/>\n      <use x=\"183.203125\" xlink:href=\"#DejaVuSans-101\"/>\n      <use x=\"244.726562\" xlink:href=\"#DejaVuSans-115\"/>\n     </g>\n    </g>\n   </g>\n   <g id=\"line2d_36\">\n    <path clip-path=\"url(#pe4cf40082a)\" d=\"M 72.266851 300.627273 \nL 74.263078 300.627273 \nL 76.259304 300.627273 \nL 78.255531 300.627273 \nL 80.251757 300.627273 \nL 82.247983 300.627273 \nL 84.24421 300.627273 \nL 86.240436 300.627273 \nL 88.236663 300.627273 \nL 90.232889 300.627273 \nL 92.229115 300.627273 \nL 94.225342 300.627273 \nL 96.221568 300.627273 \nL 98.217795 300.627273 \nL 100.214021 300.627273 \nL 102.210247 300.627273 \nL 104.206474 300.627273 \nL 106.2027 300.627273 \nL 108.198927 300.627273 \nL 110.195153 300.627273 \nL 112.191379 300.627273 \nL 114.187606 300.627273 \nL 116.183832 300.627273 \nL 118.180059 300.627273 \nL 120.176285 300.627273 \nL 122.172511 300.627273 \nL 124.168738 300.627273 \nL 126.164964 300.627273 \nL 128.161191 300.627273 \nL 130.157417 300.627273 \nL 132.153643 300.627273 \nL 134.14987 300.627273 \nL 136.146096 300.627273 \nL 138.142323 300.627273 \nL 140.138549 300.627273 \nL 142.134775 300.627273 \nL 144.131002 300.627273 \nL 146.127228 300.627273 \nL 148.123455 300.627273 \nL 150.119681 300.627273 \nL 152.115907 300.627273 \nL 154.112134 300.617361 \nL 156.10836 300.617361 \nL 158.104587 300.587625 \nL 160.100813 300.538066 \nL 162.097039 300.498419 \nL 164.093266 300.438948 \nL 166.089492 300.349741 \nL 168.085719 300.270446 \nL 170.081945 300.270446 \nL 172.078171 300.121769 \nL 174.074398 300.121769 \nL 176.070624 299.685647 \nL 178.066851 299.685647 \nL 180.063077 298.615168 \nL 182.059303 296.860772 \nL 184.05553 294.65043 \nL 186.051756 294.65043 \nL 188.047983 290.487456 \nL 190.044209 285.561269 \nL 192.040435 285.561269 \nL 194.036662 278.395005 \nL 196.032888 278.395005 \nL 198.029115 270.415971 \nL 200.025341 270.415971 \nL 202.021567 262.456759 \nL 204.017794 262.456759 \nL 206.01402 252.57465 \nL 208.010247 242.058183 \nL 210.006473 242.058183 \nL 212.002699 232.304928 \nL 213.998926 222.412907 \nL 215.995152 222.412907 \nL 217.991379 213.125509 \nL 219.987605 213.125509 \nL 221.983831 201.796271 \nL 223.980058 188.970344 \nL 225.976284 188.970344 \nL 227.972511 177.165337 \nL 229.968737 165.2513 \nL 231.964963 165.2513 \nL 233.96119 165.2513 \nL 235.957416 139.361562 \nL 237.953643 139.361562 \nL 239.949869 126.426605 \nL 241.946095 126.426605 \nL 243.942322 126.426605 \nL 245.938548 115.929961 \nL 247.934775 106.176706 \nL 249.931001 106.176706 \nL 251.927227 97.394812 \nL 253.923454 88.969744 \nL 255.91968 88.969744 \nL 257.915907 82.110748 \nL 259.912133 82.110748 \nL 261.908359 75.539195 \nL 263.904586 70.375124 \nL 265.900812 65.171405 \nL 267.897039 60.929136 \nL 269.893265 60.929136 \nL 271.889491 57.400519 \nL 273.885718 54.387318 \nL 275.881944 54.387318 \nL 277.878171 51.106498 \nL 279.874397 51.106498 \nL 281.870623 42.830108 \nL 283.86685 42.830108 \nL 285.863076 39.24202 \nL 287.859303 35.951288 \nL 289.855529 31.917167 \nL 291.851755 27.962341 \nL 293.847982 27.962341 \nL 295.844208 27.962341 \nL 297.840435 23.918308 \nL 299.836661 23.918308 \nL 301.832887 21.172727 \nL 303.829114 21.172727 \nL 305.82534 21.172727 \nL 307.821567 21.172727 \nL 309.817793 21.172727 \nL 311.814019 21.172727 \nL 313.810246 21.172727 \nL 315.806472 21.172727 \nL 317.802699 21.172727 \nL 319.798925 21.172727 \nL 321.795151 21.172727 \nL 323.791378 21.172727 \n\" style=\"fill:none;stroke:#1f77b4;stroke-linecap:square;stroke-width:1.5;\"/>\n   </g>\n   <g id=\"line2d_37\">\n    <path clip-path=\"url(#pe4cf40082a)\" d=\"M 72.266851 300.627273 \nL 74.263078 300.627273 \nL 76.259304 300.627273 \nL 78.255531 300.627273 \nL 80.251757 300.627273 \nL 82.247983 300.627273 \nL 84.24421 300.627273 \nL 86.240436 300.627273 \nL 88.236663 300.627273 \nL 90.232889 300.627273 \nL 92.229115 300.627273 \nL 94.225342 300.627273 \nL 96.221568 300.627273 \nL 98.217795 300.627273 \nL 100.214021 300.627273 \nL 102.210247 300.627273 \nL 104.206474 300.627273 \nL 106.2027 300.627273 \nL 108.198927 300.627273 \nL 110.195153 300.627273 \nL 112.191379 300.627273 \nL 114.187606 300.627273 \nL 116.183832 300.627273 \nL 118.180059 300.627273 \nL 120.176285 300.627273 \nL 122.172511 300.627273 \nL 124.168738 300.627273 \nL 126.164964 300.627273 \nL 128.161191 300.627273 \nL 130.157417 300.627273 \nL 132.153643 300.627273 \nL 134.14987 300.627273 \nL 136.146096 300.627273 \nL 138.142323 300.627273 \nL 140.138549 300.627273 \nL 142.134775 300.627273 \nL 144.131002 300.627273 \nL 146.127228 300.627273 \nL 148.123455 300.627273 \nL 150.119681 300.627273 \nL 152.115907 300.627273 \nL 154.112134 300.627273 \nL 156.10836 300.627273 \nL 158.104587 300.627273 \nL 160.100813 300.627273 \nL 162.097039 300.627273 \nL 164.093266 300.627273 \nL 166.089492 300.627273 \nL 168.085719 300.627273 \nL 170.081945 300.627273 \nL 172.078171 300.627273 \nL 174.074398 300.627273 \nL 176.070624 300.627273 \nL 178.066851 300.627273 \nL 180.063077 300.627273 \nL 182.059303 300.617361 \nL 184.05553 300.597537 \nL 186.051756 300.597537 \nL 188.047983 300.538066 \nL 190.044209 300.458771 \nL 192.040435 300.458771 \nL 194.036662 300.310094 \nL 196.032888 300.310094 \nL 198.029115 300.13168 \nL 200.025341 300.13168 \nL 202.021567 299.933444 \nL 204.017794 299.933444 \nL 206.01402 299.685647 \nL 208.010247 299.418028 \nL 210.006473 299.418028 \nL 212.002699 299.120672 \nL 213.998926 298.833229 \nL 215.995152 298.833229 \nL 217.991379 298.545785 \nL 219.987605 298.545785 \nL 221.983831 298.1394 \nL 223.980058 297.723102 \nL 225.976284 297.723102 \nL 227.972511 297.277069 \nL 229.968737 296.751742 \nL 231.964963 296.751742 \nL 233.96119 296.751742 \nL 235.957416 295.582144 \nL 237.953643 295.582144 \nL 239.949869 294.977521 \nL 241.946095 294.977521 \nL 243.942322 294.977521 \nL 245.938548 294.472017 \nL 247.934775 293.936778 \nL 249.931001 293.936778 \nL 251.927227 293.431274 \nL 253.923454 292.995152 \nL 255.91968 292.995152 \nL 257.915907 292.638326 \nL 259.912133 292.638326 \nL 261.908359 292.261676 \nL 263.904586 291.934585 \nL 265.900812 291.617406 \nL 267.897039 291.339874 \nL 269.893265 291.339874 \nL 271.889491 291.082166 \nL 273.885718 290.814547 \nL 275.881944 290.814547 \nL 277.878171 290.556839 \nL 279.874397 290.556839 \nL 281.870623 290.110806 \nL 283.86685 290.110806 \nL 285.863076 289.912569 \nL 287.859303 289.724244 \nL 289.855529 289.535919 \nL 291.851755 289.357505 \nL 293.847982 289.357505 \nL 295.844208 289.357505 \nL 297.840435 289.189004 \nL 299.836661 289.189004 \nL 301.832887 289.010591 \nL 303.829114 289.010591 \nL 305.82534 289.010591 \nL 307.821567 289.010591 \nL 309.817793 289.010591 \nL 311.814019 289.010591 \nL 313.810246 289.010591 \nL 315.806472 289.010591 \nL 317.802699 289.010591 \nL 319.798925 289.010591 \nL 321.795151 289.010591 \nL 323.791378 289.010591 \n\" style=\"fill:none;stroke:#ff7f0e;stroke-linecap:square;stroke-width:1.5;\"/>\n   </g>\n   <g id=\"line2d_38\">\n    <path clip-path=\"url(#pe4cf40082a)\" d=\"M 72.266851 300.627273 \nL 74.263078 300.627273 \nL 76.259304 300.627273 \nL 78.255531 300.627273 \nL 80.251757 300.627273 \nL 82.247983 300.627273 \nL 84.24421 300.627273 \nL 86.240436 300.627273 \nL 88.236663 300.627273 \nL 90.232889 300.627273 \nL 92.229115 300.627273 \nL 94.225342 300.627273 \nL 96.221568 300.627273 \nL 98.217795 300.627273 \nL 100.214021 300.627273 \nL 102.210247 300.627273 \nL 104.206474 300.627273 \nL 106.2027 300.627273 \nL 108.198927 300.627273 \nL 110.195153 300.627273 \nL 112.191379 300.627273 \nL 114.187606 300.627273 \nL 116.183832 300.627273 \nL 118.180059 300.627273 \nL 120.176285 300.627273 \nL 122.172511 300.627273 \nL 124.168738 300.627273 \nL 126.164964 300.627273 \nL 128.161191 300.627273 \nL 130.157417 300.627273 \nL 132.153643 300.627273 \nL 134.14987 300.627273 \nL 136.146096 300.627273 \nL 138.142323 300.627273 \nL 140.138549 300.627273 \nL 142.134775 300.627273 \nL 144.131002 300.627273 \nL 146.127228 300.627273 \nL 148.123455 300.627273 \nL 150.119681 300.627273 \nL 152.115907 300.627273 \nL 154.112134 300.627273 \nL 156.10836 300.627273 \nL 158.104587 300.627273 \nL 160.100813 300.627273 \nL 162.097039 300.627273 \nL 164.093266 300.627273 \nL 166.089492 300.627273 \nL 168.085719 300.627273 \nL 170.081945 300.627273 \nL 172.078171 300.627273 \nL 174.074398 300.627273 \nL 176.070624 300.627273 \nL 178.066851 300.627273 \nL 180.063077 300.627273 \nL 182.059303 300.627273 \nL 184.05553 300.627273 \nL 186.051756 300.627273 \nL 188.047983 300.597537 \nL 190.044209 300.538066 \nL 192.040435 300.538066 \nL 194.036662 300.478595 \nL 196.032888 300.478595 \nL 198.029115 300.429036 \nL 200.025341 300.429036 \nL 202.021567 300.369565 \nL 204.017794 300.369565 \nL 206.01402 300.310094 \nL 208.010247 300.210975 \nL 210.006473 300.210975 \nL 212.002699 300.13168 \nL 213.998926 300.092033 \nL 215.995152 300.092033 \nL 217.991379 299.943355 \nL 219.987605 299.943355 \nL 221.983831 299.715383 \nL 223.980058 299.437851 \nL 225.976284 299.437851 \nL 227.972511 299.110761 \nL 229.968737 298.724199 \nL 231.964963 298.724199 \nL 233.96119 298.724199 \nL 235.957416 297.316717 \nL 237.953643 297.316717 \nL 239.949869 296.652623 \nL 241.946095 296.652623 \nL 243.942322 296.652623 \nL 245.938548 295.641615 \nL 247.934775 294.27378 \nL 249.931001 294.27378 \nL 251.927227 292.92577 \nL 253.923454 291.617406 \nL 255.91968 291.617406 \nL 257.915907 290.467632 \nL 259.912133 290.467632 \nL 261.908359 289.377329 \nL 263.904586 288.158172 \nL 265.900812 287.305754 \nL 267.897039 286.691219 \nL 269.893265 286.691219 \nL 271.889491 286.017214 \nL 273.885718 285.402679 \nL 275.881944 285.402679 \nL 277.878171 284.342112 \nL 279.874397 284.342112 \nL 281.870623 281.42803 \nL 283.86685 281.42803 \nL 285.863076 279.970989 \nL 287.859303 278.682449 \nL 289.855529 276.571226 \nL 291.851755 274.479827 \nL 293.847982 274.479827 \nL 295.844208 274.479827 \nL 297.840435 270.852092 \nL 299.836661 270.852092 \nL 301.832887 265.172605 \nL 303.829114 265.172605 \nL 305.82534 265.172605 \nL 307.821567 265.172605 \nL 309.817793 265.172605 \nL 311.814019 265.172605 \nL 313.810246 265.172605 \nL 315.806472 265.172605 \nL 317.802699 265.172605 \nL 319.798925 265.172605 \nL 321.795151 265.172605 \nL 323.791378 265.172605 \n\" style=\"fill:none;stroke:#2ca02c;stroke-linecap:square;stroke-width:1.5;\"/>\n   </g>\n   <g id=\"line2d_39\"/>\n   <g id=\"line2d_40\"/>\n   <g id=\"line2d_41\"/>\n   <g id=\"line2d_42\"/>\n   <g id=\"patch_3\">\n    <path d=\"M 59.690625 314.6 \nL 59.690625 7.2 \n\" style=\"fill:none;stroke:#000000;stroke-linecap:square;stroke-linejoin:miter;stroke-width:0.8;\"/>\n   </g>\n   <g id=\"patch_4\">\n    <path d=\"M 59.690625 314.6 \nL 336.367604 314.6 \n\" style=\"fill:none;stroke:#000000;stroke-linecap:square;stroke-linejoin:miter;stroke-width:0.8;\"/>\n   </g>\n  </g>\n  <g id=\"legend_1\">\n   <g id=\"line2d_43\">\n    <path d=\"M 341.698229 153.320312 \nL 361.698229 153.320312 \n\" style=\"fill:none;\"/>\n   </g>\n   <g id=\"line2d_44\"/>\n   <g id=\"text_13\">\n    <!-- C/D/R -->\n    <defs>\n     <path d=\"M 25.390625 72.90625 \nL 33.6875 72.90625 \nL 8.296875 -9.28125 \nL 0 -9.28125 \nz\n\" id=\"DejaVuSans-47\"/>\n     <path d=\"M 44.390625 34.1875 \nQ 47.5625 33.109375 50.5625 29.59375 \nQ 53.5625 26.078125 56.59375 19.921875 \nL 66.609375 0 \nL 56 0 \nL 46.6875 18.703125 \nQ 43.0625 26.03125 39.671875 28.421875 \nQ 36.28125 30.8125 30.421875 30.8125 \nL 19.671875 30.8125 \nL 19.671875 0 \nL 9.8125 0 \nL 9.8125 72.90625 \nL 32.078125 72.90625 \nQ 44.578125 72.90625 50.734375 67.671875 \nQ 56.890625 62.453125 56.890625 51.90625 \nQ 56.890625 45.015625 53.6875 40.46875 \nQ 50.484375 35.9375 44.390625 34.1875 \nz\nM 19.671875 64.796875 \nL 19.671875 38.921875 \nL 32.078125 38.921875 \nQ 39.203125 38.921875 42.84375 42.21875 \nQ 46.484375 45.515625 46.484375 51.90625 \nQ 46.484375 58.296875 42.84375 61.546875 \nQ 39.203125 64.796875 32.078125 64.796875 \nz\n\" id=\"DejaVuSans-82\"/>\n    </defs>\n    <g transform=\"translate(369.698229 156.820312)scale(0.1 -0.1)\">\n     <use xlink:href=\"#DejaVuSans-67\"/>\n     <use x=\"69.824219\" xlink:href=\"#DejaVuSans-47\"/>\n     <use x=\"103.515625\" xlink:href=\"#DejaVuSans-68\"/>\n     <use x=\"180.517578\" xlink:href=\"#DejaVuSans-47\"/>\n     <use x=\"214.208984\" xlink:href=\"#DejaVuSans-82\"/>\n    </g>\n   </g>\n   <g id=\"line2d_45\">\n    <path d=\"M 341.698229 167.998437 \nL 361.698229 167.998437 \n\" style=\"fill:none;stroke:#1f77b4;stroke-linecap:square;stroke-width:1.5;\"/>\n   </g>\n   <g id=\"line2d_46\"/>\n   <g id=\"text_14\">\n    <!-- Confirmed -->\n    <defs>\n     <path d=\"M 30.609375 48.390625 \nQ 23.390625 48.390625 19.1875 42.75 \nQ 14.984375 37.109375 14.984375 27.296875 \nQ 14.984375 17.484375 19.15625 11.84375 \nQ 23.34375 6.203125 30.609375 6.203125 \nQ 37.796875 6.203125 41.984375 11.859375 \nQ 46.1875 17.53125 46.1875 27.296875 \nQ 46.1875 37.015625 41.984375 42.703125 \nQ 37.796875 48.390625 30.609375 48.390625 \nz\nM 30.609375 56 \nQ 42.328125 56 49.015625 48.375 \nQ 55.71875 40.765625 55.71875 27.296875 \nQ 55.71875 13.875 49.015625 6.21875 \nQ 42.328125 -1.421875 30.609375 -1.421875 \nQ 18.84375 -1.421875 12.171875 6.21875 \nQ 5.515625 13.875 5.515625 27.296875 \nQ 5.515625 40.765625 12.171875 48.375 \nQ 18.84375 56 30.609375 56 \nz\n\" id=\"DejaVuSans-111\"/>\n     <path d=\"M 54.890625 33.015625 \nL 54.890625 0 \nL 45.90625 0 \nL 45.90625 32.71875 \nQ 45.90625 40.484375 42.875 44.328125 \nQ 39.84375 48.1875 33.796875 48.1875 \nQ 26.515625 48.1875 22.3125 43.546875 \nQ 18.109375 38.921875 18.109375 30.90625 \nL 18.109375 0 \nL 9.078125 0 \nL 9.078125 54.6875 \nL 18.109375 54.6875 \nL 18.109375 46.1875 \nQ 21.34375 51.125 25.703125 53.5625 \nQ 30.078125 56 35.796875 56 \nQ 45.21875 56 50.046875 50.171875 \nQ 54.890625 44.34375 54.890625 33.015625 \nz\n\" id=\"DejaVuSans-110\"/>\n     <path d=\"M 37.109375 75.984375 \nL 37.109375 68.5 \nL 28.515625 68.5 \nQ 23.6875 68.5 21.796875 66.546875 \nQ 19.921875 64.59375 19.921875 59.515625 \nL 19.921875 54.6875 \nL 34.71875 54.6875 \nL 34.71875 47.703125 \nL 19.921875 47.703125 \nL 19.921875 0 \nL 10.890625 0 \nL 10.890625 47.703125 \nL 2.296875 47.703125 \nL 2.296875 54.6875 \nL 10.890625 54.6875 \nL 10.890625 58.5 \nQ 10.890625 67.625 15.140625 71.796875 \nQ 19.390625 75.984375 28.609375 75.984375 \nz\n\" id=\"DejaVuSans-102\"/>\n     <path d=\"M 9.421875 54.6875 \nL 18.40625 54.6875 \nL 18.40625 0 \nL 9.421875 0 \nz\nM 9.421875 75.984375 \nL 18.40625 75.984375 \nL 18.40625 64.59375 \nL 9.421875 64.59375 \nz\n\" id=\"DejaVuSans-105\"/>\n     <path d=\"M 52 44.1875 \nQ 55.375 50.25 60.0625 53.125 \nQ 64.75 56 71.09375 56 \nQ 79.640625 56 84.28125 50.015625 \nQ 88.921875 44.046875 88.921875 33.015625 \nL 88.921875 0 \nL 79.890625 0 \nL 79.890625 32.71875 \nQ 79.890625 40.578125 77.09375 44.375 \nQ 74.3125 48.1875 68.609375 48.1875 \nQ 61.625 48.1875 57.5625 43.546875 \nQ 53.515625 38.921875 53.515625 30.90625 \nL 53.515625 0 \nL 44.484375 0 \nL 44.484375 32.71875 \nQ 44.484375 40.625 41.703125 44.40625 \nQ 38.921875 48.1875 33.109375 48.1875 \nQ 26.21875 48.1875 22.15625 43.53125 \nQ 18.109375 38.875 18.109375 30.90625 \nL 18.109375 0 \nL 9.078125 0 \nL 9.078125 54.6875 \nL 18.109375 54.6875 \nL 18.109375 46.1875 \nQ 21.1875 51.21875 25.484375 53.609375 \nQ 29.78125 56 35.6875 56 \nQ 41.65625 56 45.828125 52.96875 \nQ 50 49.953125 52 44.1875 \nz\n\" id=\"DejaVuSans-109\"/>\n     <path d=\"M 45.40625 46.390625 \nL 45.40625 75.984375 \nL 54.390625 75.984375 \nL 54.390625 0 \nL 45.40625 0 \nL 45.40625 8.203125 \nQ 42.578125 3.328125 38.25 0.953125 \nQ 33.9375 -1.421875 27.875 -1.421875 \nQ 17.96875 -1.421875 11.734375 6.484375 \nQ 5.515625 14.40625 5.515625 27.296875 \nQ 5.515625 40.1875 11.734375 48.09375 \nQ 17.96875 56 27.875 56 \nQ 33.9375 56 38.25 53.625 \nQ 42.578125 51.265625 45.40625 46.390625 \nz\nM 14.796875 27.296875 \nQ 14.796875 17.390625 18.875 11.75 \nQ 22.953125 6.109375 30.078125 6.109375 \nQ 37.203125 6.109375 41.296875 11.75 \nQ 45.40625 17.390625 45.40625 27.296875 \nQ 45.40625 37.203125 41.296875 42.84375 \nQ 37.203125 48.484375 30.078125 48.484375 \nQ 22.953125 48.484375 18.875 42.84375 \nQ 14.796875 37.203125 14.796875 27.296875 \nz\n\" id=\"DejaVuSans-100\"/>\n    </defs>\n    <g transform=\"translate(369.698229 171.498437)scale(0.1 -0.1)\">\n     <use xlink:href=\"#DejaVuSans-67\"/>\n     <use x=\"69.824219\" xlink:href=\"#DejaVuSans-111\"/>\n     <use x=\"131.005859\" xlink:href=\"#DejaVuSans-110\"/>\n     <use x=\"194.384766\" xlink:href=\"#DejaVuSans-102\"/>\n     <use x=\"229.589844\" xlink:href=\"#DejaVuSans-105\"/>\n     <use x=\"257.373047\" xlink:href=\"#DejaVuSans-114\"/>\n     <use x=\"296.736328\" xlink:href=\"#DejaVuSans-109\"/>\n     <use x=\"394.148438\" xlink:href=\"#DejaVuSans-101\"/>\n     <use x=\"455.671875\" xlink:href=\"#DejaVuSans-100\"/>\n    </g>\n   </g>\n   <g id=\"line2d_47\">\n    <path d=\"M 341.698229 182.676562 \nL 361.698229 182.676562 \n\" style=\"fill:none;stroke:#ff7f0e;stroke-linecap:square;stroke-width:1.5;\"/>\n   </g>\n   <g id=\"line2d_48\"/>\n   <g id=\"text_15\">\n    <!-- Deaths -->\n    <defs>\n     <path d=\"M 54.890625 33.015625 \nL 54.890625 0 \nL 45.90625 0 \nL 45.90625 32.71875 \nQ 45.90625 40.484375 42.875 44.328125 \nQ 39.84375 48.1875 33.796875 48.1875 \nQ 26.515625 48.1875 22.3125 43.546875 \nQ 18.109375 38.921875 18.109375 30.90625 \nL 18.109375 0 \nL 9.078125 0 \nL 9.078125 75.984375 \nL 18.109375 75.984375 \nL 18.109375 46.1875 \nQ 21.34375 51.125 25.703125 53.5625 \nQ 30.078125 56 35.796875 56 \nQ 45.21875 56 50.046875 50.171875 \nQ 54.890625 44.34375 54.890625 33.015625 \nz\n\" id=\"DejaVuSans-104\"/>\n    </defs>\n    <g transform=\"translate(369.698229 186.176562)scale(0.1 -0.1)\">\n     <use xlink:href=\"#DejaVuSans-68\"/>\n     <use x=\"77.001953\" xlink:href=\"#DejaVuSans-101\"/>\n     <use x=\"138.525391\" xlink:href=\"#DejaVuSans-97\"/>\n     <use x=\"199.804688\" xlink:href=\"#DejaVuSans-116\"/>\n     <use x=\"239.013672\" xlink:href=\"#DejaVuSans-104\"/>\n     <use x=\"302.392578\" xlink:href=\"#DejaVuSans-115\"/>\n    </g>\n   </g>\n   <g id=\"line2d_49\">\n    <path d=\"M 341.698229 197.354687 \nL 361.698229 197.354687 \n\" style=\"fill:none;stroke:#2ca02c;stroke-linecap:square;stroke-width:1.5;\"/>\n   </g>\n   <g id=\"line2d_50\"/>\n   <g id=\"text_16\">\n    <!-- Recovered -->\n    <defs>\n     <path d=\"M 48.78125 52.59375 \nL 48.78125 44.1875 \nQ 44.96875 46.296875 41.140625 47.34375 \nQ 37.3125 48.390625 33.40625 48.390625 \nQ 24.65625 48.390625 19.8125 42.84375 \nQ 14.984375 37.3125 14.984375 27.296875 \nQ 14.984375 17.28125 19.8125 11.734375 \nQ 24.65625 6.203125 33.40625 6.203125 \nQ 37.3125 6.203125 41.140625 7.25 \nQ 44.96875 8.296875 48.78125 10.40625 \nL 48.78125 2.09375 \nQ 45.015625 0.34375 40.984375 -0.53125 \nQ 36.96875 -1.421875 32.421875 -1.421875 \nQ 20.0625 -1.421875 12.78125 6.34375 \nQ 5.515625 14.109375 5.515625 27.296875 \nQ 5.515625 40.671875 12.859375 48.328125 \nQ 20.21875 56 33.015625 56 \nQ 37.15625 56 41.109375 55.140625 \nQ 45.0625 54.296875 48.78125 52.59375 \nz\n\" id=\"DejaVuSans-99\"/>\n     <path d=\"M 2.984375 54.6875 \nL 12.5 54.6875 \nL 29.59375 8.796875 \nL 46.6875 54.6875 \nL 56.203125 54.6875 \nL 35.6875 0 \nL 23.484375 0 \nz\n\" id=\"DejaVuSans-118\"/>\n    </defs>\n    <g transform=\"translate(369.698229 200.854687)scale(0.1 -0.1)\">\n     <use xlink:href=\"#DejaVuSans-82\"/>\n     <use x=\"64.982422\" xlink:href=\"#DejaVuSans-101\"/>\n     <use x=\"126.505859\" xlink:href=\"#DejaVuSans-99\"/>\n     <use x=\"181.486328\" xlink:href=\"#DejaVuSans-111\"/>\n     <use x=\"242.667969\" xlink:href=\"#DejaVuSans-118\"/>\n     <use x=\"301.847656\" xlink:href=\"#DejaVuSans-101\"/>\n     <use x=\"363.371094\" xlink:href=\"#DejaVuSans-114\"/>\n     <use x=\"402.234375\" xlink:href=\"#DejaVuSans-101\"/>\n     <use x=\"463.757812\" xlink:href=\"#DejaVuSans-100\"/>\n    </g>\n   </g>\n  </g>\n </g>\n <defs>\n  <clipPath id=\"pe4cf40082a\">\n   <rect height=\"307.4\" width=\"276.676979\" x=\"59.690625\" y=\"7.2\"/>\n  </clipPath>\n </defs>\n</svg>\n",
      "image/png": "[encoded data removed]"
     },
     "metadata": {
      "needs_background": "light"
     }
    },
    {
     "output_type": "display_data",
     "data": {
      "text/plain": "<Figure size 448.375x360 with 1 Axes>",
      "image/svg+xml": "<?xml version=\"1.0\" encoding=\"utf-8\" standalone=\"no\"?>\n<!DOCTYPE svg PUBLIC \"-//W3C//DTD SVG 1.1//EN\"\n  \"http://www.w3.org/Graphics/SVG/1.1/DTD/svg11.dtd\">\n<!-- Created with matplotlib (https://matplotlib.org/) -->\n<svg height=\"335.478125pt\" version=\"1.1\" viewBox=\"0 0 431.426354 335.478125\" width=\"431.426354pt\" xmlns=\"http://www.w3.org/2000/svg\" xmlns:xlink=\"http://www.w3.org/1999/xlink\">\n <defs>\n  <style type=\"text/css\">\n*{stroke-linecap:butt;stroke-linejoin:round;}\n  </style>\n </defs>\n <g id=\"figure_1\">\n  <g id=\"patch_1\">\n   <path d=\"M 0 335.478125 \nL 431.426354 335.478125 \nL 431.426354 0 \nL 0 0 \nz\n\" style=\"fill:none;\"/>\n  </g>\n  <g id=\"axes_1\">\n   <g id=\"patch_2\">\n    <path d=\"M 59.690625 314.6 \nL 336.367604 314.6 \nL 336.367604 7.2 \nL 59.690625 7.2 \nz\n\" style=\"fill:#ffffff;\"/>\n   </g>\n   <g id=\"matplotlib.axis_1\">\n    <g id=\"text_1\">\n     <!-- Date -->\n     <defs>\n      <path d=\"M 19.671875 64.796875 \nL 19.671875 8.109375 \nL 31.59375 8.109375 \nQ 46.6875 8.109375 53.6875 14.9375 \nQ 60.6875 21.78125 60.6875 36.53125 \nQ 60.6875 51.171875 53.6875 57.984375 \nQ 46.6875 64.796875 31.59375 64.796875 \nz\nM 9.8125 72.90625 \nL 30.078125 72.90625 \nQ 51.265625 72.90625 61.171875 64.09375 \nQ 71.09375 55.28125 71.09375 36.53125 \nQ 71.09375 17.671875 61.125 8.828125 \nQ 51.171875 0 30.078125 0 \nL 9.8125 0 \nz\n\" id=\"DejaVuSans-68\"/>\n      <path d=\"M 34.28125 27.484375 \nQ 23.390625 27.484375 19.1875 25 \nQ 14.984375 22.515625 14.984375 16.5 \nQ 14.984375 11.71875 18.140625 8.90625 \nQ 21.296875 6.109375 26.703125 6.109375 \nQ 34.1875 6.109375 38.703125 11.40625 \nQ 43.21875 16.703125 43.21875 25.484375 \nL 43.21875 27.484375 \nz\nM 52.203125 31.203125 \nL 52.203125 0 \nL 43.21875 0 \nL 43.21875 8.296875 \nQ 40.140625 3.328125 35.546875 0.953125 \nQ 30.953125 -1.421875 24.3125 -1.421875 \nQ 15.921875 -1.421875 10.953125 3.296875 \nQ 6 8.015625 6 15.921875 \nQ 6 25.140625 12.171875 29.828125 \nQ 18.359375 34.515625 30.609375 34.515625 \nL 43.21875 34.515625 \nL 43.21875 35.40625 \nQ 43.21875 41.609375 39.140625 45 \nQ 35.0625 48.390625 27.6875 48.390625 \nQ 23 48.390625 18.546875 47.265625 \nQ 14.109375 46.140625 10.015625 43.890625 \nL 10.015625 52.203125 \nQ 14.9375 54.109375 19.578125 55.046875 \nQ 24.21875 56 28.609375 56 \nQ 40.484375 56 46.34375 49.84375 \nQ 52.203125 43.703125 52.203125 31.203125 \nz\n\" id=\"DejaVuSans-97\"/>\n      <path d=\"M 18.3125 70.21875 \nL 18.3125 54.6875 \nL 36.8125 54.6875 \nL 36.8125 47.703125 \nL 18.3125 47.703125 \nL 18.3125 18.015625 \nQ 18.3125 11.328125 20.140625 9.421875 \nQ 21.96875 7.515625 27.59375 7.515625 \nL 36.8125 7.515625 \nL 36.8125 0 \nL 27.59375 0 \nQ 17.1875 0 13.234375 3.875 \nQ 9.28125 7.765625 9.28125 18.015625 \nL 9.28125 47.703125 \nL 2.6875 47.703125 \nL 2.6875 54.6875 \nL 9.28125 54.6875 \nL 9.28125 70.21875 \nz\n\" id=\"DejaVuSans-116\"/>\n      <path d=\"M 56.203125 29.59375 \nL 56.203125 25.203125 \nL 14.890625 25.203125 \nQ 15.484375 15.921875 20.484375 11.0625 \nQ 25.484375 6.203125 34.421875 6.203125 \nQ 39.59375 6.203125 44.453125 7.46875 \nQ 49.3125 8.734375 54.109375 11.28125 \nL 54.109375 2.78125 \nQ 49.265625 0.734375 44.1875 -0.34375 \nQ 39.109375 -1.421875 33.890625 -1.421875 \nQ 20.796875 -1.421875 13.15625 6.1875 \nQ 5.515625 13.8125 5.515625 26.8125 \nQ 5.515625 40.234375 12.765625 48.109375 \nQ 20.015625 56 32.328125 56 \nQ 43.359375 56 49.78125 48.890625 \nQ 56.203125 41.796875 56.203125 29.59375 \nz\nM 47.21875 32.234375 \nQ 47.125 39.59375 43.09375 43.984375 \nQ 39.0625 48.390625 32.421875 48.390625 \nQ 24.90625 48.390625 20.390625 44.140625 \nQ 15.875 39.890625 15.1875 32.171875 \nz\n\" id=\"DejaVuSans-101\"/>\n     </defs>\n     <g transform=\"translate(186.078333 326.198437)scale(0.1 -0.1)\">\n      <use xlink:href=\"#DejaVuSans-68\"/>\n      <use x=\"77.001953\" xlink:href=\"#DejaVuSans-97\"/>\n      <use x=\"138.28125\" xlink:href=\"#DejaVuSans-116\"/>\n      <use x=\"177.490234\" xlink:href=\"#DejaVuSans-101\"/>\n     </g>\n    </g>\n   </g>\n   <g id=\"matplotlib.axis_2\">\n    <g id=\"ytick_1\">\n     <g id=\"line2d_1\">\n      <path clip-path=\"url(#p0f94f18027)\" d=\"M 59.690625 300.627273 \nL 336.367604 300.627273 \n\" style=\"fill:none;stroke:#b0b0b0;stroke-linecap:square;stroke-width:0.8;\"/>\n     </g>\n     <g id=\"line2d_2\">\n      <defs>\n       <path d=\"M 0 0 \nL -3.5 0 \n\" id=\"m26ed73cb27\" style=\"stroke:#000000;stroke-width:0.8;\"/>\n      </defs>\n      <g>\n       <use style=\"stroke:#000000;stroke-width:0.8;\" x=\"59.690625\" xlink:href=\"#m26ed73cb27\" y=\"300.627273\"/>\n      </g>\n     </g>\n     <g id=\"text_2\">\n      <!-- 0 -->\n      <defs>\n       <path d=\"M 31.78125 66.40625 \nQ 24.171875 66.40625 20.328125 58.90625 \nQ 16.5 51.421875 16.5 36.375 \nQ 16.5 21.390625 20.328125 13.890625 \nQ 24.171875 6.390625 31.78125 6.390625 \nQ 39.453125 6.390625 43.28125 13.890625 \nQ 47.125 21.390625 47.125 36.375 \nQ 47.125 51.421875 43.28125 58.90625 \nQ 39.453125 66.40625 31.78125 66.40625 \nz\nM 31.78125 74.21875 \nQ 44.046875 74.21875 50.515625 64.515625 \nQ 56.984375 54.828125 56.984375 36.375 \nQ 56.984375 17.96875 50.515625 8.265625 \nQ 44.046875 -1.421875 31.78125 -1.421875 \nQ 19.53125 -1.421875 13.0625 8.265625 \nQ 6.59375 17.96875 6.59375 36.375 \nQ 6.59375 54.828125 13.0625 64.515625 \nQ 19.53125 74.21875 31.78125 74.21875 \nz\n\" id=\"DejaVuSans-48\"/>\n      </defs>\n      <g transform=\"translate(46.328125 304.426491)scale(0.1 -0.1)\">\n       <use xlink:href=\"#DejaVuSans-48\"/>\n      </g>\n     </g>\n    </g>\n    <g id=\"ytick_2\">\n     <g id=\"line2d_3\">\n      <path clip-path=\"url(#p0f94f18027)\" d=\"M 59.690625 253.914491 \nL 336.367604 253.914491 \n\" style=\"fill:none;stroke:#b0b0b0;stroke-linecap:square;stroke-width:0.8;\"/>\n     </g>\n     <g id=\"line2d_4\">\n      <g>\n       <use style=\"stroke:#000000;stroke-width:0.8;\" x=\"59.690625\" xlink:href=\"#m26ed73cb27\" y=\"253.914491\"/>\n      </g>\n     </g>\n     <g id=\"text_3\">\n      <!-- 5000 -->\n      <defs>\n       <path d=\"M 10.796875 72.90625 \nL 49.515625 72.90625 \nL 49.515625 64.59375 \nL 19.828125 64.59375 \nL 19.828125 46.734375 \nQ 21.96875 47.46875 24.109375 47.828125 \nQ 26.265625 48.1875 28.421875 48.1875 \nQ 40.625 48.1875 47.75 41.5 \nQ 54.890625 34.8125 54.890625 23.390625 \nQ 54.890625 11.625 47.5625 5.09375 \nQ 40.234375 -1.421875 26.90625 -1.421875 \nQ 22.3125 -1.421875 17.546875 -0.640625 \nQ 12.796875 0.140625 7.71875 1.703125 \nL 7.71875 11.625 \nQ 12.109375 9.234375 16.796875 8.0625 \nQ 21.484375 6.890625 26.703125 6.890625 \nQ 35.15625 6.890625 40.078125 11.328125 \nQ 45.015625 15.765625 45.015625 23.390625 \nQ 45.015625 31 40.078125 35.4375 \nQ 35.15625 39.890625 26.703125 39.890625 \nQ 22.75 39.890625 18.8125 39.015625 \nQ 14.890625 38.140625 10.796875 36.28125 \nz\n\" id=\"DejaVuSans-53\"/>\n      </defs>\n      <g transform=\"translate(27.240625 257.71371)scale(0.1 -0.1)\">\n       <use xlink:href=\"#DejaVuSans-53\"/>\n       <use x=\"63.623047\" xlink:href=\"#DejaVuSans-48\"/>\n       <use x=\"127.246094\" xlink:href=\"#DejaVuSans-48\"/>\n       <use x=\"190.869141\" xlink:href=\"#DejaVuSans-48\"/>\n      </g>\n     </g>\n    </g>\n    <g id=\"ytick_3\">\n     <g id=\"line2d_5\">\n      <path clip-path=\"url(#p0f94f18027)\" d=\"M 59.690625 207.201709 \nL 336.367604 207.201709 \n\" style=\"fill:none;stroke:#b0b0b0;stroke-linecap:square;stroke-width:0.8;\"/>\n     </g>\n     <g id=\"line2d_6\">\n      <g>\n       <use style=\"stroke:#000000;stroke-width:0.8;\" x=\"59.690625\" xlink:href=\"#m26ed73cb27\" y=\"207.201709\"/>\n      </g>\n     </g>\n     <g id=\"text_4\">\n      <!-- 10000 -->\n      <defs>\n       <path d=\"M 12.40625 8.296875 \nL 28.515625 8.296875 \nL 28.515625 63.921875 \nL 10.984375 60.40625 \nL 10.984375 69.390625 \nL 28.421875 72.90625 \nL 38.28125 72.90625 \nL 38.28125 8.296875 \nL 54.390625 8.296875 \nL 54.390625 0 \nL 12.40625 0 \nz\n\" id=\"DejaVuSans-49\"/>\n      </defs>\n      <g transform=\"translate(20.878125 211.000928)scale(0.1 -0.1)\">\n       <use xlink:href=\"#DejaVuSans-49\"/>\n       <use x=\"63.623047\" xlink:href=\"#DejaVuSans-48\"/>\n       <use x=\"127.246094\" xlink:href=\"#DejaVuSans-48\"/>\n       <use x=\"190.869141\" xlink:href=\"#DejaVuSans-48\"/>\n       <use x=\"254.492188\" xlink:href=\"#DejaVuSans-48\"/>\n      </g>\n     </g>\n    </g>\n    <g id=\"ytick_4\">\n     <g id=\"line2d_7\">\n      <path clip-path=\"url(#p0f94f18027)\" d=\"M 59.690625 160.488928 \nL 336.367604 160.488928 \n\" style=\"fill:none;stroke:#b0b0b0;stroke-linecap:square;stroke-width:0.8;\"/>\n     </g>\n     <g id=\"line2d_8\">\n      <g>\n       <use style=\"stroke:#000000;stroke-width:0.8;\" x=\"59.690625\" xlink:href=\"#m26ed73cb27\" y=\"160.488928\"/>\n      </g>\n     </g>\n     <g id=\"text_5\">\n      <!-- 15000 -->\n      <g transform=\"translate(20.878125 164.288146)scale(0.1 -0.1)\">\n       <use xlink:href=\"#DejaVuSans-49\"/>\n       <use x=\"63.623047\" xlink:href=\"#DejaVuSans-53\"/>\n       <use x=\"127.246094\" xlink:href=\"#DejaVuSans-48\"/>\n       <use x=\"190.869141\" xlink:href=\"#DejaVuSans-48\"/>\n       <use x=\"254.492188\" xlink:href=\"#DejaVuSans-48\"/>\n      </g>\n     </g>\n    </g>\n    <g id=\"ytick_5\">\n     <g id=\"line2d_9\">\n      <path clip-path=\"url(#p0f94f18027)\" d=\"M 59.690625 113.776146 \nL 336.367604 113.776146 \n\" style=\"fill:none;stroke:#b0b0b0;stroke-linecap:square;stroke-width:0.8;\"/>\n     </g>\n     <g id=\"line2d_10\">\n      <g>\n       <use style=\"stroke:#000000;stroke-width:0.8;\" x=\"59.690625\" xlink:href=\"#m26ed73cb27\" y=\"113.776146\"/>\n      </g>\n     </g>\n     <g id=\"text_6\">\n      <!-- 20000 -->\n      <defs>\n       <path d=\"M 19.1875 8.296875 \nL 53.609375 8.296875 \nL 53.609375 0 \nL 7.328125 0 \nL 7.328125 8.296875 \nQ 12.9375 14.109375 22.625 23.890625 \nQ 32.328125 33.6875 34.8125 36.53125 \nQ 39.546875 41.84375 41.421875 45.53125 \nQ 43.3125 49.21875 43.3125 52.78125 \nQ 43.3125 58.59375 39.234375 62.25 \nQ 35.15625 65.921875 28.609375 65.921875 \nQ 23.96875 65.921875 18.8125 64.3125 \nQ 13.671875 62.703125 7.8125 59.421875 \nL 7.8125 69.390625 \nQ 13.765625 71.78125 18.9375 73 \nQ 24.125 74.21875 28.421875 74.21875 \nQ 39.75 74.21875 46.484375 68.546875 \nQ 53.21875 62.890625 53.21875 53.421875 \nQ 53.21875 48.921875 51.53125 44.890625 \nQ 49.859375 40.875 45.40625 35.40625 \nQ 44.1875 33.984375 37.640625 27.21875 \nQ 31.109375 20.453125 19.1875 8.296875 \nz\n\" id=\"DejaVuSans-50\"/>\n      </defs>\n      <g transform=\"translate(20.878125 117.575365)scale(0.1 -0.1)\">\n       <use xlink:href=\"#DejaVuSans-50\"/>\n       <use x=\"63.623047\" xlink:href=\"#DejaVuSans-48\"/>\n       <use x=\"127.246094\" xlink:href=\"#DejaVuSans-48\"/>\n       <use x=\"190.869141\" xlink:href=\"#DejaVuSans-48\"/>\n       <use x=\"254.492188\" xlink:href=\"#DejaVuSans-48\"/>\n      </g>\n     </g>\n    </g>\n    <g id=\"ytick_6\">\n     <g id=\"line2d_11\">\n      <path clip-path=\"url(#p0f94f18027)\" d=\"M 59.690625 67.063364 \nL 336.367604 67.063364 \n\" style=\"fill:none;stroke:#b0b0b0;stroke-linecap:square;stroke-width:0.8;\"/>\n     </g>\n     <g id=\"line2d_12\">\n      <g>\n       <use style=\"stroke:#000000;stroke-width:0.8;\" x=\"59.690625\" xlink:href=\"#m26ed73cb27\" y=\"67.063364\"/>\n      </g>\n     </g>\n     <g id=\"text_7\">\n      <!-- 25000 -->\n      <g transform=\"translate(20.878125 70.862583)scale(0.1 -0.1)\">\n       <use xlink:href=\"#DejaVuSans-50\"/>\n       <use x=\"63.623047\" xlink:href=\"#DejaVuSans-53\"/>\n       <use x=\"127.246094\" xlink:href=\"#DejaVuSans-48\"/>\n       <use x=\"190.869141\" xlink:href=\"#DejaVuSans-48\"/>\n       <use x=\"254.492188\" xlink:href=\"#DejaVuSans-48\"/>\n      </g>\n     </g>\n    </g>\n    <g id=\"ytick_7\">\n     <g id=\"line2d_13\">\n      <path clip-path=\"url(#p0f94f18027)\" d=\"M 59.690625 20.350582 \nL 336.367604 20.350582 \n\" style=\"fill:none;stroke:#b0b0b0;stroke-linecap:square;stroke-width:0.8;\"/>\n     </g>\n     <g id=\"line2d_14\">\n      <g>\n       <use style=\"stroke:#000000;stroke-width:0.8;\" x=\"59.690625\" xlink:href=\"#m26ed73cb27\" y=\"20.350582\"/>\n      </g>\n     </g>\n     <g id=\"text_8\">\n      <!-- 30000 -->\n      <defs>\n       <path d=\"M 40.578125 39.3125 \nQ 47.65625 37.796875 51.625 33 \nQ 55.609375 28.21875 55.609375 21.1875 \nQ 55.609375 10.40625 48.1875 4.484375 \nQ 40.765625 -1.421875 27.09375 -1.421875 \nQ 22.515625 -1.421875 17.65625 -0.515625 \nQ 12.796875 0.390625 7.625 2.203125 \nL 7.625 11.71875 \nQ 11.71875 9.328125 16.59375 8.109375 \nQ 21.484375 6.890625 26.8125 6.890625 \nQ 36.078125 6.890625 40.9375 10.546875 \nQ 45.796875 14.203125 45.796875 21.1875 \nQ 45.796875 27.640625 41.28125 31.265625 \nQ 36.765625 34.90625 28.71875 34.90625 \nL 20.21875 34.90625 \nL 20.21875 43.015625 \nL 29.109375 43.015625 \nQ 36.375 43.015625 40.234375 45.921875 \nQ 44.09375 48.828125 44.09375 54.296875 \nQ 44.09375 59.90625 40.109375 62.90625 \nQ 36.140625 65.921875 28.71875 65.921875 \nQ 24.65625 65.921875 20.015625 65.03125 \nQ 15.375 64.15625 9.8125 62.3125 \nL 9.8125 71.09375 \nQ 15.4375 72.65625 20.34375 73.4375 \nQ 25.25 74.21875 29.59375 74.21875 \nQ 40.828125 74.21875 47.359375 69.109375 \nQ 53.90625 64.015625 53.90625 55.328125 \nQ 53.90625 49.265625 50.4375 45.09375 \nQ 46.96875 40.921875 40.578125 39.3125 \nz\n\" id=\"DejaVuSans-51\"/>\n      </defs>\n      <g transform=\"translate(20.878125 24.149801)scale(0.1 -0.1)\">\n       <use xlink:href=\"#DejaVuSans-51\"/>\n       <use x=\"63.623047\" xlink:href=\"#DejaVuSans-48\"/>\n       <use x=\"127.246094\" xlink:href=\"#DejaVuSans-48\"/>\n       <use x=\"190.869141\" xlink:href=\"#DejaVuSans-48\"/>\n       <use x=\"254.492188\" xlink:href=\"#DejaVuSans-48\"/>\n      </g>\n     </g>\n    </g>\n    <g id=\"text_9\">\n     <!-- Cases -->\n     <defs>\n      <path d=\"M 64.40625 67.28125 \nL 64.40625 56.890625 \nQ 59.421875 61.53125 53.78125 63.8125 \nQ 48.140625 66.109375 41.796875 66.109375 \nQ 29.296875 66.109375 22.65625 58.46875 \nQ 16.015625 50.828125 16.015625 36.375 \nQ 16.015625 21.96875 22.65625 14.328125 \nQ 29.296875 6.6875 41.796875 6.6875 \nQ 48.140625 6.6875 53.78125 8.984375 \nQ 59.421875 11.28125 64.40625 15.921875 \nL 64.40625 5.609375 \nQ 59.234375 2.09375 53.4375 0.328125 \nQ 47.65625 -1.421875 41.21875 -1.421875 \nQ 24.65625 -1.421875 15.125 8.703125 \nQ 5.609375 18.84375 5.609375 36.375 \nQ 5.609375 53.953125 15.125 64.078125 \nQ 24.65625 74.21875 41.21875 74.21875 \nQ 47.75 74.21875 53.53125 72.484375 \nQ 59.328125 70.75 64.40625 67.28125 \nz\n\" id=\"DejaVuSans-67\"/>\n      <path d=\"M 44.28125 53.078125 \nL 44.28125 44.578125 \nQ 40.484375 46.53125 36.375 47.5 \nQ 32.28125 48.484375 27.875 48.484375 \nQ 21.1875 48.484375 17.84375 46.4375 \nQ 14.5 44.390625 14.5 40.28125 \nQ 14.5 37.15625 16.890625 35.375 \nQ 19.28125 33.59375 26.515625 31.984375 \nL 29.59375 31.296875 \nQ 39.15625 29.25 43.1875 25.515625 \nQ 47.21875 21.78125 47.21875 15.09375 \nQ 47.21875 7.46875 41.1875 3.015625 \nQ 35.15625 -1.421875 24.609375 -1.421875 \nQ 20.21875 -1.421875 15.453125 -0.5625 \nQ 10.6875 0.296875 5.421875 2 \nL 5.421875 11.28125 \nQ 10.40625 8.6875 15.234375 7.390625 \nQ 20.0625 6.109375 24.8125 6.109375 \nQ 31.15625 6.109375 34.5625 8.28125 \nQ 37.984375 10.453125 37.984375 14.40625 \nQ 37.984375 18.0625 35.515625 20.015625 \nQ 33.0625 21.96875 24.703125 23.78125 \nL 21.578125 24.515625 \nQ 13.234375 26.265625 9.515625 29.90625 \nQ 5.8125 33.546875 5.8125 39.890625 \nQ 5.8125 47.609375 11.28125 51.796875 \nQ 16.75 56 26.8125 56 \nQ 31.78125 56 36.171875 55.265625 \nQ 40.578125 54.546875 44.28125 53.078125 \nz\n\" id=\"DejaVuSans-115\"/>\n     </defs>\n     <g transform=\"translate(14.798438 175.741406)rotate(-90)scale(0.1 -0.1)\">\n      <use xlink:href=\"#DejaVuSans-67\"/>\n      <use x=\"69.824219\" xlink:href=\"#DejaVuSans-97\"/>\n      <use x=\"131.103516\" xlink:href=\"#DejaVuSans-115\"/>\n      <use x=\"183.203125\" xlink:href=\"#DejaVuSans-101\"/>\n      <use x=\"244.726562\" xlink:href=\"#DejaVuSans-115\"/>\n     </g>\n    </g>\n   </g>\n   <g id=\"line2d_15\">\n    <path clip-path=\"url(#p0f94f18027)\" d=\"M 72.266851 300.627273 \nL 74.362889 300.627273 \nL 76.458927 300.627273 \nL 78.554964 300.627273 \nL 80.651002 300.627273 \nL 82.74704 300.627273 \nL 84.843078 300.627273 \nL 86.939115 300.627273 \nL 89.035153 300.627273 \nL 91.131191 300.627273 \nL 93.227229 300.627273 \nL 95.323266 300.627273 \nL 97.419304 300.627273 \nL 99.515342 300.627273 \nL 101.611379 300.627273 \nL 103.707417 300.627273 \nL 105.803455 300.627273 \nL 107.899493 300.627273 \nL 109.99553 300.627273 \nL 112.091568 300.627273 \nL 114.187606 300.627273 \nL 116.283643 300.627273 \nL 118.379681 300.627273 \nL 120.475719 300.627273 \nL 122.571757 300.627273 \nL 124.667794 300.627273 \nL 126.763832 300.627273 \nL 128.85987 300.627273 \nL 130.955908 300.627273 \nL 133.051945 300.627273 \nL 135.147983 300.627273 \nL 137.244021 300.627273 \nL 139.340058 300.627273 \nL 141.436096 300.627273 \nL 143.532134 300.627273 \nL 145.628172 300.627273 \nL 147.724209 300.627273 \nL 149.820247 300.627273 \nL 151.916285 300.627273 \nL 154.012322 300.627273 \nL 156.10836 300.608588 \nL 158.204398 300.608588 \nL 160.300436 300.58056 \nL 162.396473 300.552532 \nL 164.492511 300.505819 \nL 166.588549 300.440422 \nL 168.684586 300.346996 \nL 170.780624 300.346996 \nL 172.876662 300.244228 \nL 174.9727 300.076062 \nL 177.068737 300.076062 \nL 179.164775 299.580906 \nL 181.260813 299.048381 \nL 183.356851 298.338346 \nL 185.452888 297.534887 \nL 187.548926 296.441807 \nL 189.644964 296.441807 \nL 191.741001 293.293366 \nL 193.837039 291.097865 \nL 195.933077 288.668801 \nL 198.029115 285.679183 \nL 200.125152 281.381607 \nL 202.22119 278.560155 \nL 204.317228 272.646316 \nL 206.413265 267.517253 \nL 208.509303 260.753242 \nL 210.605341 252.326256 \nL 212.701379 244.926952 \nL 214.797416 240.760172 \nL 216.893454 231.090626 \nL 218.989492 223.54184 \nL 221.08553 216.226619 \nL 223.181567 208.266761 \nL 225.277605 202.30621 \nL 227.373643 195.261922 \nL 229.46968 191.039087 \nL 231.565718 184.387187 \nL 233.661756 177.85674 \nL 235.757794 170.242556 \nL 237.853831 156.079241 \nL 239.949869 151.267824 \nL 242.045907 145.680976 \nL 244.141944 142.420424 \nL 246.237982 137.61835 \nL 248.33402 131.611086 \nL 250.430058 124.604169 \nL 252.526095 122.913166 \nL 254.622133 116.719051 \nL 256.718171 111.851579 \nL 258.814208 105.71352 \nL 260.910246 100.892761 \nL 263.006284 95.259199 \nL 265.102322 91.793111 \nL 267.198359 87.645016 \nL 269.294397 82.086195 \nL 271.390435 77.676508 \nL 273.486473 76.153671 \nL 275.58251 73.397617 \nL 277.678548 71.687929 \nL 279.774586 66.642949 \nL 281.870623 63.784127 \nL 283.966661 65.288278 \nL 286.062699 64.428763 \nL 288.158737 62.167865 \nL 290.254774 60.504889 \nL 292.350812 56.020462 \nL 294.44685 51.04088 \nL 296.542887 45.874446 \nL 298.638925 44.585173 \nL 300.734963 42.950226 \nL 302.831001 42.034656 \nL 304.927038 39.848497 \nL 307.023076 37.802478 \nL 309.119114 36.05542 \nL 311.215152 33.588985 \nL 313.311189 31.468224 \nL 315.407227 29.356807 \nL 317.503265 27.740544 \nL 319.599302 25.657154 \nL 321.69534 23.527051 \nL 323.791378 21.172727 \n\" style=\"fill:none;stroke:#1f77b4;stroke-linecap:square;stroke-width:1.5;\"/>\n   </g>\n   <g id=\"line2d_16\">\n    <path clip-path=\"url(#p0f94f18027)\" d=\"M 72.266851 300.627273 \nL 74.362889 300.627273 \nL 76.458927 300.627273 \nL 78.554964 300.627273 \nL 80.651002 300.627273 \nL 82.74704 300.627273 \nL 84.843078 300.627273 \nL 86.939115 300.627273 \nL 89.035153 300.627273 \nL 91.131191 300.627273 \nL 93.227229 300.627273 \nL 95.323266 300.627273 \nL 97.419304 300.627273 \nL 99.515342 300.627273 \nL 101.611379 300.627273 \nL 103.707417 300.627273 \nL 105.803455 300.627273 \nL 107.899493 300.627273 \nL 109.99553 300.627273 \nL 112.091568 300.627273 \nL 114.187606 300.627273 \nL 116.283643 300.627273 \nL 118.379681 300.627273 \nL 120.475719 300.627273 \nL 122.571757 300.627273 \nL 124.667794 300.627273 \nL 126.763832 300.627273 \nL 128.85987 300.627273 \nL 130.955908 300.627273 \nL 133.051945 300.627273 \nL 135.147983 300.627273 \nL 137.244021 300.627273 \nL 139.340058 300.627273 \nL 141.436096 300.627273 \nL 143.532134 300.627273 \nL 145.628172 300.627273 \nL 147.724209 300.627273 \nL 149.820247 300.627273 \nL 151.916285 300.627273 \nL 154.012322 300.627273 \nL 156.10836 300.627273 \nL 158.204398 300.627273 \nL 160.300436 300.627273 \nL 162.396473 300.627273 \nL 164.492511 300.627273 \nL 166.588549 300.627273 \nL 168.684586 300.627273 \nL 170.780624 300.627273 \nL 172.876662 300.627273 \nL 174.9727 300.627273 \nL 177.068737 300.627273 \nL 179.164775 300.627273 \nL 181.260813 300.627273 \nL 183.356851 300.627273 \nL 185.452888 300.627273 \nL 187.548926 300.61793 \nL 189.644964 300.608588 \nL 191.741001 300.599245 \nL 193.837039 300.571217 \nL 195.933077 300.515162 \nL 198.029115 300.496477 \nL 200.125152 300.412394 \nL 202.22119 300.318968 \nL 204.317228 300.225543 \nL 206.413265 300.066719 \nL 208.509303 299.917238 \nL 210.605341 299.693017 \nL 212.701379 299.515509 \nL 214.797416 299.319315 \nL 216.893454 299.132464 \nL 218.989492 298.880215 \nL 221.08553 298.674678 \nL 223.181567 298.329004 \nL 225.277605 298.142153 \nL 227.373643 297.871219 \nL 229.46968 297.721738 \nL 231.565718 297.404091 \nL 233.661756 297.077101 \nL 235.757794 296.806167 \nL 237.853831 296.563261 \nL 239.949869 296.236271 \nL 242.045907 295.918624 \nL 244.141944 295.629005 \nL 246.237982 295.330043 \nL 248.33402 295.031081 \nL 250.430058 294.750805 \nL 252.526095 294.489213 \nL 254.622133 294.208937 \nL 256.718171 293.956687 \nL 258.814208 293.760494 \nL 260.910246 293.508245 \nL 263.006284 293.293366 \nL 265.102322 292.966377 \nL 267.198359 292.64873 \nL 269.294397 292.405823 \nL 271.390435 292.190944 \nL 273.486473 291.95738 \nL 275.58251 291.770529 \nL 277.678548 291.536965 \nL 279.774586 291.387484 \nL 281.870623 291.219318 \nL 283.966661 291.069838 \nL 286.062699 290.882986 \nL 288.158737 290.696135 \nL 290.254774 290.593367 \nL 292.350812 290.453229 \nL 294.44685 290.303748 \nL 296.542887 290.219665 \nL 298.638925 290.107554 \nL 300.734963 290.023471 \nL 302.831001 289.939388 \nL 304.927038 289.76188 \nL 307.023076 289.649769 \nL 309.119114 289.565686 \nL 311.215152 289.509631 \nL 313.311189 289.388177 \nL 315.407227 289.248039 \nL 317.503265 289.126586 \nL 319.599302 288.977105 \nL 321.69534 288.827624 \nL 323.791378 288.696828 \n\" style=\"fill:none;stroke:#ff7f0e;stroke-linecap:square;stroke-width:1.5;\"/>\n   </g>\n   <g id=\"line2d_17\">\n    <path clip-path=\"url(#p0f94f18027)\" d=\"M 72.266851 300.627273 \nL 74.362889 300.627273 \nL 76.458927 300.627273 \nL 78.554964 300.627273 \nL 80.651002 300.627273 \nL 82.74704 300.627273 \nL 84.843078 300.627273 \nL 86.939115 300.627273 \nL 89.035153 300.627273 \nL 91.131191 300.627273 \nL 93.227229 300.627273 \nL 95.323266 300.627273 \nL 97.419304 300.627273 \nL 99.515342 300.627273 \nL 101.611379 300.627273 \nL 103.707417 300.627273 \nL 105.803455 300.627273 \nL 107.899493 300.627273 \nL 109.99553 300.627273 \nL 112.091568 300.627273 \nL 114.187606 300.627273 \nL 116.283643 300.627273 \nL 118.379681 300.627273 \nL 120.475719 300.627273 \nL 122.571757 300.627273 \nL 124.667794 300.627273 \nL 126.763832 300.627273 \nL 128.85987 300.627273 \nL 130.955908 300.627273 \nL 133.051945 300.627273 \nL 135.147983 300.627273 \nL 137.244021 300.627273 \nL 139.340058 300.627273 \nL 141.436096 300.627273 \nL 143.532134 300.627273 \nL 145.628172 300.627273 \nL 147.724209 300.627273 \nL 149.820247 300.627273 \nL 151.916285 300.627273 \nL 154.012322 300.627273 \nL 156.10836 300.627273 \nL 158.204398 300.627273 \nL 160.300436 300.627273 \nL 162.396473 300.627273 \nL 164.492511 300.627273 \nL 166.588549 300.627273 \nL 168.684586 300.627273 \nL 170.780624 300.627273 \nL 172.876662 300.627273 \nL 174.9727 300.627273 \nL 177.068737 300.627273 \nL 179.164775 300.61793 \nL 181.260813 300.608588 \nL 183.356851 300.608588 \nL 185.452888 300.599245 \nL 187.548926 300.599245 \nL 189.644964 300.599245 \nL 191.741001 300.599245 \nL 193.837039 300.58056 \nL 195.933077 300.58056 \nL 198.029115 300.58056 \nL 200.125152 300.58056 \nL 202.22119 300.421736 \nL 204.317228 300.421736 \nL 206.413265 300.225543 \nL 208.509303 300.225543 \nL 210.605341 300.225543 \nL 212.701379 300.225543 \nL 214.797416 300.225543 \nL 216.893454 300.225543 \nL 218.989492 300.225543 \nL 221.08553 299.991979 \nL 223.181567 299.991979 \nL 225.277605 299.926581 \nL 227.373643 299.926581 \nL 229.46968 299.319315 \nL 231.565718 298.908242 \nL 233.661756 298.796132 \nL 235.757794 298.712049 \nL 237.853831 298.450457 \nL 239.949869 298.142153 \nL 242.045907 298.039385 \nL 244.141944 298.039385 \nL 246.237982 297.385406 \nL 248.33402 297.049074 \nL 250.430058 296.021392 \nL 252.526095 295.778486 \nL 254.622133 294.928313 \nL 256.718171 294.928313 \nL 258.814208 294.928313 \nL 260.910246 292.060149 \nL 263.006284 289.948731 \nL 265.102322 289.406863 \nL 267.198359 289.154614 \nL 269.294397 288.696828 \nL 271.390435 288.211015 \nL 273.486473 287.949424 \nL 275.58251 287.650462 \nL 277.678548 286.893715 \nL 279.774586 286.43593 \nL 281.870623 285.240082 \nL 283.966661 285.015861 \nL 286.062699 284.847695 \nL 288.158737 284.632816 \nL 290.254774 284.343197 \nL 292.350812 281.232126 \nL 294.44685 279.53178 \nL 296.542887 277.999601 \nL 298.638925 277.280224 \nL 300.734963 276.813097 \nL 302.831001 276.813097 \nL 304.927038 272.47815 \nL 307.023076 270.899258 \nL 309.119114 270.749778 \nL 311.215152 269.535245 \nL 313.311189 264.920022 \nL 315.407227 257.315182 \nL 317.503265 240.554635 \nL 319.599302 240.545293 \nL 321.69534 240.349099 \nL 323.791378 240.349099 \n\" style=\"fill:none;stroke:#2ca02c;stroke-linecap:square;stroke-width:1.5;\"/>\n   </g>\n   <g id=\"line2d_18\"/>\n   <g id=\"line2d_19\"/>\n   <g id=\"line2d_20\"/>\n   <g id=\"line2d_21\"/>\n   <g id=\"patch_3\">\n    <path d=\"M 59.690625 314.6 \nL 59.690625 7.2 \n\" style=\"fill:none;stroke:#000000;stroke-linecap:square;stroke-linejoin:miter;stroke-width:0.8;\"/>\n   </g>\n   <g id=\"patch_4\">\n    <path d=\"M 59.690625 314.6 \nL 336.367604 314.6 \n\" style=\"fill:none;stroke:#000000;stroke-linecap:square;stroke-linejoin:miter;stroke-width:0.8;\"/>\n   </g>\n  </g>\n  <g id=\"legend_1\">\n   <g id=\"line2d_22\">\n    <path d=\"M 341.698229 144.98125 \nL 361.698229 144.98125 \n\" style=\"fill:none;\"/>\n   </g>\n   <g id=\"line2d_23\"/>\n   <g id=\"text_10\">\n    <!-- C/D/R -->\n    <defs>\n     <path d=\"M 25.390625 72.90625 \nL 33.6875 72.90625 \nL 8.296875 -9.28125 \nL 0 -9.28125 \nz\n\" id=\"DejaVuSans-47\"/>\n     <path d=\"M 44.390625 34.1875 \nQ 47.5625 33.109375 50.5625 29.59375 \nQ 53.5625 26.078125 56.59375 19.921875 \nL 66.609375 0 \nL 56 0 \nL 46.6875 18.703125 \nQ 43.0625 26.03125 39.671875 28.421875 \nQ 36.28125 30.8125 30.421875 30.8125 \nL 19.671875 30.8125 \nL 19.671875 0 \nL 9.8125 0 \nL 9.8125 72.90625 \nL 32.078125 72.90625 \nQ 44.578125 72.90625 50.734375 67.671875 \nQ 56.890625 62.453125 56.890625 51.90625 \nQ 56.890625 45.015625 53.6875 40.46875 \nQ 50.484375 35.9375 44.390625 34.1875 \nz\nM 19.671875 64.796875 \nL 19.671875 38.921875 \nL 32.078125 38.921875 \nQ 39.203125 38.921875 42.84375 42.21875 \nQ 46.484375 45.515625 46.484375 51.90625 \nQ 46.484375 58.296875 42.84375 61.546875 \nQ 39.203125 64.796875 32.078125 64.796875 \nz\n\" id=\"DejaVuSans-82\"/>\n    </defs>\n    <g transform=\"translate(369.698229 148.48125)scale(0.1 -0.1)\">\n     <use xlink:href=\"#DejaVuSans-67\"/>\n     <use x=\"69.824219\" xlink:href=\"#DejaVuSans-47\"/>\n     <use x=\"103.515625\" xlink:href=\"#DejaVuSans-68\"/>\n     <use x=\"180.517578\" xlink:href=\"#DejaVuSans-47\"/>\n     <use x=\"214.208984\" xlink:href=\"#DejaVuSans-82\"/>\n    </g>\n   </g>\n   <g id=\"line2d_24\">\n    <path d=\"M 341.698229 159.659375 \nL 361.698229 159.659375 \n\" style=\"fill:none;stroke:#1f77b4;stroke-linecap:square;stroke-width:1.5;\"/>\n   </g>\n   <g id=\"line2d_25\"/>\n   <g id=\"text_11\">\n    <!-- Confirmed -->\n    <defs>\n     <path d=\"M 30.609375 48.390625 \nQ 23.390625 48.390625 19.1875 42.75 \nQ 14.984375 37.109375 14.984375 27.296875 \nQ 14.984375 17.484375 19.15625 11.84375 \nQ 23.34375 6.203125 30.609375 6.203125 \nQ 37.796875 6.203125 41.984375 11.859375 \nQ 46.1875 17.53125 46.1875 27.296875 \nQ 46.1875 37.015625 41.984375 42.703125 \nQ 37.796875 48.390625 30.609375 48.390625 \nz\nM 30.609375 56 \nQ 42.328125 56 49.015625 48.375 \nQ 55.71875 40.765625 55.71875 27.296875 \nQ 55.71875 13.875 49.015625 6.21875 \nQ 42.328125 -1.421875 30.609375 -1.421875 \nQ 18.84375 -1.421875 12.171875 6.21875 \nQ 5.515625 13.875 5.515625 27.296875 \nQ 5.515625 40.765625 12.171875 48.375 \nQ 18.84375 56 30.609375 56 \nz\n\" id=\"DejaVuSans-111\"/>\n     <path d=\"M 54.890625 33.015625 \nL 54.890625 0 \nL 45.90625 0 \nL 45.90625 32.71875 \nQ 45.90625 40.484375 42.875 44.328125 \nQ 39.84375 48.1875 33.796875 48.1875 \nQ 26.515625 48.1875 22.3125 43.546875 \nQ 18.109375 38.921875 18.109375 30.90625 \nL 18.109375 0 \nL 9.078125 0 \nL 9.078125 54.6875 \nL 18.109375 54.6875 \nL 18.109375 46.1875 \nQ 21.34375 51.125 25.703125 53.5625 \nQ 30.078125 56 35.796875 56 \nQ 45.21875 56 50.046875 50.171875 \nQ 54.890625 44.34375 54.890625 33.015625 \nz\n\" id=\"DejaVuSans-110\"/>\n     <path d=\"M 37.109375 75.984375 \nL 37.109375 68.5 \nL 28.515625 68.5 \nQ 23.6875 68.5 21.796875 66.546875 \nQ 19.921875 64.59375 19.921875 59.515625 \nL 19.921875 54.6875 \nL 34.71875 54.6875 \nL 34.71875 47.703125 \nL 19.921875 47.703125 \nL 19.921875 0 \nL 10.890625 0 \nL 10.890625 47.703125 \nL 2.296875 47.703125 \nL 2.296875 54.6875 \nL 10.890625 54.6875 \nL 10.890625 58.5 \nQ 10.890625 67.625 15.140625 71.796875 \nQ 19.390625 75.984375 28.609375 75.984375 \nz\n\" id=\"DejaVuSans-102\"/>\n     <path d=\"M 9.421875 54.6875 \nL 18.40625 54.6875 \nL 18.40625 0 \nL 9.421875 0 \nz\nM 9.421875 75.984375 \nL 18.40625 75.984375 \nL 18.40625 64.59375 \nL 9.421875 64.59375 \nz\n\" id=\"DejaVuSans-105\"/>\n     <path d=\"M 41.109375 46.296875 \nQ 39.59375 47.171875 37.8125 47.578125 \nQ 36.03125 48 33.890625 48 \nQ 26.265625 48 22.1875 43.046875 \nQ 18.109375 38.09375 18.109375 28.8125 \nL 18.109375 0 \nL 9.078125 0 \nL 9.078125 54.6875 \nL 18.109375 54.6875 \nL 18.109375 46.1875 \nQ 20.953125 51.171875 25.484375 53.578125 \nQ 30.03125 56 36.53125 56 \nQ 37.453125 56 38.578125 55.875 \nQ 39.703125 55.765625 41.0625 55.515625 \nz\n\" id=\"DejaVuSans-114\"/>\n     <path d=\"M 52 44.1875 \nQ 55.375 50.25 60.0625 53.125 \nQ 64.75 56 71.09375 56 \nQ 79.640625 56 84.28125 50.015625 \nQ 88.921875 44.046875 88.921875 33.015625 \nL 88.921875 0 \nL 79.890625 0 \nL 79.890625 32.71875 \nQ 79.890625 40.578125 77.09375 44.375 \nQ 74.3125 48.1875 68.609375 48.1875 \nQ 61.625 48.1875 57.5625 43.546875 \nQ 53.515625 38.921875 53.515625 30.90625 \nL 53.515625 0 \nL 44.484375 0 \nL 44.484375 32.71875 \nQ 44.484375 40.625 41.703125 44.40625 \nQ 38.921875 48.1875 33.109375 48.1875 \nQ 26.21875 48.1875 22.15625 43.53125 \nQ 18.109375 38.875 18.109375 30.90625 \nL 18.109375 0 \nL 9.078125 0 \nL 9.078125 54.6875 \nL 18.109375 54.6875 \nL 18.109375 46.1875 \nQ 21.1875 51.21875 25.484375 53.609375 \nQ 29.78125 56 35.6875 56 \nQ 41.65625 56 45.828125 52.96875 \nQ 50 49.953125 52 44.1875 \nz\n\" id=\"DejaVuSans-109\"/>\n     <path d=\"M 45.40625 46.390625 \nL 45.40625 75.984375 \nL 54.390625 75.984375 \nL 54.390625 0 \nL 45.40625 0 \nL 45.40625 8.203125 \nQ 42.578125 3.328125 38.25 0.953125 \nQ 33.9375 -1.421875 27.875 -1.421875 \nQ 17.96875 -1.421875 11.734375 6.484375 \nQ 5.515625 14.40625 5.515625 27.296875 \nQ 5.515625 40.1875 11.734375 48.09375 \nQ 17.96875 56 27.875 56 \nQ 33.9375 56 38.25 53.625 \nQ 42.578125 51.265625 45.40625 46.390625 \nz\nM 14.796875 27.296875 \nQ 14.796875 17.390625 18.875 11.75 \nQ 22.953125 6.109375 30.078125 6.109375 \nQ 37.203125 6.109375 41.296875 11.75 \nQ 45.40625 17.390625 45.40625 27.296875 \nQ 45.40625 37.203125 41.296875 42.84375 \nQ 37.203125 48.484375 30.078125 48.484375 \nQ 22.953125 48.484375 18.875 42.84375 \nQ 14.796875 37.203125 14.796875 27.296875 \nz\n\" id=\"DejaVuSans-100\"/>\n    </defs>\n    <g transform=\"translate(369.698229 163.159375)scale(0.1 -0.1)\">\n     <use xlink:href=\"#DejaVuSans-67\"/>\n     <use x=\"69.824219\" xlink:href=\"#DejaVuSans-111\"/>\n     <use x=\"131.005859\" xlink:href=\"#DejaVuSans-110\"/>\n     <use x=\"194.384766\" xlink:href=\"#DejaVuSans-102\"/>\n     <use x=\"229.589844\" xlink:href=\"#DejaVuSans-105\"/>\n     <use x=\"257.373047\" xlink:href=\"#DejaVuSans-114\"/>\n     <use x=\"296.736328\" xlink:href=\"#DejaVuSans-109\"/>\n     <use x=\"394.148438\" xlink:href=\"#DejaVuSans-101\"/>\n     <use x=\"455.671875\" xlink:href=\"#DejaVuSans-100\"/>\n    </g>\n   </g>\n   <g id=\"line2d_26\">\n    <path d=\"M 341.698229 174.3375 \nL 361.698229 174.3375 \n\" style=\"fill:none;stroke:#ff7f0e;stroke-linecap:square;stroke-width:1.5;\"/>\n   </g>\n   <g id=\"line2d_27\"/>\n   <g id=\"text_12\">\n    <!-- Deaths -->\n    <defs>\n     <path d=\"M 54.890625 33.015625 \nL 54.890625 0 \nL 45.90625 0 \nL 45.90625 32.71875 \nQ 45.90625 40.484375 42.875 44.328125 \nQ 39.84375 48.1875 33.796875 48.1875 \nQ 26.515625 48.1875 22.3125 43.546875 \nQ 18.109375 38.921875 18.109375 30.90625 \nL 18.109375 0 \nL 9.078125 0 \nL 9.078125 75.984375 \nL 18.109375 75.984375 \nL 18.109375 46.1875 \nQ 21.34375 51.125 25.703125 53.5625 \nQ 30.078125 56 35.796875 56 \nQ 45.21875 56 50.046875 50.171875 \nQ 54.890625 44.34375 54.890625 33.015625 \nz\n\" id=\"DejaVuSans-104\"/>\n    </defs>\n    <g transform=\"translate(369.698229 177.8375)scale(0.1 -0.1)\">\n     <use xlink:href=\"#DejaVuSans-68\"/>\n     <use x=\"77.001953\" xlink:href=\"#DejaVuSans-101\"/>\n     <use x=\"138.525391\" xlink:href=\"#DejaVuSans-97\"/>\n     <use x=\"199.804688\" xlink:href=\"#DejaVuSans-116\"/>\n     <use x=\"239.013672\" xlink:href=\"#DejaVuSans-104\"/>\n     <use x=\"302.392578\" xlink:href=\"#DejaVuSans-115\"/>\n    </g>\n   </g>\n   <g id=\"line2d_28\">\n    <path d=\"M 341.698229 189.015625 \nL 361.698229 189.015625 \n\" style=\"fill:none;stroke:#2ca02c;stroke-linecap:square;stroke-width:1.5;\"/>\n   </g>\n   <g id=\"line2d_29\"/>\n   <g id=\"text_13\">\n    <!-- Recovered -->\n    <defs>\n     <path d=\"M 48.78125 52.59375 \nL 48.78125 44.1875 \nQ 44.96875 46.296875 41.140625 47.34375 \nQ 37.3125 48.390625 33.40625 48.390625 \nQ 24.65625 48.390625 19.8125 42.84375 \nQ 14.984375 37.3125 14.984375 27.296875 \nQ 14.984375 17.28125 19.8125 11.734375 \nQ 24.65625 6.203125 33.40625 6.203125 \nQ 37.3125 6.203125 41.140625 7.25 \nQ 44.96875 8.296875 48.78125 10.40625 \nL 48.78125 2.09375 \nQ 45.015625 0.34375 40.984375 -0.53125 \nQ 36.96875 -1.421875 32.421875 -1.421875 \nQ 20.0625 -1.421875 12.78125 6.34375 \nQ 5.515625 14.109375 5.515625 27.296875 \nQ 5.515625 40.671875 12.859375 48.328125 \nQ 20.21875 56 33.015625 56 \nQ 37.15625 56 41.109375 55.140625 \nQ 45.0625 54.296875 48.78125 52.59375 \nz\n\" id=\"DejaVuSans-99\"/>\n     <path d=\"M 2.984375 54.6875 \nL 12.5 54.6875 \nL 29.59375 8.796875 \nL 46.6875 54.6875 \nL 56.203125 54.6875 \nL 35.6875 0 \nL 23.484375 0 \nz\n\" id=\"DejaVuSans-118\"/>\n    </defs>\n    <g transform=\"translate(369.698229 192.515625)scale(0.1 -0.1)\">\n     <use xlink:href=\"#DejaVuSans-82\"/>\n     <use x=\"64.982422\" xlink:href=\"#DejaVuSans-101\"/>\n     <use x=\"126.505859\" xlink:href=\"#DejaVuSans-99\"/>\n     <use x=\"181.486328\" xlink:href=\"#DejaVuSans-111\"/>\n     <use x=\"242.667969\" xlink:href=\"#DejaVuSans-118\"/>\n     <use x=\"301.847656\" xlink:href=\"#DejaVuSans-101\"/>\n     <use x=\"363.371094\" xlink:href=\"#DejaVuSans-114\"/>\n     <use x=\"402.234375\" xlink:href=\"#DejaVuSans-101\"/>\n     <use x=\"463.757812\" xlink:href=\"#DejaVuSans-100\"/>\n    </g>\n   </g>\n  </g>\n </g>\n <defs>\n  <clipPath id=\"p0f94f18027\">\n   <rect height=\"307.4\" width=\"276.676979\" x=\"59.690625\" y=\"7.2\"/>\n  </clipPath>\n </defs>\n</svg>\n",
      "image/png": "[encoded data removed]"
     },
     "metadata": {
      "needs_background": "light"
     }
    }
   ],
   "source": [
    "out = knn.predict(ip)\n",
    "\n",
    "nl = []\n",
    "\n",
    "for i,o in zip(ip,out):\n",
    "    nl.append([*i,*o])\n",
    "\n",
    "predict = pd.DataFrame(nl,columns=['Date','Confirmed','Deaths','Recovered'])\n",
    "\n",
    "predict['Date'] = predict['Date'].map(revertdaysSince) \n",
    "predict['Confirmed'] = predict['Confirmed'].map(lambda x: round((x/1000000) * 10202571))\n",
    "predict['Recovered'] = predict['Recovered'].map(lambda x: round((x/1000000) * 10202571))\n",
    "predict['Deaths'] = predict['Deaths'].map(lambda x: round((x/1000000) * 10202571) )\n",
    "\n",
    "\n",
    "print_graph(predict)\n",
    "print_graph(full_grouped.loc[full_grouped['Country/Region'] == 'Portugal'])\n"
   ]
  },
  {
   "cell_type": "code",
   "execution_count": null,
   "metadata": {},
   "outputs": [],
   "source": []
  }
 ],
 "metadata": {
  "kernelspec": {
   "display_name": "Python 3.8.2 64-bit",
   "language": "python",
   "name": "python38264bitced6809bf56b4dc489d15c59f4a8e014"
  },
  "language_info": {
   "codemirror_mode": {
    "name": "ipython",
    "version": 3
   },
   "file_extension": ".py",
   "mimetype": "text/x-python",
   "name": "python",
   "nbconvert_exporter": "python",
   "pygments_lexer": "ipython3",
   "version": "3.8.2-final"
  }
 },
 "nbformat": 4,
 "nbformat_minor": 4
}